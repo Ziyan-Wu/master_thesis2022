{
 "cells": [
  {
   "cell_type": "code",
   "execution_count": 102,
   "id": "b475d852",
   "metadata": {},
   "outputs": [],
   "source": [
    "%run ../../processed/myfuncs.ipynb"
   ]
  },
  {
   "cell_type": "markdown",
   "id": "9b359abb",
   "metadata": {},
   "source": [
    "# 01read"
   ]
  },
  {
   "cell_type": "markdown",
   "id": "9a84e349",
   "metadata": {},
   "source": [
    "## bounding box of city boundary"
   ]
  },
  {
   "cell_type": "code",
   "execution_count": 106,
   "id": "ad91c73b",
   "metadata": {},
   "outputs": [
    {
     "data": {
      "text/plain": [
       "(6.8158577, 53.1524112, 6.91386, 53.1858575)"
      ]
     },
     "execution_count": 106,
     "metadata": {},
     "output_type": "execute_result"
    }
   ],
   "source": [
    "import fiona\n",
    "\n",
    "shp_file = 'output/boundary.gpkg'\n",
    "c = fiona.open(shp_file)\n",
    "c.bounds # Returns (minx, miny, maxx, maxy)\n",
    "# (-8.621389, 49.911659, 1.749444, 60.844444)"
   ]
  },
  {
   "cell_type": "code",
   "execution_count": 107,
   "id": "2a032d05",
   "metadata": {},
   "outputs": [],
   "source": [
    "s = gpd.read_file(shp_file).to_crs(epsg=28992)\n",
    "# s.drop(columns=[\"zuid_po_ID\"], inplace=True)"
   ]
  },
  {
   "cell_type": "code",
   "execution_count": 108,
   "id": "c25c0eb3",
   "metadata": {},
   "outputs": [
    {
     "data": {
      "text/plain": [
       "<AxesSubplot:>"
      ]
     },
     "execution_count": 108,
     "metadata": {},
     "output_type": "execute_result"
    },
    {
     "data": {
      "image/png": "[encoded data removed]",
      "text/plain": [
       "<Figure size 432x288 with 1 Axes>"
      ]
     },
     "metadata": {
      "needs_background": "light"
     },
     "output_type": "display_data"
    }
   ],
   "source": [
    "s.plot()"
   ]
  },
  {
   "cell_type": "markdown",
   "id": "e2c7d5ff",
   "metadata": {},
   "source": [
    "## read BAG"
   ]
  },
  {
   "cell_type": "code",
   "execution_count": 63,
   "id": "5f1f000b",
   "metadata": {},
   "outputs": [],
   "source": [
    "path = '/Volumes/T7/workplace/icesat2/03zuidbroek/BAG/' # folder directory\n",
    "prefix = 'BAG/'\n",
    "geojson_filename = 'output/BAG_zuidbroek.geojson'"
   ]
  },
  {
   "cell_type": "code",
   "execution_count": null,
   "id": "3bbe0ddd",
   "metadata": {},
   "outputs": [],
   "source": []
  },
  {
   "cell_type": "code",
   "execution_count": 60,
   "id": "fc645c90",
   "metadata": {},
   "outputs": [
    {
     "name": "stdout",
     "output_type": "stream",
     "text": [
      "number of gpkg files: 3\n"
     ]
    }
   ],
   "source": [
    "files_gpkg = read_gpkgfiles(path)"
   ]
  },
  {
   "cell_type": "code",
   "execution_count": 61,
   "id": "5ef16b15",
   "metadata": {},
   "outputs": [
    {
     "name": "stdout",
     "output_type": "stream",
     "text": [
      "number of polygons(lod12): 2994\n"
     ]
    }
   ],
   "source": [
    "df1 = read_lod12(prefix, files_gpkg)"
   ]
  },
  {
   "cell_type": "code",
   "execution_count": 62,
   "id": "2f1c3ce5",
   "metadata": {},
   "outputs": [
    {
     "name": "stdout",
     "output_type": "stream",
     "text": [
      "number of polygons(pand): 3197\n"
     ]
    }
   ],
   "source": [
    "df2 = read_pand(prefix, files_gpkg)"
   ]
  },
  {
   "cell_type": "code",
   "execution_count": 70,
   "id": "a93a70ed",
   "metadata": {},
   "outputs": [
    {
     "name": "stdout",
     "output_type": "stream",
     "text": [
      "after merge: 2994\n"
     ]
    }
   ],
   "source": [
    "df_polygons = merge2df(df1, df2)"
   ]
  },
  {
   "cell_type": "code",
   "execution_count": null,
   "id": "5c0357f4",
   "metadata": {},
   "outputs": [],
   "source": [
    "# merged_2_pand.to_file(geojson_filename, driver='GeoJSON')"
   ]
  },
  {
   "cell_type": "markdown",
   "id": "eb28b3db",
   "metadata": {},
   "source": [
    "## read icesat-2"
   ]
  },
  {
   "cell_type": "code",
   "execution_count": 97,
   "id": "d6000f17",
   "metadata": {},
   "outputs": [],
   "source": [
    "path = '/Volumes/T7/workplace/icesat2/03zuidbroek/h5togpkg/' # folder directory\n",
    "prefix = 'h5togpkg/'\n",
    "dfpts_filename = 'output/icesat_zuidbroek.gpkg'"
   ]
  },
  {
   "cell_type": "code",
   "execution_count": 98,
   "id": "b129b641",
   "metadata": {},
   "outputs": [
    {
     "name": "stdout",
     "output_type": "stream",
     "text": [
      "number of gpkg files: 17\n"
     ]
    }
   ],
   "source": [
    "files_gpkg = read_h52gpkg(path)"
   ]
  },
  {
   "cell_type": "code",
   "execution_count": 103,
   "id": "f42df494",
   "metadata": {},
   "outputs": [
    {
     "name": "stdout",
     "output_type": "stream",
     "text": [
      "number of points: 207917\n"
     ]
    }
   ],
   "source": [
    "df_pts = read_pts(prefix, files_gpkg)"
   ]
  },
  {
   "cell_type": "code",
   "execution_count": 105,
   "id": "a5bbdefd",
   "metadata": {},
   "outputs": [],
   "source": [
    "# df_pts.to_file(dfpts_filename, driver=\"GPKG\")"
   ]
  }
 ],
 "metadata": {
  "kernelspec": {
   "display_name": "Python 3 (ipykernel)",
   "language": "python",
   "name": "python3"
  },
  "language_info": {
   "codemirror_mode": {
    "name": "ipython",
    "version": 3
   },
   "file_extension": ".py",
   "mimetype": "text/x-python",
   "name": "python",
   "nbconvert_exporter": "python",
   "pygments_lexer": "ipython3",
   "version": "3.8.12"
  }
 },
 "nbformat": 4,
 "nbformat_minor": 5
}
