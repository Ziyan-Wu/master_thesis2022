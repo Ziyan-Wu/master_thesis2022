{
 "cells": [
  {
   "cell_type": "code",
   "execution_count": 1,
   "id": "a7620fcf",
   "metadata": {},
   "outputs": [
    {
     "name": "stderr",
     "output_type": "stream",
     "text": [
      "┌ Info: Precompiling SpaceLiDAR [29bf0bfc-420f-4fa5-b441-811fd9e6e11d]\n",
      "└ @ Base loading.jl:1342\n",
      "\u001b[33m\u001b[1m┌ \u001b[22m\u001b[39m\u001b[33m\u001b[1mWarning: \u001b[22m\u001b[39mModule JLLWrappers with build ID 606349912540251 is missing from the cache.\n",
      "\u001b[33m\u001b[1m│ \u001b[22m\u001b[39mThis may mean JLLWrappers [692b3bcd-3c85-4b1f-b108-f13ce0eb3210] does not support precompilation but is imported by a module that does.\n",
      "\u001b[33m\u001b[1m└ \u001b[22m\u001b[39m\u001b[90m@ Base loading.jl:1030\u001b[39m\n",
      "\u001b[33m\u001b[1m┌ \u001b[22m\u001b[39m\u001b[33m\u001b[1mWarning: \u001b[22m\u001b[39mModule JLLWrappers with build ID 606349912540251 is missing from the cache.\n",
      "\u001b[33m\u001b[1m│ \u001b[22m\u001b[39mThis may mean JLLWrappers [692b3bcd-3c85-4b1f-b108-f13ce0eb3210] does not support precompilation but is imported by a module that does.\n",
      "\u001b[33m\u001b[1m└ \u001b[22m\u001b[39m\u001b[90m@ Base loading.jl:1030\u001b[39m\n",
      "\u001b[33m\u001b[1m┌ \u001b[22m\u001b[39m\u001b[33m\u001b[1mWarning: \u001b[22m\u001b[39mModule JLLWrappers with build ID 606349912540251 is missing from the cache.\n",
      "\u001b[33m\u001b[1m│ \u001b[22m\u001b[39mThis may mean JLLWrappers [692b3bcd-3c85-4b1f-b108-f13ce0eb3210] does not support precompilation but is imported by a module that does.\n",
      "\u001b[33m\u001b[1m└ \u001b[22m\u001b[39m\u001b[90m@ Base loading.jl:1030\u001b[39m\n",
      "\u001b[33m\u001b[1m┌ \u001b[22m\u001b[39m\u001b[33m\u001b[1mWarning: \u001b[22m\u001b[39mModule JLLWrappers with build ID 606349912540251 is missing from the cache.\n",
      "\u001b[33m\u001b[1m│ \u001b[22m\u001b[39mThis may mean JLLWrappers [692b3bcd-3c85-4b1f-b108-f13ce0eb3210] does not support precompilation but is imported by a module that does.\n",
      "\u001b[33m\u001b[1m└ \u001b[22m\u001b[39m\u001b[90m@ Base loading.jl:1030\u001b[39m\n",
      "\u001b[33m\u001b[1m┌ \u001b[22m\u001b[39m\u001b[33m\u001b[1mWarning: \u001b[22m\u001b[39mModule JLLWrappers with build ID 606349912540251 is missing from the cache.\n",
      "\u001b[33m\u001b[1m│ \u001b[22m\u001b[39mThis may mean JLLWrappers [692b3bcd-3c85-4b1f-b108-f13ce0eb3210] does not support precompilation but is imported by a module that does.\n",
      "\u001b[33m\u001b[1m└ \u001b[22m\u001b[39m\u001b[90m@ Base loading.jl:1030\u001b[39m\n",
      "\u001b[33m\u001b[1m┌ \u001b[22m\u001b[39m\u001b[33m\u001b[1mWarning: \u001b[22m\u001b[39mModule JLLWrappers with build ID 606349912540251 is missing from the cache.\n",
      "\u001b[33m\u001b[1m│ \u001b[22m\u001b[39mThis may mean JLLWrappers [692b3bcd-3c85-4b1f-b108-f13ce0eb3210] does not support precompilation but is imported by a module that does.\n",
      "\u001b[33m\u001b[1m└ \u001b[22m\u001b[39m\u001b[90m@ Base loading.jl:1030\u001b[39m\n",
      "\u001b[33m\u001b[1m┌ \u001b[22m\u001b[39m\u001b[33m\u001b[1mWarning: \u001b[22m\u001b[39mModule JLLWrappers with build ID 606349912540251 is missing from the cache.\n",
      "\u001b[33m\u001b[1m│ \u001b[22m\u001b[39mThis may mean JLLWrappers [692b3bcd-3c85-4b1f-b108-f13ce0eb3210] does not support precompilation but is imported by a module that does.\n",
      "\u001b[33m\u001b[1m└ \u001b[22m\u001b[39m\u001b[90m@ Base loading.jl:1030\u001b[39m\n",
      "\u001b[33m\u001b[1m┌ \u001b[22m\u001b[39m\u001b[33m\u001b[1mWarning: \u001b[22m\u001b[39mModule JLLWrappers with build ID 606349912540251 is missing from the cache.\n",
      "\u001b[33m\u001b[1m│ \u001b[22m\u001b[39mThis may mean JLLWrappers [692b3bcd-3c85-4b1f-b108-f13ce0eb3210] does not support precompilation but is imported by a module that does.\n",
      "\u001b[33m\u001b[1m└ \u001b[22m\u001b[39m\u001b[90m@ Base loading.jl:1030\u001b[39m\n",
      "\u001b[33m\u001b[1m┌ \u001b[22m\u001b[39m\u001b[33m\u001b[1mWarning: \u001b[22m\u001b[39mModule JLLWrappers with build ID 606349912540251 is missing from the cache.\n",
      "\u001b[33m\u001b[1m│ \u001b[22m\u001b[39mThis may mean JLLWrappers [692b3bcd-3c85-4b1f-b108-f13ce0eb3210] does not support precompilation but is imported by a module that does.\n",
      "\u001b[33m\u001b[1m└ \u001b[22m\u001b[39m\u001b[90m@ Base loading.jl:1030\u001b[39m\n",
      "\u001b[33m\u001b[1m┌ \u001b[22m\u001b[39m\u001b[33m\u001b[1mWarning: \u001b[22m\u001b[39mModule JLLWrappers with build ID 606349912540251 is missing from the cache.\n",
      "\u001b[33m\u001b[1m│ \u001b[22m\u001b[39mThis may mean JLLWrappers [692b3bcd-3c85-4b1f-b108-f13ce0eb3210] does not support precompilation but is imported by a module that does.\n",
      "\u001b[33m\u001b[1m└ \u001b[22m\u001b[39m\u001b[90m@ Base loading.jl:1030\u001b[39m\n",
      "\u001b[33m\u001b[1m┌ \u001b[22m\u001b[39m\u001b[33m\u001b[1mWarning: \u001b[22m\u001b[39mModule JLLWrappers with build ID 606349912540251 is missing from the cache.\n",
      "\u001b[33m\u001b[1m│ \u001b[22m\u001b[39mThis may mean JLLWrappers [692b3bcd-3c85-4b1f-b108-f13ce0eb3210] does not support precompilation but is imported by a module that does.\n",
      "\u001b[33m\u001b[1m└ \u001b[22m\u001b[39m\u001b[90m@ Base loading.jl:1030\u001b[39m\n",
      "\u001b[33m\u001b[1m┌ \u001b[22m\u001b[39m\u001b[33m\u001b[1mWarning: \u001b[22m\u001b[39mModule JLLWrappers with build ID 606349912540251 is missing from the cache.\n",
      "\u001b[33m\u001b[1m│ \u001b[22m\u001b[39mThis may mean JLLWrappers [692b3bcd-3c85-4b1f-b108-f13ce0eb3210] does not support precompilation but is imported by a module that does.\n",
      "\u001b[33m\u001b[1m└ \u001b[22m\u001b[39m\u001b[90m@ Base loading.jl:1030\u001b[39m\n",
      "\u001b[33m\u001b[1m┌ \u001b[22m\u001b[39m\u001b[33m\u001b[1mWarning: \u001b[22m\u001b[39mModule JLLWrappers with build ID 606349912540251 is missing from the cache.\n",
      "\u001b[33m\u001b[1m│ \u001b[22m\u001b[39mThis may mean JLLWrappers [692b3bcd-3c85-4b1f-b108-f13ce0eb3210] does not support precompilation but is imported by a module that does.\n",
      "\u001b[33m\u001b[1m└ \u001b[22m\u001b[39m\u001b[90m@ Base loading.jl:1030\u001b[39m\n",
      "\u001b[33m\u001b[1m┌ \u001b[22m\u001b[39m\u001b[33m\u001b[1mWarning: \u001b[22m\u001b[39mModule JLLWrappers with build ID 606349912540251 is missing from the cache.\n",
      "\u001b[33m\u001b[1m│ \u001b[22m\u001b[39mThis may mean JLLWrappers [692b3bcd-3c85-4b1f-b108-f13ce0eb3210] does not support precompilation but is imported by a module that does.\n",
      "\u001b[33m\u001b[1m└ \u001b[22m\u001b[39m\u001b[90m@ Base loading.jl:1030\u001b[39m\n",
      "\u001b[33m\u001b[1m┌ \u001b[22m\u001b[39m\u001b[33m\u001b[1mWarning: \u001b[22m\u001b[39mModule JLLWrappers with build ID 606349912540251 is missing from the cache.\n",
      "\u001b[33m\u001b[1m│ \u001b[22m\u001b[39mThis may mean JLLWrappers [692b3bcd-3c85-4b1f-b108-f13ce0eb3210] does not support precompilation but is imported by a module that does.\n",
      "\u001b[33m\u001b[1m└ \u001b[22m\u001b[39m\u001b[90m@ Base loading.jl:1030\u001b[39m\n",
      "\u001b[33m\u001b[1m┌ \u001b[22m\u001b[39m\u001b[33m\u001b[1mWarning: \u001b[22m\u001b[39mModule JLLWrappers with build ID 606349912540251 is missing from the cache.\n",
      "\u001b[33m\u001b[1m│ \u001b[22m\u001b[39mThis may mean JLLWrappers [692b3bcd-3c85-4b1f-b108-f13ce0eb3210] does not support precompilation but is imported by a module that does.\n",
      "\u001b[33m\u001b[1m└ \u001b[22m\u001b[39m\u001b[90m@ Base loading.jl:1030\u001b[39m\n",
      "┌ Info: Skipping precompilation since __precompile__(false). Importing SpaceLiDAR [29bf0bfc-420f-4fa5-b441-811fd9e6e11d].\n",
      "└ @ Base loading.jl:1047\n",
      "┌ Info: Precompiling GeoDataFrames [62cb38b5-d8d2-4862-a48e-6a340996859f]\n",
      "└ @ Base loading.jl:1342\n",
      "\u001b[33m\u001b[1m┌ \u001b[22m\u001b[39m\u001b[33m\u001b[1mWarning: \u001b[22m\u001b[39mModule JLLWrappers with build ID 606349912540251 is missing from the cache.\n",
      "\u001b[33m\u001b[1m│ \u001b[22m\u001b[39mThis may mean JLLWrappers [692b3bcd-3c85-4b1f-b108-f13ce0eb3210] does not support precompilation but is imported by a module that does.\n",
      "\u001b[33m\u001b[1m└ \u001b[22m\u001b[39m\u001b[90m@ Base loading.jl:1030\u001b[39m\n",
      "\u001b[33m\u001b[1m┌ \u001b[22m\u001b[39m\u001b[33m\u001b[1mWarning: \u001b[22m\u001b[39mModule JLLWrappers with build ID 606349912540251 is missing from the cache.\n",
      "\u001b[33m\u001b[1m│ \u001b[22m\u001b[39mThis may mean JLLWrappers [692b3bcd-3c85-4b1f-b108-f13ce0eb3210] does not support precompilation but is imported by a module that does.\n",
      "\u001b[33m\u001b[1m└ \u001b[22m\u001b[39m\u001b[90m@ Base loading.jl:1030\u001b[39m\n",
      "\u001b[33m\u001b[1m┌ \u001b[22m\u001b[39m\u001b[33m\u001b[1mWarning: \u001b[22m\u001b[39mModule JLLWrappers with build ID 606349912540251 is missing from the cache.\n",
      "\u001b[33m\u001b[1m│ \u001b[22m\u001b[39mThis may mean JLLWrappers [692b3bcd-3c85-4b1f-b108-f13ce0eb3210] does not support precompilation but is imported by a module that does.\n",
      "\u001b[33m\u001b[1m└ \u001b[22m\u001b[39m\u001b[90m@ Base loading.jl:1030\u001b[39m\n",
      "\u001b[33m\u001b[1m┌ \u001b[22m\u001b[39m\u001b[33m\u001b[1mWarning: \u001b[22m\u001b[39mModule JLLWrappers with build ID 606349912540251 is missing from the cache.\n",
      "\u001b[33m\u001b[1m│ \u001b[22m\u001b[39mThis may mean JLLWrappers [692b3bcd-3c85-4b1f-b108-f13ce0eb3210] does not support precompilation but is imported by a module that does.\n",
      "\u001b[33m\u001b[1m└ \u001b[22m\u001b[39m\u001b[90m@ Base loading.jl:1030\u001b[39m\n",
      "\u001b[33m\u001b[1m┌ \u001b[22m\u001b[39m\u001b[33m\u001b[1mWarning: \u001b[22m\u001b[39mModule JLLWrappers with build ID 606349912540251 is missing from the cache.\n",
      "\u001b[33m\u001b[1m│ \u001b[22m\u001b[39mThis may mean JLLWrappers [692b3bcd-3c85-4b1f-b108-f13ce0eb3210] does not support precompilation but is imported by a module that does.\n",
      "\u001b[33m\u001b[1m└ \u001b[22m\u001b[39m\u001b[90m@ Base loading.jl:1030\u001b[39m\n",
      "\u001b[33m\u001b[1m┌ \u001b[22m\u001b[39m\u001b[33m\u001b[1mWarning: \u001b[22m\u001b[39mModule JLLWrappers with build ID 606349912540251 is missing from the cache.\n",
      "\u001b[33m\u001b[1m│ \u001b[22m\u001b[39mThis may mean JLLWrappers [692b3bcd-3c85-4b1f-b108-f13ce0eb3210] does not support precompilation but is imported by a module that does.\n",
      "\u001b[33m\u001b[1m└ \u001b[22m\u001b[39m\u001b[90m@ Base loading.jl:1030\u001b[39m\n",
      "\u001b[33m\u001b[1m┌ \u001b[22m\u001b[39m\u001b[33m\u001b[1mWarning: \u001b[22m\u001b[39mModule JLLWrappers with build ID 606349912540251 is missing from the cache.\n",
      "\u001b[33m\u001b[1m│ \u001b[22m\u001b[39mThis may mean JLLWrappers [692b3bcd-3c85-4b1f-b108-f13ce0eb3210] does not support precompilation but is imported by a module that does.\n",
      "\u001b[33m\u001b[1m└ \u001b[22m\u001b[39m\u001b[90m@ Base loading.jl:1030\u001b[39m\n",
      "\u001b[33m\u001b[1m┌ \u001b[22m\u001b[39m\u001b[33m\u001b[1mWarning: \u001b[22m\u001b[39mModule JLLWrappers with build ID 606349912540251 is missing from the cache.\n",
      "\u001b[33m\u001b[1m│ \u001b[22m\u001b[39mThis may mean JLLWrappers [692b3bcd-3c85-4b1f-b108-f13ce0eb3210] does not support precompilation but is imported by a module that does.\n",
      "\u001b[33m\u001b[1m└ \u001b[22m\u001b[39m\u001b[90m@ Base loading.jl:1030\u001b[39m\n",
      "┌ Info: Skipping precompilation since __precompile__(false). Importing GeoDataFrames [62cb38b5-d8d2-4862-a48e-6a340996859f].\n",
      "└ @ Base loading.jl:1047\n",
      "┌ Info: Precompiling ArchGDAL [c9ce4bd3-c3d5-55b8-8973-c0e20141b8c3]\n",
      "└ @ Base loading.jl:1342\n"
     ]
    },
    {
     "name": "stderr",
     "output_type": "stream",
     "text": [
      "\u001b[33m\u001b[1m┌ \u001b[22m\u001b[39m\u001b[33m\u001b[1mWarning: \u001b[22m\u001b[39mModule JLLWrappers with build ID 606349912540251 is missing from the cache.\n",
      "\u001b[33m\u001b[1m│ \u001b[22m\u001b[39mThis may mean JLLWrappers [692b3bcd-3c85-4b1f-b108-f13ce0eb3210] does not support precompilation but is imported by a module that does.\n",
      "\u001b[33m\u001b[1m└ \u001b[22m\u001b[39m\u001b[90m@ Base loading.jl:1030\u001b[39m\n",
      "\u001b[33m\u001b[1m┌ \u001b[22m\u001b[39m\u001b[33m\u001b[1mWarning: \u001b[22m\u001b[39mModule JLLWrappers with build ID 606349912540251 is missing from the cache.\n",
      "\u001b[33m\u001b[1m│ \u001b[22m\u001b[39mThis may mean JLLWrappers [692b3bcd-3c85-4b1f-b108-f13ce0eb3210] does not support precompilation but is imported by a module that does.\n",
      "\u001b[33m\u001b[1m└ \u001b[22m\u001b[39m\u001b[90m@ Base loading.jl:1030\u001b[39m\n",
      "\u001b[33m\u001b[1m┌ \u001b[22m\u001b[39m\u001b[33m\u001b[1mWarning: \u001b[22m\u001b[39mModule JLLWrappers with build ID 606349912540251 is missing from the cache.\n",
      "\u001b[33m\u001b[1m│ \u001b[22m\u001b[39mThis may mean JLLWrappers [692b3bcd-3c85-4b1f-b108-f13ce0eb3210] does not support precompilation but is imported by a module that does.\n",
      "\u001b[33m\u001b[1m└ \u001b[22m\u001b[39m\u001b[90m@ Base loading.jl:1030\u001b[39m\n",
      "\u001b[33m\u001b[1m┌ \u001b[22m\u001b[39m\u001b[33m\u001b[1mWarning: \u001b[22m\u001b[39mModule JLLWrappers with build ID 606349912540251 is missing from the cache.\n",
      "\u001b[33m\u001b[1m│ \u001b[22m\u001b[39mThis may mean JLLWrappers [692b3bcd-3c85-4b1f-b108-f13ce0eb3210] does not support precompilation but is imported by a module that does.\n",
      "\u001b[33m\u001b[1m└ \u001b[22m\u001b[39m\u001b[90m@ Base loading.jl:1030\u001b[39m\n",
      "┌ Info: Skipping precompilation since __precompile__(false). Importing ArchGDAL [c9ce4bd3-c3d5-55b8-8973-c0e20141b8c3].\n",
      "└ @ Base loading.jl:1047\n",
      "┌ Info: Precompiling GDAL [add2ef01-049f-52c4-9ee2-e494f65e021a]\n",
      "└ @ Base loading.jl:1342\n",
      "\u001b[33m\u001b[1m┌ \u001b[22m\u001b[39m\u001b[33m\u001b[1mWarning: \u001b[22m\u001b[39mModule JLLWrappers with build ID 606349912540251 is missing from the cache.\n",
      "\u001b[33m\u001b[1m│ \u001b[22m\u001b[39mThis may mean JLLWrappers [692b3bcd-3c85-4b1f-b108-f13ce0eb3210] does not support precompilation but is imported by a module that does.\n",
      "\u001b[33m\u001b[1m└ \u001b[22m\u001b[39m\u001b[90m@ Base loading.jl:1030\u001b[39m\n",
      "\u001b[33m\u001b[1m┌ \u001b[22m\u001b[39m\u001b[33m\u001b[1mWarning: \u001b[22m\u001b[39mModule JLLWrappers with build ID 606349912540251 is missing from the cache.\n",
      "\u001b[33m\u001b[1m│ \u001b[22m\u001b[39mThis may mean JLLWrappers [692b3bcd-3c85-4b1f-b108-f13ce0eb3210] does not support precompilation but is imported by a module that does.\n",
      "\u001b[33m\u001b[1m└ \u001b[22m\u001b[39m\u001b[90m@ Base loading.jl:1030\u001b[39m\n",
      "┌ Info: Skipping precompilation since __precompile__(false). Importing GDAL [add2ef01-049f-52c4-9ee2-e494f65e021a].\n",
      "└ @ Base loading.jl:1047\n",
      "┌ Info: Precompiling GDAL_jll [a7073274-a066-55f0-b90d-d619367d196c]\n",
      "└ @ Base loading.jl:1342\n",
      "\u001b[33m\u001b[1m┌ \u001b[22m\u001b[39m\u001b[33m\u001b[1mWarning: \u001b[22m\u001b[39mModule JLLWrappers with build ID 606349912540251 is missing from the cache.\n",
      "\u001b[33m\u001b[1m│ \u001b[22m\u001b[39mThis may mean JLLWrappers [692b3bcd-3c85-4b1f-b108-f13ce0eb3210] does not support precompilation but is imported by a module that does.\n",
      "\u001b[33m\u001b[1m└ \u001b[22m\u001b[39m\u001b[90m@ Base loading.jl:1030\u001b[39m\n",
      "┌ Info: Skipping precompilation since __precompile__(false). Importing GDAL_jll [a7073274-a066-55f0-b90d-d619367d196c].\n",
      "└ @ Base loading.jl:1047\n",
      "┌ Info: Precompiling GEOS_jll [d604d12d-fa86-5845-992e-78dc15976526]\n",
      "└ @ Base loading.jl:1342\n",
      "\u001b[33m\u001b[1m┌ \u001b[22m\u001b[39m\u001b[33m\u001b[1mWarning: \u001b[22m\u001b[39mModule JLLWrappers with build ID 606349912540251 is missing from the cache.\n",
      "\u001b[33m\u001b[1m│ \u001b[22m\u001b[39mThis may mean JLLWrappers [692b3bcd-3c85-4b1f-b108-f13ce0eb3210] does not support precompilation but is imported by a module that does.\n",
      "\u001b[33m\u001b[1m└ \u001b[22m\u001b[39m\u001b[90m@ Base loading.jl:1030\u001b[39m\n",
      "┌ Info: Skipping precompilation since __precompile__(false). Importing GEOS_jll [d604d12d-fa86-5845-992e-78dc15976526].\n",
      "└ @ Base loading.jl:1047\n",
      "┌ Info: Precompiling PROJ_jll [58948b4f-47e0-5654-a9ad-f609743f8632]\n",
      "└ @ Base loading.jl:1342\n",
      "\u001b[33m\u001b[1m┌ \u001b[22m\u001b[39m\u001b[33m\u001b[1mWarning: \u001b[22m\u001b[39mModule JLLWrappers with build ID 606349912540251 is missing from the cache.\n",
      "\u001b[33m\u001b[1m│ \u001b[22m\u001b[39mThis may mean JLLWrappers [692b3bcd-3c85-4b1f-b108-f13ce0eb3210] does not support precompilation but is imported by a module that does.\n",
      "\u001b[33m\u001b[1m└ \u001b[22m\u001b[39m\u001b[90m@ Base loading.jl:1030\u001b[39m\n",
      "┌ Info: Skipping precompilation since __precompile__(false). Importing PROJ_jll [58948b4f-47e0-5654-a9ad-f609743f8632].\n",
      "└ @ Base loading.jl:1047\n",
      "┌ Info: Precompiling SQLite_jll [76ed43ae-9a5d-5a62-8c75-30186b810ce8]\n",
      "└ @ Base loading.jl:1342\n",
      "\u001b[33m\u001b[1m┌ \u001b[22m\u001b[39m\u001b[33m\u001b[1mWarning: \u001b[22m\u001b[39mModule JLLWrappers with build ID 606349912540251 is missing from the cache.\n",
      "\u001b[33m\u001b[1m│ \u001b[22m\u001b[39mThis may mean JLLWrappers [692b3bcd-3c85-4b1f-b108-f13ce0eb3210] does not support precompilation but is imported by a module that does.\n",
      "\u001b[33m\u001b[1m└ \u001b[22m\u001b[39m\u001b[90m@ Base loading.jl:1030\u001b[39m\n",
      "┌ Info: Skipping precompilation since __precompile__(false). Importing SQLite_jll [76ed43ae-9a5d-5a62-8c75-30186b810ce8].\n",
      "└ @ Base loading.jl:1047\n",
      "┌ Info: Precompiling Libtiff_jll [89763e89-9b03-5906-acba-b20f662cd828]\n",
      "└ @ Base loading.jl:1342\n",
      "\u001b[33m\u001b[1m┌ \u001b[22m\u001b[39m\u001b[33m\u001b[1mWarning: \u001b[22m\u001b[39mModule JLLWrappers with build ID 606349912540251 is missing from the cache.\n",
      "\u001b[33m\u001b[1m│ \u001b[22m\u001b[39mThis may mean JLLWrappers [692b3bcd-3c85-4b1f-b108-f13ce0eb3210] does not support precompilation but is imported by a module that does.\n",
      "\u001b[33m\u001b[1m└ \u001b[22m\u001b[39m\u001b[90m@ Base loading.jl:1030\u001b[39m\n",
      "┌ Info: Skipping precompilation since __precompile__(false). Importing Libtiff_jll [89763e89-9b03-5906-acba-b20f662cd828].\n",
      "└ @ Base loading.jl:1047\n",
      "┌ Info: Precompiling JpegTurbo_jll [aacddb02-875f-59d6-b918-886e6ef4fbf8]\n",
      "└ @ Base loading.jl:1342\n",
      "\u001b[33m\u001b[1m┌ \u001b[22m\u001b[39m\u001b[33m\u001b[1mWarning: \u001b[22m\u001b[39mModule JLLWrappers with build ID 606349912540251 is missing from the cache.\n",
      "\u001b[33m\u001b[1m│ \u001b[22m\u001b[39mThis may mean JLLWrappers [692b3bcd-3c85-4b1f-b108-f13ce0eb3210] does not support precompilation but is imported by a module that does.\n",
      "\u001b[33m\u001b[1m└ \u001b[22m\u001b[39m\u001b[90m@ Base loading.jl:1030\u001b[39m\n",
      "┌ Info: Skipping precompilation since __precompile__(false). Importing JpegTurbo_jll [aacddb02-875f-59d6-b918-886e6ef4fbf8].\n",
      "└ @ Base loading.jl:1047\n",
      "┌ Info: Precompiling LERC_jll [88015f11-f218-50d7-93a8-a6af411a945d]\n",
      "└ @ Base loading.jl:1342\n",
      "\u001b[33m\u001b[1m┌ \u001b[22m\u001b[39m\u001b[33m\u001b[1mWarning: \u001b[22m\u001b[39mModule JLLWrappers with build ID 606349912540251 is missing from the cache.\n",
      "\u001b[33m\u001b[1m│ \u001b[22m\u001b[39mThis may mean JLLWrappers [692b3bcd-3c85-4b1f-b108-f13ce0eb3210] does not support precompilation but is imported by a module that does.\n",
      "\u001b[33m\u001b[1m└ \u001b[22m\u001b[39m\u001b[90m@ Base loading.jl:1030\u001b[39m\n",
      "┌ Info: Skipping precompilation since __precompile__(false). Importing LERC_jll [88015f11-f218-50d7-93a8-a6af411a945d].\n",
      "└ @ Base loading.jl:1047\n",
      "┌ Info: Precompiling Zstd_jll [3161d3a3-bdf6-5164-811a-617609db77b4]\n",
      "└ @ Base loading.jl:1342\n",
      "\u001b[33m\u001b[1m┌ \u001b[22m\u001b[39m\u001b[33m\u001b[1mWarning: \u001b[22m\u001b[39mModule JLLWrappers with build ID 606349912540251 is missing from the cache.\n",
      "\u001b[33m\u001b[1m│ \u001b[22m\u001b[39mThis may mean JLLWrappers [692b3bcd-3c85-4b1f-b108-f13ce0eb3210] does not support precompilation but is imported by a module that does.\n",
      "\u001b[33m\u001b[1m└ \u001b[22m\u001b[39m\u001b[90m@ Base loading.jl:1030\u001b[39m\n",
      "┌ Info: Skipping precompilation since __precompile__(false). Importing Zstd_jll [3161d3a3-bdf6-5164-811a-617609db77b4].\n",
      "└ @ Base loading.jl:1047\n",
      "┌ Info: Precompiling OpenJpeg_jll [643b3616-a352-519d-856d-80112ee9badc]\n",
      "└ @ Base loading.jl:1342\n",
      "\u001b[33m\u001b[1m┌ \u001b[22m\u001b[39m\u001b[33m\u001b[1mWarning: \u001b[22m\u001b[39mModule JLLWrappers with build ID 606349912540251 is missing from the cache.\n",
      "\u001b[33m\u001b[1m│ \u001b[22m\u001b[39mThis may mean JLLWrappers [692b3bcd-3c85-4b1f-b108-f13ce0eb3210] does not support precompilation but is imported by a module that does.\n",
      "\u001b[33m\u001b[1m└ \u001b[22m\u001b[39m\u001b[90m@ Base loading.jl:1030\u001b[39m\n",
      "┌ Info: Skipping precompilation since __precompile__(false). Importing OpenJpeg_jll [643b3616-a352-519d-856d-80112ee9badc].\n",
      "└ @ Base loading.jl:1047\n",
      "┌ Info: Precompiling LittleCMS_jll [d3a379c0-f9a3-5b72-a4c0-6bf4d2e8af0f]\n",
      "└ @ Base loading.jl:1342\n",
      "\u001b[33m\u001b[1m┌ \u001b[22m\u001b[39m\u001b[33m\u001b[1mWarning: \u001b[22m\u001b[39mModule JLLWrappers with build ID 606349912540251 is missing from the cache.\n",
      "\u001b[33m\u001b[1m│ \u001b[22m\u001b[39mThis may mean JLLWrappers [692b3bcd-3c85-4b1f-b108-f13ce0eb3210] does not support precompilation but is imported by a module that does.\n",
      "\u001b[33m\u001b[1m└ \u001b[22m\u001b[39m\u001b[90m@ Base loading.jl:1030\u001b[39m\n",
      "┌ Info: Skipping precompilation since __precompile__(false). Importing LittleCMS_jll [d3a379c0-f9a3-5b72-a4c0-6bf4d2e8af0f].\n",
      "└ @ Base loading.jl:1047\n",
      "┌ Info: Precompiling libpng_jll [b53b4c65-9356-5827-b1ea-8c7a1a84506f]\n",
      "└ @ Base loading.jl:1342\n"
     ]
    },
    {
     "name": "stderr",
     "output_type": "stream",
     "text": [
      "\u001b[33m\u001b[1m┌ \u001b[22m\u001b[39m\u001b[33m\u001b[1mWarning: \u001b[22m\u001b[39mModule JLLWrappers with build ID 606349912540251 is missing from the cache.\n",
      "\u001b[33m\u001b[1m│ \u001b[22m\u001b[39mThis may mean JLLWrappers [692b3bcd-3c85-4b1f-b108-f13ce0eb3210] does not support precompilation but is imported by a module that does.\n",
      "\u001b[33m\u001b[1m└ \u001b[22m\u001b[39m\u001b[90m@ Base loading.jl:1030\u001b[39m\n",
      "┌ Info: Skipping precompilation since __precompile__(false). Importing libpng_jll [b53b4c65-9356-5827-b1ea-8c7a1a84506f].\n",
      "└ @ Base loading.jl:1047\n",
      "┌ Info: Precompiling Expat_jll [2e619515-83b5-522b-bb60-26c02a35a201]\n",
      "└ @ Base loading.jl:1342\n",
      "\u001b[33m\u001b[1m┌ \u001b[22m\u001b[39m\u001b[33m\u001b[1mWarning: \u001b[22m\u001b[39mModule JLLWrappers with build ID 606349912540251 is missing from the cache.\n",
      "\u001b[33m\u001b[1m│ \u001b[22m\u001b[39mThis may mean JLLWrappers [692b3bcd-3c85-4b1f-b108-f13ce0eb3210] does not support precompilation but is imported by a module that does.\n",
      "\u001b[33m\u001b[1m└ \u001b[22m\u001b[39m\u001b[90m@ Base loading.jl:1030\u001b[39m\n",
      "┌ Info: Skipping precompilation since __precompile__(false). Importing Expat_jll [2e619515-83b5-522b-bb60-26c02a35a201].\n",
      "└ @ Base loading.jl:1047\n",
      "┌ Info: Precompiling libgeotiff_jll [06c338fa-64ff-565b-ac2f-249532af990e]\n",
      "└ @ Base loading.jl:1342\n",
      "\u001b[33m\u001b[1m┌ \u001b[22m\u001b[39m\u001b[33m\u001b[1mWarning: \u001b[22m\u001b[39mModule JLLWrappers with build ID 606349912540251 is missing from the cache.\n",
      "\u001b[33m\u001b[1m│ \u001b[22m\u001b[39mThis may mean JLLWrappers [692b3bcd-3c85-4b1f-b108-f13ce0eb3210] does not support precompilation but is imported by a module that does.\n",
      "\u001b[33m\u001b[1m└ \u001b[22m\u001b[39m\u001b[90m@ Base loading.jl:1030\u001b[39m\n",
      "┌ Info: Skipping precompilation since __precompile__(false). Importing libgeotiff_jll [06c338fa-64ff-565b-ac2f-249532af990e].\n",
      "└ @ Base loading.jl:1047\n",
      "┌ Info: Precompiling ImageCore [a09fc81d-aa75-5fe9-8630-4744c3626534]\n",
      "└ @ Base loading.jl:1342\n",
      "\u001b[33m\u001b[1m┌ \u001b[22m\u001b[39m\u001b[33m\u001b[1mWarning: \u001b[22m\u001b[39mModule JLLWrappers with build ID 606349912540251 is missing from the cache.\n",
      "\u001b[33m\u001b[1m│ \u001b[22m\u001b[39mThis may mean JLLWrappers [692b3bcd-3c85-4b1f-b108-f13ce0eb3210] does not support precompilation but is imported by a module that does.\n",
      "\u001b[33m\u001b[1m└ \u001b[22m\u001b[39m\u001b[90m@ Base loading.jl:1030\u001b[39m\n",
      "\u001b[33m\u001b[1m┌ \u001b[22m\u001b[39m\u001b[33m\u001b[1mWarning: \u001b[22m\u001b[39mModule JLLWrappers with build ID 606349912540251 is missing from the cache.\n",
      "\u001b[33m\u001b[1m│ \u001b[22m\u001b[39mThis may mean JLLWrappers [692b3bcd-3c85-4b1f-b108-f13ce0eb3210] does not support precompilation but is imported by a module that does.\n",
      "\u001b[33m\u001b[1m└ \u001b[22m\u001b[39m\u001b[90m@ Base loading.jl:1030\u001b[39m\n",
      "\u001b[33m\u001b[1m┌ \u001b[22m\u001b[39m\u001b[33m\u001b[1mWarning: \u001b[22m\u001b[39mModule JLLWrappers with build ID 606349912540251 is missing from the cache.\n",
      "\u001b[33m\u001b[1m│ \u001b[22m\u001b[39mThis may mean JLLWrappers [692b3bcd-3c85-4b1f-b108-f13ce0eb3210] does not support precompilation but is imported by a module that does.\n",
      "\u001b[33m\u001b[1m└ \u001b[22m\u001b[39m\u001b[90m@ Base loading.jl:1030\u001b[39m\n",
      "\u001b[33m\u001b[1m┌ \u001b[22m\u001b[39m\u001b[33m\u001b[1mWarning: \u001b[22m\u001b[39mModule JLLWrappers with build ID 606349912540251 is missing from the cache.\n",
      "\u001b[33m\u001b[1m│ \u001b[22m\u001b[39mThis may mean JLLWrappers [692b3bcd-3c85-4b1f-b108-f13ce0eb3210] does not support precompilation but is imported by a module that does.\n",
      "\u001b[33m\u001b[1m└ \u001b[22m\u001b[39m\u001b[90m@ Base loading.jl:1030\u001b[39m\n",
      "\u001b[33m\u001b[1m┌ \u001b[22m\u001b[39m\u001b[33m\u001b[1mWarning: \u001b[22m\u001b[39mModule JLLWrappers with build ID 606349912540251 is missing from the cache.\n",
      "\u001b[33m\u001b[1m│ \u001b[22m\u001b[39mThis may mean JLLWrappers [692b3bcd-3c85-4b1f-b108-f13ce0eb3210] does not support precompilation but is imported by a module that does.\n",
      "\u001b[33m\u001b[1m└ \u001b[22m\u001b[39m\u001b[90m@ Base loading.jl:1030\u001b[39m\n",
      "\u001b[33m\u001b[1m┌ \u001b[22m\u001b[39m\u001b[33m\u001b[1mWarning: \u001b[22m\u001b[39mModule JLLWrappers with build ID 606349912540251 is missing from the cache.\n",
      "\u001b[33m\u001b[1m│ \u001b[22m\u001b[39mThis may mean JLLWrappers [692b3bcd-3c85-4b1f-b108-f13ce0eb3210] does not support precompilation but is imported by a module that does.\n",
      "\u001b[33m\u001b[1m└ \u001b[22m\u001b[39m\u001b[90m@ Base loading.jl:1030\u001b[39m\n",
      "\u001b[33m\u001b[1m┌ \u001b[22m\u001b[39m\u001b[33m\u001b[1mWarning: \u001b[22m\u001b[39mModule JLLWrappers with build ID 606349912540251 is missing from the cache.\n",
      "\u001b[33m\u001b[1m│ \u001b[22m\u001b[39mThis may mean JLLWrappers [692b3bcd-3c85-4b1f-b108-f13ce0eb3210] does not support precompilation but is imported by a module that does.\n",
      "\u001b[33m\u001b[1m└ \u001b[22m\u001b[39m\u001b[90m@ Base loading.jl:1030\u001b[39m\n",
      "\u001b[33m\u001b[1m┌ \u001b[22m\u001b[39m\u001b[33m\u001b[1mWarning: \u001b[22m\u001b[39mModule JLLWrappers with build ID 606349912540251 is missing from the cache.\n",
      "\u001b[33m\u001b[1m│ \u001b[22m\u001b[39mThis may mean JLLWrappers [692b3bcd-3c85-4b1f-b108-f13ce0eb3210] does not support precompilation but is imported by a module that does.\n",
      "\u001b[33m\u001b[1m└ \u001b[22m\u001b[39m\u001b[90m@ Base loading.jl:1030\u001b[39m\n",
      "┌ Info: Skipping precompilation since __precompile__(false). Importing ImageCore [a09fc81d-aa75-5fe9-8630-4744c3626534].\n",
      "└ @ Base loading.jl:1047\n",
      "┌ Info: Precompiling ColorVectorSpace [c3611d14-8923-5661-9e6a-0046d554d3a4]\n",
      "└ @ Base loading.jl:1342\n",
      "\u001b[33m\u001b[1m┌ \u001b[22m\u001b[39m\u001b[33m\u001b[1mWarning: \u001b[22m\u001b[39mModule JLLWrappers with build ID 606349912540251 is missing from the cache.\n",
      "\u001b[33m\u001b[1m│ \u001b[22m\u001b[39mThis may mean JLLWrappers [692b3bcd-3c85-4b1f-b108-f13ce0eb3210] does not support precompilation but is imported by a module that does.\n",
      "\u001b[33m\u001b[1m└ \u001b[22m\u001b[39m\u001b[90m@ Base loading.jl:1030\u001b[39m\n",
      "\u001b[33m\u001b[1m┌ \u001b[22m\u001b[39m\u001b[33m\u001b[1mWarning: \u001b[22m\u001b[39mModule JLLWrappers with build ID 606349912540251 is missing from the cache.\n",
      "\u001b[33m\u001b[1m│ \u001b[22m\u001b[39mThis may mean JLLWrappers [692b3bcd-3c85-4b1f-b108-f13ce0eb3210] does not support precompilation but is imported by a module that does.\n",
      "\u001b[33m\u001b[1m└ \u001b[22m\u001b[39m\u001b[90m@ Base loading.jl:1030\u001b[39m\n",
      "\u001b[33m\u001b[1m┌ \u001b[22m\u001b[39m\u001b[33m\u001b[1mWarning: \u001b[22m\u001b[39mModule JLLWrappers with build ID 606349912540251 is missing from the cache.\n",
      "\u001b[33m\u001b[1m│ \u001b[22m\u001b[39mThis may mean JLLWrappers [692b3bcd-3c85-4b1f-b108-f13ce0eb3210] does not support precompilation but is imported by a module that does.\n",
      "\u001b[33m\u001b[1m└ \u001b[22m\u001b[39m\u001b[90m@ Base loading.jl:1030\u001b[39m\n",
      "\u001b[33m\u001b[1m┌ \u001b[22m\u001b[39m\u001b[33m\u001b[1mWarning: \u001b[22m\u001b[39mModule JLLWrappers with build ID 606349912540251 is missing from the cache.\n",
      "\u001b[33m\u001b[1m│ \u001b[22m\u001b[39mThis may mean JLLWrappers [692b3bcd-3c85-4b1f-b108-f13ce0eb3210] does not support precompilation but is imported by a module that does.\n",
      "\u001b[33m\u001b[1m└ \u001b[22m\u001b[39m\u001b[90m@ Base loading.jl:1030\u001b[39m\n",
      "┌ Info: Skipping precompilation since __precompile__(false). Importing ColorVectorSpace [c3611d14-8923-5661-9e6a-0046d554d3a4].\n",
      "└ @ Base loading.jl:1047\n",
      "┌ Info: Precompiling SpecialFunctions [276daf66-3868-5448-9aa4-cd146d93841b]\n",
      "└ @ Base loading.jl:1342\n",
      "\u001b[33m\u001b[1m┌ \u001b[22m\u001b[39m\u001b[33m\u001b[1mWarning: \u001b[22m\u001b[39mModule JLLWrappers with build ID 606349912540251 is missing from the cache.\n",
      "\u001b[33m\u001b[1m│ \u001b[22m\u001b[39mThis may mean JLLWrappers [692b3bcd-3c85-4b1f-b108-f13ce0eb3210] does not support precompilation but is imported by a module that does.\n",
      "\u001b[33m\u001b[1m└ \u001b[22m\u001b[39m\u001b[90m@ Base loading.jl:1030\u001b[39m\n",
      "\u001b[33m\u001b[1m┌ \u001b[22m\u001b[39m\u001b[33m\u001b[1mWarning: \u001b[22m\u001b[39mModule JLLWrappers with build ID 606349912540251 is missing from the cache.\n",
      "\u001b[33m\u001b[1m│ \u001b[22m\u001b[39mThis may mean JLLWrappers [692b3bcd-3c85-4b1f-b108-f13ce0eb3210] does not support precompilation but is imported by a module that does.\n",
      "\u001b[33m\u001b[1m└ \u001b[22m\u001b[39m\u001b[90m@ Base loading.jl:1030\u001b[39m\n",
      "┌ Info: Skipping precompilation since __precompile__(false). Importing SpecialFunctions [276daf66-3868-5448-9aa4-cd146d93841b].\n",
      "└ @ Base loading.jl:1047\n",
      "┌ Info: Precompiling OpenSpecFun_jll [efe28fd5-8261-553b-a9e1-b2916fc3738e]\n",
      "└ @ Base loading.jl:1342\n",
      "\u001b[33m\u001b[1m┌ \u001b[22m\u001b[39m\u001b[33m\u001b[1mWarning: \u001b[22m\u001b[39mModule JLLWrappers with build ID 606349912540251 is missing from the cache.\n",
      "\u001b[33m\u001b[1m│ \u001b[22m\u001b[39mThis may mean JLLWrappers [692b3bcd-3c85-4b1f-b108-f13ce0eb3210] does not support precompilation but is imported by a module that does.\n",
      "\u001b[33m\u001b[1m└ \u001b[22m\u001b[39m\u001b[90m@ Base loading.jl:1030\u001b[39m\n",
      "┌ Info: Skipping precompilation since __precompile__(false). Importing OpenSpecFun_jll [efe28fd5-8261-553b-a9e1-b2916fc3738e].\n",
      "└ @ Base loading.jl:1047\n",
      "┌ Info: Precompiling HDF5 [f67ccb44-e63f-5c2f-98bd-6dc0ccc4ba2f]\n",
      "└ @ Base loading.jl:1342\n",
      "\u001b[33m\u001b[1m┌ \u001b[22m\u001b[39m\u001b[33m\u001b[1mWarning: \u001b[22m\u001b[39mModule JLLWrappers with build ID 606349912540251 is missing from the cache.\n",
      "\u001b[33m\u001b[1m│ \u001b[22m\u001b[39mThis may mean JLLWrappers [692b3bcd-3c85-4b1f-b108-f13ce0eb3210] does not support precompilation but is imported by a module that does.\n",
      "\u001b[33m\u001b[1m└ \u001b[22m\u001b[39m\u001b[90m@ Base loading.jl:1030\u001b[39m\n",
      "\u001b[33m\u001b[1m┌ \u001b[22m\u001b[39m\u001b[33m\u001b[1mWarning: \u001b[22m\u001b[39mModule JLLWrappers with build ID 606349912540251 is missing from the cache.\n",
      "\u001b[33m\u001b[1m│ \u001b[22m\u001b[39mThis may mean JLLWrappers [692b3bcd-3c85-4b1f-b108-f13ce0eb3210] does not support precompilation but is imported by a module that does.\n",
      "\u001b[33m\u001b[1m└ \u001b[22m\u001b[39m\u001b[90m@ Base loading.jl:1030\u001b[39m\n",
      "┌ Info: Skipping precompilation since __precompile__(false). Importing HDF5 [f67ccb44-e63f-5c2f-98bd-6dc0ccc4ba2f].\n",
      "└ @ Base loading.jl:1047\n",
      "┌ Info: Precompiling HDF5_jll [0234f1f7-429e-5d53-9886-15a909be8d59]\n",
      "└ @ Base loading.jl:1342\n"
     ]
    },
    {
     "name": "stderr",
     "output_type": "stream",
     "text": [
      "\u001b[33m\u001b[1m┌ \u001b[22m\u001b[39m\u001b[33m\u001b[1mWarning: \u001b[22m\u001b[39mModule JLLWrappers with build ID 606349912540251 is missing from the cache.\n",
      "\u001b[33m\u001b[1m│ \u001b[22m\u001b[39mThis may mean JLLWrappers [692b3bcd-3c85-4b1f-b108-f13ce0eb3210] does not support precompilation but is imported by a module that does.\n",
      "\u001b[33m\u001b[1m└ \u001b[22m\u001b[39m\u001b[90m@ Base loading.jl:1030\u001b[39m\n",
      "┌ Info: Skipping precompilation since __precompile__(false). Importing HDF5_jll [0234f1f7-429e-5d53-9886-15a909be8d59].\n",
      "└ @ Base loading.jl:1047\n",
      "┌ Info: Precompiling OpenSSL_jll [458c3c95-2e84-50aa-8efc-19380b2a3a95]\n",
      "└ @ Base loading.jl:1342\n",
      "\u001b[33m\u001b[1m┌ \u001b[22m\u001b[39m\u001b[33m\u001b[1mWarning: \u001b[22m\u001b[39mModule JLLWrappers with build ID 606349912540251 is missing from the cache.\n",
      "\u001b[33m\u001b[1m│ \u001b[22m\u001b[39mThis may mean JLLWrappers [692b3bcd-3c85-4b1f-b108-f13ce0eb3210] does not support precompilation but is imported by a module that does.\n",
      "\u001b[33m\u001b[1m└ \u001b[22m\u001b[39m\u001b[90m@ Base loading.jl:1030\u001b[39m\n",
      "┌ Info: Skipping precompilation since __precompile__(false). Importing OpenSSL_jll [458c3c95-2e84-50aa-8efc-19380b2a3a95].\n",
      "└ @ Base loading.jl:1047\n",
      "┌ Info: Precompiling Blosc [a74b3585-a348-5f62-a45c-50e91977d574]\n",
      "└ @ Base loading.jl:1342\n",
      "\u001b[33m\u001b[1m┌ \u001b[22m\u001b[39m\u001b[33m\u001b[1mWarning: \u001b[22m\u001b[39mModule JLLWrappers with build ID 606349912540251 is missing from the cache.\n",
      "\u001b[33m\u001b[1m│ \u001b[22m\u001b[39mThis may mean JLLWrappers [692b3bcd-3c85-4b1f-b108-f13ce0eb3210] does not support precompilation but is imported by a module that does.\n",
      "\u001b[33m\u001b[1m└ \u001b[22m\u001b[39m\u001b[90m@ Base loading.jl:1030\u001b[39m\n",
      "\u001b[33m\u001b[1m┌ \u001b[22m\u001b[39m\u001b[33m\u001b[1mWarning: \u001b[22m\u001b[39mModule JLLWrappers with build ID 606349912540251 is missing from the cache.\n",
      "\u001b[33m\u001b[1m│ \u001b[22m\u001b[39mThis may mean JLLWrappers [692b3bcd-3c85-4b1f-b108-f13ce0eb3210] does not support precompilation but is imported by a module that does.\n",
      "\u001b[33m\u001b[1m└ \u001b[22m\u001b[39m\u001b[90m@ Base loading.jl:1030\u001b[39m\n",
      "┌ Info: Skipping precompilation since __precompile__(false). Importing Blosc [a74b3585-a348-5f62-a45c-50e91977d574].\n",
      "└ @ Base loading.jl:1047\n",
      "┌ Info: Precompiling Blosc_jll [0b7ba130-8d10-5ba8-a3d6-c5182647fed9]\n",
      "└ @ Base loading.jl:1342\n",
      "\u001b[33m\u001b[1m┌ \u001b[22m\u001b[39m\u001b[33m\u001b[1mWarning: \u001b[22m\u001b[39mModule JLLWrappers with build ID 606349912540251 is missing from the cache.\n",
      "\u001b[33m\u001b[1m│ \u001b[22m\u001b[39mThis may mean JLLWrappers [692b3bcd-3c85-4b1f-b108-f13ce0eb3210] does not support precompilation but is imported by a module that does.\n",
      "\u001b[33m\u001b[1m└ \u001b[22m\u001b[39m\u001b[90m@ Base loading.jl:1030\u001b[39m\n",
      "┌ Info: Skipping precompilation since __precompile__(false). Importing Blosc_jll [0b7ba130-8d10-5ba8-a3d6-c5182647fed9].\n",
      "└ @ Base loading.jl:1047\n",
      "┌ Info: Precompiling Lz4_jll [5ced341a-0733-55b8-9ab6-a4889d929147]\n",
      "└ @ Base loading.jl:1342\n",
      "\u001b[33m\u001b[1m┌ \u001b[22m\u001b[39m\u001b[33m\u001b[1mWarning: \u001b[22m\u001b[39mModule JLLWrappers with build ID 606349912540251 is missing from the cache.\n",
      "\u001b[33m\u001b[1m│ \u001b[22m\u001b[39mThis may mean JLLWrappers [692b3bcd-3c85-4b1f-b108-f13ce0eb3210] does not support precompilation but is imported by a module that does.\n",
      "\u001b[33m\u001b[1m└ \u001b[22m\u001b[39m\u001b[90m@ Base loading.jl:1030\u001b[39m\n",
      "┌ Info: Skipping precompilation since __precompile__(false). Importing Lz4_jll [5ced341a-0733-55b8-9ab6-a4889d929147].\n",
      "└ @ Base loading.jl:1047\n",
      "┌ Info: Precompiling AWSCore [4f1ea46c-232b-54a6-9b17-cc2d0f3e6598]\n",
      "└ @ Base loading.jl:1342\n",
      "\u001b[33m\u001b[1m┌ \u001b[22m\u001b[39m\u001b[33m\u001b[1mWarning: \u001b[22m\u001b[39mModule JLLWrappers with build ID 606349912540251 is missing from the cache.\n",
      "\u001b[33m\u001b[1m│ \u001b[22m\u001b[39mThis may mean JLLWrappers [692b3bcd-3c85-4b1f-b108-f13ce0eb3210] does not support precompilation but is imported by a module that does.\n",
      "\u001b[33m\u001b[1m└ \u001b[22m\u001b[39m\u001b[90m@ Base loading.jl:1030\u001b[39m\n",
      "\u001b[33m\u001b[1m┌ \u001b[22m\u001b[39m\u001b[33m\u001b[1mWarning: \u001b[22m\u001b[39mModule JLLWrappers with build ID 606349912540251 is missing from the cache.\n",
      "\u001b[33m\u001b[1m│ \u001b[22m\u001b[39mThis may mean JLLWrappers [692b3bcd-3c85-4b1f-b108-f13ce0eb3210] does not support precompilation but is imported by a module that does.\n",
      "\u001b[33m\u001b[1m└ \u001b[22m\u001b[39m\u001b[90m@ Base loading.jl:1030\u001b[39m\n",
      "\u001b[33m\u001b[1m┌ \u001b[22m\u001b[39m\u001b[33m\u001b[1mWarning: \u001b[22m\u001b[39mModule JLLWrappers with build ID 606349912540251 is missing from the cache.\n",
      "\u001b[33m\u001b[1m│ \u001b[22m\u001b[39mThis may mean JLLWrappers [692b3bcd-3c85-4b1f-b108-f13ce0eb3210] does not support precompilation but is imported by a module that does.\n",
      "\u001b[33m\u001b[1m└ \u001b[22m\u001b[39m\u001b[90m@ Base loading.jl:1030\u001b[39m\n",
      "\u001b[33m\u001b[1m┌ \u001b[22m\u001b[39m\u001b[33m\u001b[1mWarning: \u001b[22m\u001b[39mModule JLLWrappers with build ID 606349912540251 is missing from the cache.\n",
      "\u001b[33m\u001b[1m│ \u001b[22m\u001b[39mThis may mean JLLWrappers [692b3bcd-3c85-4b1f-b108-f13ce0eb3210] does not support precompilation but is imported by a module that does.\n",
      "\u001b[33m\u001b[1m└ \u001b[22m\u001b[39m\u001b[90m@ Base loading.jl:1030\u001b[39m\n",
      "\u001b[33m\u001b[1m┌ \u001b[22m\u001b[39m\u001b[33m\u001b[1mWarning: \u001b[22m\u001b[39mModule JLLWrappers with build ID 606349912540251 is missing from the cache.\n",
      "\u001b[33m\u001b[1m│ \u001b[22m\u001b[39mThis may mean JLLWrappers [692b3bcd-3c85-4b1f-b108-f13ce0eb3210] does not support precompilation but is imported by a module that does.\n",
      "\u001b[33m\u001b[1m└ \u001b[22m\u001b[39m\u001b[90m@ Base loading.jl:1030\u001b[39m\n",
      "\u001b[33m\u001b[1m┌ \u001b[22m\u001b[39m\u001b[33m\u001b[1mWarning: \u001b[22m\u001b[39mModule JLLWrappers with build ID 606349912540251 is missing from the cache.\n",
      "\u001b[33m\u001b[1m│ \u001b[22m\u001b[39mThis may mean JLLWrappers [692b3bcd-3c85-4b1f-b108-f13ce0eb3210] does not support precompilation but is imported by a module that does.\n",
      "\u001b[33m\u001b[1m└ \u001b[22m\u001b[39m\u001b[90m@ Base loading.jl:1030\u001b[39m\n",
      "\u001b[33m\u001b[1m┌ \u001b[22m\u001b[39m\u001b[33m\u001b[1mWarning: \u001b[22m\u001b[39mModule JLLWrappers with build ID 606349912540251 is missing from the cache.\n",
      "\u001b[33m\u001b[1m│ \u001b[22m\u001b[39mThis may mean JLLWrappers [692b3bcd-3c85-4b1f-b108-f13ce0eb3210] does not support precompilation but is imported by a module that does.\n",
      "\u001b[33m\u001b[1m└ \u001b[22m\u001b[39m\u001b[90m@ Base loading.jl:1030\u001b[39m\n",
      "\u001b[33m\u001b[1m┌ \u001b[22m\u001b[39m\u001b[33m\u001b[1mWarning: \u001b[22m\u001b[39mModule JLLWrappers with build ID 606349912540251 is missing from the cache.\n",
      "\u001b[33m\u001b[1m│ \u001b[22m\u001b[39mThis may mean JLLWrappers [692b3bcd-3c85-4b1f-b108-f13ce0eb3210] does not support precompilation but is imported by a module that does.\n",
      "\u001b[33m\u001b[1m└ \u001b[22m\u001b[39m\u001b[90m@ Base loading.jl:1030\u001b[39m\n",
      "┌ Info: Skipping precompilation since __precompile__(false). Importing AWSCore [4f1ea46c-232b-54a6-9b17-cc2d0f3e6598].\n",
      "└ @ Base loading.jl:1047\n",
      "┌ Info: Precompiling XMLDict [228000da-037f-5747-90a9-8195ccbf91a5]\n",
      "└ @ Base loading.jl:1342\n",
      "\u001b[33m\u001b[1m┌ \u001b[22m\u001b[39m\u001b[33m\u001b[1mWarning: \u001b[22m\u001b[39mModule JLLWrappers with build ID 606349912540251 is missing from the cache.\n",
      "\u001b[33m\u001b[1m│ \u001b[22m\u001b[39mThis may mean JLLWrappers [692b3bcd-3c85-4b1f-b108-f13ce0eb3210] does not support precompilation but is imported by a module that does.\n",
      "\u001b[33m\u001b[1m└ \u001b[22m\u001b[39m\u001b[90m@ Base loading.jl:1030\u001b[39m\n",
      "\u001b[33m\u001b[1m┌ \u001b[22m\u001b[39m\u001b[33m\u001b[1mWarning: \u001b[22m\u001b[39mModule JLLWrappers with build ID 606349912540251 is missing from the cache.\n",
      "\u001b[33m\u001b[1m│ \u001b[22m\u001b[39mThis may mean JLLWrappers [692b3bcd-3c85-4b1f-b108-f13ce0eb3210] does not support precompilation but is imported by a module that does.\n",
      "\u001b[33m\u001b[1m└ \u001b[22m\u001b[39m\u001b[90m@ Base loading.jl:1030\u001b[39m\n",
      "\u001b[33m\u001b[1m┌ \u001b[22m\u001b[39m\u001b[33m\u001b[1mWarning: \u001b[22m\u001b[39mModule JLLWrappers with build ID 606349912540251 is missing from the cache.\n",
      "\u001b[33m\u001b[1m│ \u001b[22m\u001b[39mThis may mean JLLWrappers [692b3bcd-3c85-4b1f-b108-f13ce0eb3210] does not support precompilation but is imported by a module that does.\n",
      "\u001b[33m\u001b[1m└ \u001b[22m\u001b[39m\u001b[90m@ Base loading.jl:1030\u001b[39m\n",
      "\u001b[33m\u001b[1m┌ \u001b[22m\u001b[39m\u001b[33m\u001b[1mWarning: \u001b[22m\u001b[39mModule JLLWrappers with build ID 606349912540251 is missing from the cache.\n",
      "\u001b[33m\u001b[1m│ \u001b[22m\u001b[39mThis may mean JLLWrappers [692b3bcd-3c85-4b1f-b108-f13ce0eb3210] does not support precompilation but is imported by a module that does.\n",
      "\u001b[33m\u001b[1m└ \u001b[22m\u001b[39m\u001b[90m@ Base loading.jl:1030\u001b[39m\n",
      "┌ Info: Skipping precompilation since __precompile__(false). Importing XMLDict [228000da-037f-5747-90a9-8195ccbf91a5].\n",
      "└ @ Base loading.jl:1047\n",
      "┌ Info: Precompiling EzXML [8f5d6c58-4d21-5cfd-889c-e3ad7ee6a615]\n",
      "└ @ Base loading.jl:1342\n",
      "\u001b[33m\u001b[1m┌ \u001b[22m\u001b[39m\u001b[33m\u001b[1mWarning: \u001b[22m\u001b[39mModule JLLWrappers with build ID 606349912540251 is missing from the cache.\n",
      "\u001b[33m\u001b[1m│ \u001b[22m\u001b[39mThis may mean JLLWrappers [692b3bcd-3c85-4b1f-b108-f13ce0eb3210] does not support precompilation but is imported by a module that does.\n",
      "\u001b[33m\u001b[1m└ \u001b[22m\u001b[39m\u001b[90m@ Base loading.jl:1030\u001b[39m\n",
      "\u001b[33m\u001b[1m┌ \u001b[22m\u001b[39m\u001b[33m\u001b[1mWarning: \u001b[22m\u001b[39mModule JLLWrappers with build ID 606349912540251 is missing from the cache.\n",
      "\u001b[33m\u001b[1m│ \u001b[22m\u001b[39mThis may mean JLLWrappers [692b3bcd-3c85-4b1f-b108-f13ce0eb3210] does not support precompilation but is imported by a module that does.\n",
      "\u001b[33m\u001b[1m└ \u001b[22m\u001b[39m\u001b[90m@ Base loading.jl:1030\u001b[39m\n"
     ]
    },
    {
     "name": "stderr",
     "output_type": "stream",
     "text": [
      "┌ Info: Skipping precompilation since __precompile__(false). Importing EzXML [8f5d6c58-4d21-5cfd-889c-e3ad7ee6a615].\n",
      "└ @ Base loading.jl:1047\n",
      "┌ Info: Precompiling XML2_jll [02c8fc9c-b97f-50b9-bbe4-9be30ff0a78a]\n",
      "└ @ Base loading.jl:1342\n",
      "\u001b[33m\u001b[1m┌ \u001b[22m\u001b[39m\u001b[33m\u001b[1mWarning: \u001b[22m\u001b[39mModule JLLWrappers with build ID 606349912540251 is missing from the cache.\n",
      "\u001b[33m\u001b[1m│ \u001b[22m\u001b[39mThis may mean JLLWrappers [692b3bcd-3c85-4b1f-b108-f13ce0eb3210] does not support precompilation but is imported by a module that does.\n",
      "\u001b[33m\u001b[1m└ \u001b[22m\u001b[39m\u001b[90m@ Base loading.jl:1030\u001b[39m\n",
      "┌ Info: Skipping precompilation since __precompile__(false). Importing XML2_jll [02c8fc9c-b97f-50b9-bbe4-9be30ff0a78a].\n",
      "└ @ Base loading.jl:1047\n",
      "┌ Info: Precompiling Libiconv_jll [94ce4f54-9a6c-5748-9c1c-f9c7231a4531]\n",
      "└ @ Base loading.jl:1342\n",
      "\u001b[33m\u001b[1m┌ \u001b[22m\u001b[39m\u001b[33m\u001b[1mWarning: \u001b[22m\u001b[39mModule JLLWrappers with build ID 606349912540251 is missing from the cache.\n",
      "\u001b[33m\u001b[1m│ \u001b[22m\u001b[39mThis may mean JLLWrappers [692b3bcd-3c85-4b1f-b108-f13ce0eb3210] does not support precompilation but is imported by a module that does.\n",
      "\u001b[33m\u001b[1m└ \u001b[22m\u001b[39m\u001b[90m@ Base loading.jl:1030\u001b[39m\n",
      "┌ Info: Skipping precompilation since __precompile__(false). Importing Libiconv_jll [94ce4f54-9a6c-5748-9c1c-f9c7231a4531].\n",
      "└ @ Base loading.jl:1047\n",
      "┌ Info: Precompiling LazyJSON [fc18253b-5e1b-504c-a4a2-9ece4944c004]\n",
      "└ @ Base loading.jl:1342\n",
      "┌ Info: Precompiling AWSS3 [1c724243-ef5b-51ab-93f4-b0a88ac62a95]\n",
      "└ @ Base loading.jl:1342\n",
      "\u001b[33m\u001b[1m┌ \u001b[22m\u001b[39m\u001b[33m\u001b[1mWarning: \u001b[22m\u001b[39mModule XMLDict with build ID 290866423408095 is missing from the cache.\n",
      "\u001b[33m\u001b[1m│ \u001b[22m\u001b[39mThis may mean XMLDict [228000da-037f-5747-90a9-8195ccbf91a5] does not support precompilation but is imported by a module that does.\n",
      "\u001b[33m\u001b[1m└ \u001b[22m\u001b[39m\u001b[90m@ Base loading.jl:1030\u001b[39m\n",
      "\u001b[33m\u001b[1m┌ \u001b[22m\u001b[39m\u001b[33m\u001b[1mWarning: \u001b[22m\u001b[39mModule XMLDict with build ID 290866423408095 is missing from the cache.\n",
      "\u001b[33m\u001b[1m│ \u001b[22m\u001b[39mThis may mean XMLDict [228000da-037f-5747-90a9-8195ccbf91a5] does not support precompilation but is imported by a module that does.\n",
      "\u001b[33m\u001b[1m└ \u001b[22m\u001b[39m\u001b[90m@ Base loading.jl:1030\u001b[39m\n",
      "┌ Info: Skipping precompilation since __precompile__(false). Importing AWSS3 [1c724243-ef5b-51ab-93f4-b0a88ac62a95].\n",
      "└ @ Base loading.jl:1047\n",
      "┌ Info: Precompiling AWS [fbe9abb3-538b-5e4e-ba9e-bc94f4f92ebc]\n",
      "└ @ Base loading.jl:1342\n",
      "\u001b[33m\u001b[1m┌ \u001b[22m\u001b[39m\u001b[33m\u001b[1mWarning: \u001b[22m\u001b[39mModule XMLDict with build ID 290866423408095 is missing from the cache.\n",
      "\u001b[33m\u001b[1m│ \u001b[22m\u001b[39mThis may mean XMLDict [228000da-037f-5747-90a9-8195ccbf91a5] does not support precompilation but is imported by a module that does.\n",
      "\u001b[33m\u001b[1m└ \u001b[22m\u001b[39m\u001b[90m@ Base loading.jl:1030\u001b[39m\n",
      "┌ Info: Skipping precompilation since __precompile__(false). Importing AWS [fbe9abb3-538b-5e4e-ba9e-bc94f4f92ebc].\n",
      "└ @ Base loading.jl:1047\n",
      "┌ Info: Precompiling GitHub [bc5e4493-9b4d-5f90-b8aa-2b2bcaad7a26]\n",
      "└ @ Base loading.jl:1342\n",
      "\u001b[33m\u001b[1m┌ \u001b[22m\u001b[39m\u001b[33m\u001b[1mWarning: \u001b[22m\u001b[39mModule libsodium_jll with build ID 606353096865667 is missing from the cache.\n",
      "\u001b[33m\u001b[1m│ \u001b[22m\u001b[39mThis may mean libsodium_jll [a9144af2-ca23-56d9-984f-0d03f7b5ccf8] does not support precompilation but is imported by a module that does.\n",
      "\u001b[33m\u001b[1m└ \u001b[22m\u001b[39m\u001b[90m@ Base loading.jl:1030\u001b[39m\n",
      "\u001b[33m\u001b[1m┌ \u001b[22m\u001b[39m\u001b[33m\u001b[1mWarning: \u001b[22m\u001b[39mModule libsodium_jll with build ID 606353096865667 is missing from the cache.\n",
      "\u001b[33m\u001b[1m│ \u001b[22m\u001b[39mThis may mean libsodium_jll [a9144af2-ca23-56d9-984f-0d03f7b5ccf8] does not support precompilation but is imported by a module that does.\n",
      "\u001b[33m\u001b[1m└ \u001b[22m\u001b[39m\u001b[90m@ Base loading.jl:1030\u001b[39m\n",
      "┌ Info: Skipping precompilation since __precompile__(false). Importing GitHub [bc5e4493-9b4d-5f90-b8aa-2b2bcaad7a26].\n",
      "└ @ Base loading.jl:1047\n",
      "┌ Info: Precompiling SodiumSeal [2133526b-2bfb-4018-ac12-889fb3908a75]\n",
      "└ @ Base loading.jl:1342\n",
      "\u001b[33m\u001b[1m┌ \u001b[22m\u001b[39m\u001b[33m\u001b[1mWarning: \u001b[22m\u001b[39mModule libsodium_jll with build ID 606353096865667 is missing from the cache.\n",
      "\u001b[33m\u001b[1m│ \u001b[22m\u001b[39mThis may mean libsodium_jll [a9144af2-ca23-56d9-984f-0d03f7b5ccf8] does not support precompilation but is imported by a module that does.\n",
      "\u001b[33m\u001b[1m└ \u001b[22m\u001b[39m\u001b[90m@ Base loading.jl:1030\u001b[39m\n",
      "┌ Info: Skipping precompilation since __precompile__(false). Importing SodiumSeal [2133526b-2bfb-4018-ac12-889fb3908a75].\n",
      "└ @ Base loading.jl:1047\n",
      "┌ Info: Precompiling GeoArrays [2fb1d81b-e6a0-5fc5-82e6-8e06903437ab]\n",
      "└ @ Base loading.jl:1342\n",
      "\u001b[33m\u001b[1m┌ \u001b[22m\u001b[39m\u001b[33m\u001b[1mWarning: \u001b[22m\u001b[39mModule ArchGDAL with build ID 290810711725567 is missing from the cache.\n",
      "\u001b[33m\u001b[1m│ \u001b[22m\u001b[39mThis may mean ArchGDAL [c9ce4bd3-c3d5-55b8-8973-c0e20141b8c3] does not support precompilation but is imported by a module that does.\n",
      "\u001b[33m\u001b[1m└ \u001b[22m\u001b[39m\u001b[90m@ Base loading.jl:1030\u001b[39m\n",
      "┌ Info: Skipping precompilation since __precompile__(false). Importing GeoArrays [2fb1d81b-e6a0-5fc5-82e6-8e06903437ab].\n",
      "└ @ Base loading.jl:1047\n",
      "┌ Info: Precompiling GeoStatsBase [323cb8eb-fbf6-51c0-afd0-f8fba70507b2]\n",
      "└ @ Base loading.jl:1342\n",
      "\u001b[91m\u001b[1mERROR: \u001b[22m\u001b[39mLoadError: LoadError: UndefVarError: PosLen not defined\n",
      "Stacktrace:\n",
      "  [1] top-level scope\n",
      "\u001b[90m    @ \u001b[39m\u001b[90m~/.julia/packages/WeakRefStrings/31nkb/src/\u001b[39m\u001b[90;4mposlenstrings.jl:6\u001b[0m\n",
      "  [2] \u001b[0m\u001b[1minclude\u001b[22m\u001b[0m\u001b[1m(\u001b[22m\u001b[90mmod\u001b[39m::\u001b[0mModule, \u001b[90m_path\u001b[39m::\u001b[0mString\u001b[0m\u001b[1m)\u001b[22m\n",
      "\u001b[90m    @ \u001b[39m\u001b[90mBase\u001b[39m \u001b[90m./\u001b[39m\u001b[90;4mBase.jl:386\u001b[0m\n",
      "  [3] \u001b[0m\u001b[1minclude\u001b[22m\u001b[0m\u001b[1m(\u001b[22m\u001b[90mx\u001b[39m::\u001b[0mString\u001b[0m\u001b[1m)\u001b[22m\n",
      "\u001b[90m    @ \u001b[39m\u001b[35mWeakRefStrings\u001b[39m \u001b[90m~/.julia/packages/WeakRefStrings/31nkb/src/\u001b[39m\u001b[90;4mWeakRefStrings.jl:1\u001b[0m\n",
      "  [4] top-level scope\n",
      "\u001b[90m    @ \u001b[39m\u001b[90m~/.julia/packages/WeakRefStrings/31nkb/src/\u001b[39m\u001b[90;4mWeakRefStrings.jl:547\u001b[0m\n",
      "  [5] \u001b[0m\u001b[1minclude\u001b[22m\n",
      "\u001b[90m    @ \u001b[39m\u001b[90m./\u001b[39m\u001b[90;4mBase.jl:386\u001b[0m\u001b[90m [inlined]\u001b[39m\n",
      "  [6] \u001b[0m\u001b[1minclude_package_for_output\u001b[22m\u001b[0m\u001b[1m(\u001b[22m\u001b[90mpkg\u001b[39m::\u001b[0mBase.PkgId, \u001b[90minput\u001b[39m::\u001b[0mString, \u001b[90mdepot_path\u001b[39m::\u001b[0mVector\u001b[90m{String}\u001b[39m, \u001b[90mdl_load_path\u001b[39m::\u001b[0mVector\u001b[90m{String}\u001b[39m, \u001b[90mload_path\u001b[39m::\u001b[0mVector\u001b[90m{String}\u001b[39m, \u001b[90mconcrete_deps\u001b[39m::\u001b[0mVector\u001b[90m{Pair{Base.PkgId, UInt64}}\u001b[39m, \u001b[90msource\u001b[39m::\u001b[0mString\u001b[0m\u001b[1m)\u001b[22m\n",
      "\u001b[90m    @ \u001b[39m\u001b[90mBase\u001b[39m \u001b[90m./\u001b[39m\u001b[90;4mloading.jl:1235\u001b[0m\n",
      "  [7] top-level scope\n",
      "\u001b[90m    @ \u001b[39m\u001b[90;4mnone:1\u001b[0m\n",
      "  [8] \u001b[0m\u001b[1meval\u001b[22m\n",
      "\u001b[90m    @ \u001b[39m\u001b[90m./\u001b[39m\u001b[90;4mboot.jl:360\u001b[0m\u001b[90m [inlined]\u001b[39m\n",
      "  [9] \u001b[0m\u001b[1meval\u001b[22m\u001b[0m\u001b[1m(\u001b[22m\u001b[90mx\u001b[39m::\u001b[0mExpr\u001b[0m\u001b[1m)\u001b[22m\n",
      "\u001b[90m    @ \u001b[39m\u001b[90mBase.MainInclude\u001b[39m \u001b[90m./\u001b[39m\u001b[90;4mclient.jl:446\u001b[0m\n",
      " [10] top-level scope\n",
      "\u001b[90m    @ \u001b[39m\u001b[90;4mnone:1\u001b[0m\n",
      "in expression starting at /Users/ziyanwu/.julia/packages/WeakRefStrings/31nkb/src/poslenstrings.jl:6\n",
      "in expression starting at /Users/ziyanwu/.julia/packages/WeakRefStrings/31nkb/src/WeakRefStrings.jl:1\n",
      "\u001b[91m\u001b[1mERROR: \u001b[22m\u001b[39mLoadError: Failed to precompile WeakRefStrings [ea10d353-3f73-51f8-a26c-33c1cb351aa5] to /Users/ziyanwu/.julia/compiled/v1.6/WeakRefStrings/jl_4gf9Ba.\n",
      "Stacktrace:\n",
      "  [1] \u001b[0m\u001b[1merror\u001b[22m\u001b[0m\u001b[1m(\u001b[22m\u001b[90ms\u001b[39m::\u001b[0mString\u001b[0m\u001b[1m)\u001b[22m\n",
      "\u001b[90m    @ \u001b[39m\u001b[90mBase\u001b[39m \u001b[90m./\u001b[39m\u001b[90;4merror.jl:33\u001b[0m\n",
      "  [2] \u001b[0m\u001b[1mcompilecache\u001b[22m\u001b[0m\u001b[1m(\u001b[22m\u001b[90mpkg\u001b[39m::\u001b[0mBase.PkgId, \u001b[90mpath\u001b[39m::\u001b[0mString, \u001b[90minternal_stderr\u001b[39m::\u001b[0mIOContext\u001b[90m{Base.PipeEndpoint}\u001b[39m, \u001b[90minternal_stdout\u001b[39m::\u001b[0mIOContext\u001b[90m{Base.PipeEndpoint}\u001b[39m, \u001b[90mignore_loaded_modules\u001b[39m::\u001b[0mBool\u001b[0m\u001b[1m)\u001b[22m\n",
      "\u001b[90m    @ \u001b[39m\u001b[90mBase\u001b[39m \u001b[90m./\u001b[39m\u001b[90;4mloading.jl:1385\u001b[0m\n",
      "  [3] \u001b[0m\u001b[1mcompilecache\u001b[22m\u001b[0m\u001b[1m(\u001b[22m\u001b[90mpkg\u001b[39m::\u001b[0mBase.PkgId, \u001b[90mpath\u001b[39m::\u001b[0mString\u001b[0m\u001b[1m)\u001b[22m\n",
      "\u001b[90m    @ \u001b[39m\u001b[90mBase\u001b[39m \u001b[90m./\u001b[39m\u001b[90;4mloading.jl:1329\u001b[0m\n",
      "  [4] \u001b[0m\u001b[1m_require\u001b[22m\u001b[0m\u001b[1m(\u001b[22m\u001b[90mpkg\u001b[39m::\u001b[0mBase.PkgId\u001b[0m\u001b[1m)\u001b[22m\n",
      "\u001b[90m    @ \u001b[39m\u001b[90mBase\u001b[39m \u001b[90m./\u001b[39m\u001b[90;4mloading.jl:1043\u001b[0m\n",
      "  [5] \u001b[0m\u001b[1mrequire\u001b[22m\u001b[0m\u001b[1m(\u001b[22m\u001b[90muuidkey\u001b[39m::\u001b[0mBase.PkgId\u001b[0m\u001b[1m)\u001b[22m\n",
      "\u001b[90m    @ \u001b[39m\u001b[90mBase\u001b[39m \u001b[90m./\u001b[39m\u001b[90;4mloading.jl:936\u001b[0m\n",
      "  [6] \u001b[0m\u001b[1mrequire\u001b[22m\u001b[0m\u001b[1m(\u001b[22m\u001b[90minto\u001b[39m::\u001b[0mModule, \u001b[90mmod\u001b[39m::\u001b[0mSymbol\u001b[0m\u001b[1m)\u001b[22m\n",
      "\u001b[90m    @ \u001b[39m\u001b[90mBase\u001b[39m \u001b[90m./\u001b[39m\u001b[90;4mloading.jl:923\u001b[0m\n",
      "  [7] \u001b[0m\u001b[1minclude\u001b[22m\n",
      "\u001b[90m    @ \u001b[39m\u001b[90m./\u001b[39m\u001b[90;4mBase.jl:386\u001b[0m\u001b[90m [inlined]\u001b[39m\n",
      "  [8] \u001b[0m\u001b[1minclude_package_for_output\u001b[22m\u001b[0m\u001b[1m(\u001b[22m\u001b[90mpkg\u001b[39m::\u001b[0mBase.PkgId, \u001b[90minput\u001b[39m::\u001b[0mString, \u001b[90mdepot_path\u001b[39m::\u001b[0mVector\u001b[90m{String}\u001b[39m, \u001b[90mdl_load_path\u001b[39m::\u001b[0mVector\u001b[90m{String}\u001b[39m, \u001b[90mload_path\u001b[39m::\u001b[0mVector\u001b[90m{String}\u001b[39m, \u001b[90mconcrete_deps\u001b[39m::\u001b[0mVector\u001b[90m{Pair{Base.PkgId, UInt64}}\u001b[39m, \u001b[90msource\u001b[39m::\u001b[0mString\u001b[0m\u001b[1m)\u001b[22m\n",
      "\u001b[90m    @ \u001b[39m\u001b[90mBase\u001b[39m \u001b[90m./\u001b[39m\u001b[90;4mloading.jl:1235\u001b[0m\n",
      "  [9] top-level scope\n",
      "\u001b[90m    @ \u001b[39m\u001b[90;4mnone:1\u001b[0m\n",
      " [10] \u001b[0m\u001b[1meval\u001b[22m\n",
      "\u001b[90m    @ \u001b[39m\u001b[90m./\u001b[39m\u001b[90;4mboot.jl:360\u001b[0m\u001b[90m [inlined]\u001b[39m\n",
      " [11] \u001b[0m\u001b[1meval\u001b[22m\u001b[0m\u001b[1m(\u001b[22m\u001b[90mx\u001b[39m::\u001b[0mExpr\u001b[0m\u001b[1m)\u001b[22m\n",
      "\u001b[90m    @ \u001b[39m\u001b[90mBase.MainInclude\u001b[39m \u001b[90m./\u001b[39m\u001b[90;4mclient.jl:446\u001b[0m\n",
      " [12] top-level scope\n",
      "\u001b[90m    @ \u001b[39m\u001b[90;4mnone:1\u001b[0m\n",
      "in expression starting at /Users/ziyanwu/.julia/packages/CSV/9LsxT/src/CSV.jl:1\n"
     ]
    },
    {
     "name": "stderr",
     "output_type": "stream",
     "text": [
      "\u001b[91m\u001b[1mERROR: \u001b[22m\u001b[39mLoadError: Failed to precompile CSV [336ed68f-0bac-5ca0-87d4-7b16caf5d00b] to /Users/ziyanwu/.julia/compiled/v1.6/CSV/jl_xBQL8D.\n",
      "Stacktrace:\n",
      "  [1] \u001b[0m\u001b[1merror\u001b[22m\u001b[0m\u001b[1m(\u001b[22m\u001b[90ms\u001b[39m::\u001b[0mString\u001b[0m\u001b[1m)\u001b[22m\n",
      "\u001b[90m    @ \u001b[39m\u001b[90mBase\u001b[39m \u001b[90m./\u001b[39m\u001b[90;4merror.jl:33\u001b[0m\n",
      "  [2] \u001b[0m\u001b[1mcompilecache\u001b[22m\u001b[0m\u001b[1m(\u001b[22m\u001b[90mpkg\u001b[39m::\u001b[0mBase.PkgId, \u001b[90mpath\u001b[39m::\u001b[0mString, \u001b[90minternal_stderr\u001b[39m::\u001b[0mIOContext\u001b[90m{Base.PipeEndpoint}\u001b[39m, \u001b[90minternal_stdout\u001b[39m::\u001b[0mIOContext\u001b[90m{Base.PipeEndpoint}\u001b[39m, \u001b[90mignore_loaded_modules\u001b[39m::\u001b[0mBool\u001b[0m\u001b[1m)\u001b[22m\n",
      "\u001b[90m    @ \u001b[39m\u001b[90mBase\u001b[39m \u001b[90m./\u001b[39m\u001b[90;4mloading.jl:1385\u001b[0m\n",
      "  [3] \u001b[0m\u001b[1mcompilecache\u001b[22m\u001b[0m\u001b[1m(\u001b[22m\u001b[90mpkg\u001b[39m::\u001b[0mBase.PkgId, \u001b[90mpath\u001b[39m::\u001b[0mString\u001b[0m\u001b[1m)\u001b[22m\n",
      "\u001b[90m    @ \u001b[39m\u001b[90mBase\u001b[39m \u001b[90m./\u001b[39m\u001b[90;4mloading.jl:1329\u001b[0m\n",
      "  [4] \u001b[0m\u001b[1m_require\u001b[22m\u001b[0m\u001b[1m(\u001b[22m\u001b[90mpkg\u001b[39m::\u001b[0mBase.PkgId\u001b[0m\u001b[1m)\u001b[22m\n",
      "\u001b[90m    @ \u001b[39m\u001b[90mBase\u001b[39m \u001b[90m./\u001b[39m\u001b[90;4mloading.jl:1043\u001b[0m\n",
      "  [5] \u001b[0m\u001b[1mrequire\u001b[22m\u001b[0m\u001b[1m(\u001b[22m\u001b[90muuidkey\u001b[39m::\u001b[0mBase.PkgId\u001b[0m\u001b[1m)\u001b[22m\n",
      "\u001b[90m    @ \u001b[39m\u001b[90mBase\u001b[39m \u001b[90m./\u001b[39m\u001b[90;4mloading.jl:936\u001b[0m\n",
      "  [6] \u001b[0m\u001b[1mrequire\u001b[22m\u001b[0m\u001b[1m(\u001b[22m\u001b[90minto\u001b[39m::\u001b[0mModule, \u001b[90mmod\u001b[39m::\u001b[0mSymbol\u001b[0m\u001b[1m)\u001b[22m\n",
      "\u001b[90m    @ \u001b[39m\u001b[90mBase\u001b[39m \u001b[90m./\u001b[39m\u001b[90;4mloading.jl:923\u001b[0m\n",
      "  [7] \u001b[0m\u001b[1minclude\u001b[22m\n",
      "\u001b[90m    @ \u001b[39m\u001b[90m./\u001b[39m\u001b[90;4mBase.jl:386\u001b[0m\u001b[90m [inlined]\u001b[39m\n",
      "  [8] \u001b[0m\u001b[1minclude_package_for_output\u001b[22m\u001b[0m\u001b[1m(\u001b[22m\u001b[90mpkg\u001b[39m::\u001b[0mBase.PkgId, \u001b[90minput\u001b[39m::\u001b[0mString, \u001b[90mdepot_path\u001b[39m::\u001b[0mVector\u001b[90m{String}\u001b[39m, \u001b[90mdl_load_path\u001b[39m::\u001b[0mVector\u001b[90m{String}\u001b[39m, \u001b[90mload_path\u001b[39m::\u001b[0mVector\u001b[90m{String}\u001b[39m, \u001b[90mconcrete_deps\u001b[39m::\u001b[0mVector\u001b[90m{Pair{Base.PkgId, UInt64}}\u001b[39m, \u001b[90msource\u001b[39m::\u001b[0mString\u001b[0m\u001b[1m)\u001b[22m\n",
      "\u001b[90m    @ \u001b[39m\u001b[90mBase\u001b[39m \u001b[90m./\u001b[39m\u001b[90;4mloading.jl:1235\u001b[0m\n",
      "  [9] top-level scope\n",
      "\u001b[90m    @ \u001b[39m\u001b[90;4mnone:1\u001b[0m\n",
      " [10] \u001b[0m\u001b[1meval\u001b[22m\n",
      "\u001b[90m    @ \u001b[39m\u001b[90m./\u001b[39m\u001b[90;4mboot.jl:360\u001b[0m\u001b[90m [inlined]\u001b[39m\n",
      " [11] \u001b[0m\u001b[1meval\u001b[22m\u001b[0m\u001b[1m(\u001b[22m\u001b[90mx\u001b[39m::\u001b[0mExpr\u001b[0m\u001b[1m)\u001b[22m\n",
      "\u001b[90m    @ \u001b[39m\u001b[90mBase.MainInclude\u001b[39m \u001b[90m./\u001b[39m\u001b[90;4mclient.jl:446\u001b[0m\n",
      " [12] top-level scope\n",
      "\u001b[90m    @ \u001b[39m\u001b[90;4mnone:1\u001b[0m\n",
      "in expression starting at /Users/ziyanwu/.julia/packages/GeoStatsBase/KaG1T/src/GeoStatsBase.jl:5\n"
     ]
    },
    {
     "ename": "LoadError",
     "evalue": "LoadError: LoadError: LoadError: LoadError: Failed to precompile GeoStatsBase [323cb8eb-fbf6-51c0-afd0-f8fba70507b2] to /Users/ziyanwu/.julia/compiled/v1.6/GeoStatsBase/jl_gLj4Fm.\nin expression starting at /Users/ziyanwu/.julia/packages/GeoArrays/UCM2N/src/interpolate.jl:1\nin expression starting at /Users/ziyanwu/.julia/packages/GeoArrays/UCM2N/src/GeoArrays.jl:1\nin expression starting at /Users/ziyanwu/.julia/packages/SpaceLiDAR/Hjkba/src/geoarrays.jl:2\nin expression starting at /Users/ziyanwu/.julia/packages/SpaceLiDAR/Hjkba/src/SpaceLiDAR.jl:1",
     "output_type": "error",
     "traceback": [
      "LoadError: LoadError: LoadError: LoadError: Failed to precompile GeoStatsBase [323cb8eb-fbf6-51c0-afd0-f8fba70507b2] to /Users/ziyanwu/.julia/compiled/v1.6/GeoStatsBase/jl_gLj4Fm.\nin expression starting at /Users/ziyanwu/.julia/packages/GeoArrays/UCM2N/src/interpolate.jl:1\nin expression starting at /Users/ziyanwu/.julia/packages/GeoArrays/UCM2N/src/GeoArrays.jl:1\nin expression starting at /Users/ziyanwu/.julia/packages/SpaceLiDAR/Hjkba/src/geoarrays.jl:2\nin expression starting at /Users/ziyanwu/.julia/packages/SpaceLiDAR/Hjkba/src/SpaceLiDAR.jl:1",
      "",
      "Stacktrace:",
      "  [1] error(s::String)",
      "    @ Base ./error.jl:33",
      "  [2] compilecache(pkg::Base.PkgId, path::String, internal_stderr::IJulia.IJuliaStdio{Base.PipeEndpoint}, internal_stdout::IJulia.IJuliaStdio{Base.PipeEndpoint}, ignore_loaded_modules::Bool)",
      "    @ Base ./loading.jl:1385",
      "  [3] compilecache(pkg::Base.PkgId, path::String)",
      "    @ Base ./loading.jl:1329",
      "  [4] _require(pkg::Base.PkgId)",
      "    @ Base ./loading.jl:1043",
      "  [5] require(uuidkey::Base.PkgId)",
      "    @ Base ./loading.jl:936",
      "  [6] require(into::Module, mod::Symbol)",
      "    @ Base ./loading.jl:923",
      "  [7] include(mod::Module, _path::String)",
      "    @ Base ./Base.jl:386",
      "  [8] include(x::String)",
      "    @ GeoArrays ~/.julia/packages/GeoArrays/UCM2N/src/GeoArrays.jl:1",
      "  [9] top-level scope",
      "    @ ~/.julia/packages/GeoArrays/UCM2N/src/GeoArrays.jl:13",
      " [10] include",
      "    @ ./Base.jl:386 [inlined]",
      " [11] _require(pkg::Base.PkgId)",
      "    @ Base ./loading.jl:1072",
      " [12] require(uuidkey::Base.PkgId)",
      "    @ Base ./loading.jl:936",
      " [13] require(into::Module, mod::Symbol)",
      "    @ Base ./loading.jl:923",
      " [14] include(mod::Module, _path::String)",
      "    @ Base ./Base.jl:386",
      " [15] include(x::String)",
      "    @ SpaceLiDAR ~/.julia/packages/SpaceLiDAR/Hjkba/src/SpaceLiDAR.jl:1",
      " [16] top-level scope",
      "    @ ~/.julia/packages/SpaceLiDAR/Hjkba/src/SpaceLiDAR.jl:15",
      " [17] include",
      "    @ ./Base.jl:386 [inlined]",
      " [18] _require(pkg::Base.PkgId)",
      "    @ Base ./loading.jl:1072",
      " [19] require(uuidkey::Base.PkgId)",
      "    @ Base ./loading.jl:936",
      " [20] require(into::Module, mod::Symbol)",
      "    @ Base ./loading.jl:923",
      " [21] eval",
      "    @ ./boot.jl:360 [inlined]",
      " [22] include_string(mapexpr::typeof(REPL.softscope), mod::Module, code::String, filename::String)",
      "    @ Base ./loading.jl:1116"
     ]
    }
   ],
   "source": [
    "using SpaceLiDAR\n",
    "using DataFrames\n",
    "using GeoDataFrames"
   ]
  },
  {
   "cell_type": "code",
   "execution_count": 2,
   "id": "b4b1048e",
   "metadata": {},
   "outputs": [
    {
     "data": {
      "text/plain": [
       "\"/Users/ziyanwu/.netrc\""
      ]
     },
     "execution_count": 2,
     "metadata": {},
     "output_type": "execute_result"
    }
   ],
   "source": [
    "# # connect with NASA\n",
    "SpaceLiDAR.netrc!(\"uiuuo\",\"137qwerLOL\")\n",
    "# wget --user=uiuuo --password=137qwerLOL -i download.txt"
   ]
  },
  {
   "cell_type": "code",
   "execution_count": 2,
   "id": "f6ec6df9",
   "metadata": {},
   "outputs": [
    {
     "data": {
      "text/plain": [
       "\"/Volumes/T7/workplace/icesat2/03zuidbroek\""
      ]
     },
     "execution_count": 2,
     "metadata": {},
     "output_type": "execute_result"
    }
   ],
   "source": [
    "pwd()"
   ]
  },
  {
   "cell_type": "code",
   "execution_count": 5,
   "id": "92523627",
   "metadata": {},
   "outputs": [
    {
     "data": {
      "text/plain": [
       "\"03zuidbroek/h5togpkg/\""
      ]
     },
     "execution_count": 5,
     "metadata": {},
     "output_type": "execute_result"
    }
   ],
   "source": [
    "path = \"h5/\" # folder directory\n",
    "full_path = \"/Volumes/T7/workplace/icesat2/03zuidbroek/h5/\"\n",
    "save_path = \"03zuidbroek/h5togpkg/\""
   ]
  },
  {
   "cell_type": "code",
   "execution_count": null,
   "id": "299f8fbc",
   "metadata": {},
   "outputs": [],
   "source": [
    "# cd(\"/Volumes/T7/workplace/icesat2/data03/\")\n",
    "# pwd()"
   ]
  },
  {
   "cell_type": "code",
   "execution_count": 6,
   "id": "15436523",
   "metadata": {},
   "outputs": [
    {
     "data": {
      "text/plain": [
       "76-element Vector{String}:\n",
       " \"5331565344-download.sh\"\n",
       " \"ATL03_20181109020253_06330106_005_01.h5\"\n",
       " \"ATL03_20181119130437_07930102_005_01.h5\"\n",
       " \"ATL03_20181208003839_10750106_005_01.h5\"\n",
       " \"ATL03_20181222113213_12960102_005_01.h5\"\n",
       " \"ATL03_20190105231447_01300206_005_01.h5\"\n",
       " \"ATL03_20190120100813_03510202_005_01.h5\"\n",
       " \"ATL03_20190207214238_06330206_005_01.h5\"\n",
       " \"ATL03_20190218084426_07930202_005_01.h5\"\n",
       " \"ATL03_20190308201839_10750206_005_01.h5\"\n",
       " \"ATL03_20190323071208_12960202_005_01.h5\"\n",
       " \"ATL03_20190406185439_01300306_005_01.h5\"\n",
       " \"ATL03_20190421054807_03510302_005_01.h5\"\n",
       " ⋮\n",
       " \"ATL03_20210702035250_01301206_005_01.h5\"\n",
       " \"ATL03_20210716144624_03511202_005_01.h5\"\n",
       " \"ATL03_20210804022035_06331206_005_01.h5\"\n",
       " \"ATL03_20210814132230_07931202_005_01.h5\"\n",
       " \"ATL03_20210902005643_10751206_005_01.h5\"\n",
       " \"ATL03_20210916115016_12961202_005_01.h5\"\n",
       " \"ATL03_20210930233248_01301306_005_01.h5\"\n",
       " \"ATL03_20211015102622_03511302_005_01.h5\"\n",
       " \"ATL03_20211102220037_06331306_005_01.h5\"\n",
       " \"ATL03_20211113090234_07931302_005_01.h5\"\n",
       " \"ATL03_20211201203639_10751306_005_01.h5\"\n",
       " \"ATL03_20211216073013_12961302_005_01.h5\""
      ]
     },
     "execution_count": 6,
     "metadata": {},
     "output_type": "execute_result"
    }
   ],
   "source": [
    "path = readdir(path) # folder directory"
   ]
  },
  {
   "cell_type": "code",
   "execution_count": 6,
   "id": "0753b658",
   "metadata": {},
   "outputs": [
    {
     "name": "stdout",
     "output_type": "stream",
     "text": [
      "1--ATL03_20181109020253_06330106_005_01.h5--> valid\n"
     ]
    },
    {
     "name": "stderr",
     "output_type": "stream",
     "text": [
      "┌ Warning: Int8 fields will become Int16\n",
      "└ @ GeoDataFrames /Users/ziyanwu/.julia/packages/GeoDataFrames/OBKca/src/io.jl:19\n",
      "┌ Warning: Int8 fields will become Int16\n",
      "└ @ GeoDataFrames /Users/ziyanwu/.julia/packages/GeoDataFrames/OBKca/src/io.jl:19\n"
     ]
    },
    {
     "name": "stdout",
     "output_type": "stream",
     "text": [
      "2--ATL03_20181119130437_07930102_005_01.h5\n",
      "3--ATL03_20181208003839_10750106_005_01.h5\n",
      "4--ATL03_20181222113213_12960102_005_01.h5\n",
      "5--ATL03_20190105231447_01300206_005_01.h5\n",
      "6--ATL03_20190120100813_03510202_005_01.h5--> valid\n"
     ]
    },
    {
     "name": "stderr",
     "output_type": "stream",
     "text": [
      "┌ Warning: Int8 fields will become Int16\n",
      "└ @ GeoDataFrames /Users/ziyanwu/.julia/packages/GeoDataFrames/OBKca/src/io.jl:19\n",
      "┌ Warning: Int8 fields will become Int16\n",
      "└ @ GeoDataFrames /Users/ziyanwu/.julia/packages/GeoDataFrames/OBKca/src/io.jl:19\n"
     ]
    },
    {
     "name": "stdout",
     "output_type": "stream",
     "text": [
      "7--ATL03_20190207214238_06330206_005_01.h5--> valid\n"
     ]
    },
    {
     "name": "stderr",
     "output_type": "stream",
     "text": [
      "┌ Warning: Int8 fields will become Int16\n",
      "└ @ GeoDataFrames /Users/ziyanwu/.julia/packages/GeoDataFrames/OBKca/src/io.jl:19\n",
      "┌ Warning: Int8 fields will become Int16\n",
      "└ @ GeoDataFrames /Users/ziyanwu/.julia/packages/GeoDataFrames/OBKca/src/io.jl:19\n"
     ]
    },
    {
     "name": "stdout",
     "output_type": "stream",
     "text": [
      "8--ATL03_20190218084426_07930202_005_01.h5\n",
      "9--ATL03_20190308201839_10750206_005_01.h5\n",
      "10--ATL03_20190323071208_12960202_005_01.h5\n",
      "11--ATL03_20190406185439_01300306_005_01.h5\n",
      "12--ATL03_20190421054807_03510302_005_01.h5\n",
      "13--ATL03_20190509172216_06330306_005_01.h5--> valid\n"
     ]
    },
    {
     "name": "stderr",
     "output_type": "stream",
     "text": [
      "┌ Warning: Int8 fields will become Int16\n",
      "└ @ GeoDataFrames /Users/ziyanwu/.julia/packages/GeoDataFrames/OBKca/src/io.jl:19\n",
      "┌ Warning: Int8 fields will become Int16\n",
      "└ @ GeoDataFrames /Users/ziyanwu/.julia/packages/GeoDataFrames/OBKca/src/io.jl:19\n"
     ]
    },
    {
     "name": "stdout",
     "output_type": "stream",
     "text": [
      "14--ATL03_20190520042404_07930302_005_01.h5\n",
      "15--ATL03_20190607155814_10750306_005_01.h5\n",
      "16--ATL03_20190622025145_12960302_005_01.h5\n",
      "17--ATL03_20190721012740_03510402_005_01.h5\n",
      "18--ATL03_20190808130157_06330406_005_01.h5\n",
      "19--ATL03_20190819000351_07930402_005_01.h5\n",
      "20--ATL03_20190906113803_10750406_005_01.h5--> valid\n"
     ]
    },
    {
     "name": "stderr",
     "output_type": "stream",
     "text": [
      "┌ Warning: Int8 fields will become Int16\n",
      "└ @ GeoDataFrames /Users/ziyanwu/.julia/packages/GeoDataFrames/OBKca/src/io.jl:19\n",
      "┌ Warning: Int8 fields will become Int16\n",
      "└ @ GeoDataFrames /Users/ziyanwu/.julia/packages/GeoDataFrames/OBKca/src/io.jl:19\n"
     ]
    },
    {
     "name": "stdout",
     "output_type": "stream",
     "text": [
      "21--ATL03_20190920223137_12960402_005_01.h5\n",
      "22--ATL03_20191005101410_01300506_005_01.h5\n",
      "23--ATL03_20191019210742_03510502_005_01.h5--> valid\n"
     ]
    },
    {
     "name": "stderr",
     "output_type": "stream",
     "text": [
      "┌ Warning: Int8 fields will become Int16\n",
      "└ @ GeoDataFrames /Users/ziyanwu/.julia/packages/GeoDataFrames/OBKca/src/io.jl:19\n",
      "┌ Warning: Int8 fields will become Int16\n",
      "└ @ GeoDataFrames /Users/ziyanwu/.julia/packages/GeoDataFrames/OBKca/src/io.jl:19\n"
     ]
    },
    {
     "name": "stdout",
     "output_type": "stream",
     "text": [
      "24--ATL03_20191107084152_06330506_005_01.h5--> valid\n"
     ]
    },
    {
     "name": "stderr",
     "output_type": "stream",
     "text": [
      "┌ Warning: Int8 fields will become Int16\n",
      "└ @ GeoDataFrames /Users/ziyanwu/.julia/packages/GeoDataFrames/OBKca/src/io.jl:19\n",
      "┌ Warning: Int8 fields will become Int16\n",
      "└ @ GeoDataFrames /Users/ziyanwu/.julia/packages/GeoDataFrames/OBKca/src/io.jl:19\n"
     ]
    },
    {
     "name": "stdout",
     "output_type": "stream",
     "text": [
      "25--ATL03_20191117194345_07930502_005_01.h5\n",
      "26--ATL03_20191206071753_10750506_005_01.h5\n",
      "27--ATL03_20191220181125_12960502_005_01.h5\n",
      "28--ATL03_20200104055354_01300606_005_01.h5\n",
      "29--ATL03_20200118164724_03510602_005_01.h5\n",
      "30--ATL03_20200206042135_06330606_005_01.h5\n",
      "31--ATL03_20200216152327_07930602_005_01.h5\n",
      "32--ATL03_20200306025736_10750606_005_01.h5\n",
      "33--ATL03_20200320135112_12960602_005_01.h5--> valid\n"
     ]
    },
    {
     "name": "stderr",
     "output_type": "stream",
     "text": [
      "┌ Warning: Int8 fields will become Int16\n",
      "└ @ GeoDataFrames /Users/ziyanwu/.julia/packages/GeoDataFrames/OBKca/src/io.jl:19\n",
      "┌ Warning: Int8 fields will become Int16\n",
      "└ @ GeoDataFrames /Users/ziyanwu/.julia/packages/GeoDataFrames/OBKca/src/io.jl:19\n"
     ]
    },
    {
     "name": "stdout",
     "output_type": "stream",
     "text": [
      "34--ATL03_20200404013340_01300706_005_01.h5\n",
      "35--ATL03_20200418122714_03510702_005_01.h5--> valid\n"
     ]
    },
    {
     "name": "stderr",
     "output_type": "stream",
     "text": [
      "┌ Warning: Int8 fields will become Int16\n",
      "└ @ GeoDataFrames /Users/ziyanwu/.julia/packages/GeoDataFrames/OBKca/src/io.jl:19\n",
      "┌ Warning: Int8 fields will become Int16\n",
      "└ @ GeoDataFrames /Users/ziyanwu/.julia/packages/GeoDataFrames/OBKca/src/io.jl:19\n"
     ]
    },
    {
     "name": "stdout",
     "output_type": "stream",
     "text": [
      "36--ATL03_20200507000125_06330706_005_01.h5--> valid\n"
     ]
    },
    {
     "name": "stderr",
     "output_type": "stream",
     "text": [
      "┌ Warning: Int8 fields will become Int16\n",
      "└ @ GeoDataFrames /Users/ziyanwu/.julia/packages/GeoDataFrames/OBKca/src/io.jl:19\n",
      "┌ Warning: Int8 fields will become Int16\n",
      "└ @ GeoDataFrames /Users/ziyanwu/.julia/packages/GeoDataFrames/OBKca/src/io.jl:19\n"
     ]
    },
    {
     "name": "stdout",
     "output_type": "stream",
     "text": [
      "37--ATL03_20200517110318_07930702_005_01.h5\n",
      "38--ATL03_20200604223727_10750706_005_01.h5\n",
      "39--ATL03_20200619093057_12960702_005_01.h5\n",
      "40--ATL03_20200703211327_01300806_005_01.h5\n",
      "41--ATL03_20200718080701_03510802_005_01.h5\n",
      "42--ATL03_20200805194110_06330806_005_01.h5--> valid\n"
     ]
    },
    {
     "name": "stderr",
     "output_type": "stream",
     "text": [
      "┌ Warning: Int8 fields will become Int16\n",
      "└ @ GeoDataFrames /Users/ziyanwu/.julia/packages/GeoDataFrames/OBKca/src/io.jl:19\n",
      "┌ Warning: Int8 fields will become Int16\n",
      "└ @ GeoDataFrames /Users/ziyanwu/.julia/packages/GeoDataFrames/OBKca/src/io.jl:19\n"
     ]
    },
    {
     "name": "stdout",
     "output_type": "stream",
     "text": [
      "43--ATL03_20200816064302_07930802_005_01.h5\n",
      "44--ATL03_20200903181713_10750806_005_01.h5\n",
      "45--ATL03_20200918051045_12960802_005_01.h5\n",
      "46--ATL03_20201002165310_01300906_005_01.h5\n",
      "47--ATL03_20201017034647_03510902_005_01.h5\n",
      "48--ATL03_20201104152058_06330906_005_01.h5--> valid\n"
     ]
    },
    {
     "name": "stderr",
     "output_type": "stream",
     "text": [
      "┌ Warning: Int8 fields will become Int16\n",
      "└ @ GeoDataFrames /Users/ziyanwu/.julia/packages/GeoDataFrames/OBKca/src/io.jl:19\n",
      "┌ Warning: Int8 fields will become Int16\n",
      "└ @ GeoDataFrames /Users/ziyanwu/.julia/packages/GeoDataFrames/OBKca/src/io.jl:19\n"
     ]
    },
    {
     "name": "stdout",
     "output_type": "stream",
     "text": [
      "49--ATL03_20201115022252_07930902_005_01.h5\n",
      "50--ATL03_20201203135703_10750906_005_01.h5\n",
      "51--ATL03_20201218005037_12960902_005_01.h5\n",
      "52--ATL03_20210101123309_01301006_005_01.h5\n",
      "53--ATL03_20210115232642_03511002_005_01.h5\n",
      "54--ATL03_20210203110054_06331006_005_01.h5\n",
      "55--ATL03_20210213220245_07931002_005_01.h5\n",
      "56--ATL03_20210304093657_10751006_005_01.h5\n",
      "57--ATL03_20210318203027_12961002_005_01.h5\n",
      "58--ATL03_20210402081301_01301106_005_01.h5\n",
      "59--ATL03_20210416190633_03511102_005_01.h5--> valid\n"
     ]
    },
    {
     "name": "stderr",
     "output_type": "stream",
     "text": [
      "┌ Warning: Int8 fields will become Int16\n",
      "└ @ GeoDataFrames /Users/ziyanwu/.julia/packages/GeoDataFrames/OBKca/src/io.jl:19\n",
      "┌ Warning: Int8 fields will become Int16\n",
      "└ @ GeoDataFrames /Users/ziyanwu/.julia/packages/GeoDataFrames/OBKca/src/io.jl:19\n"
     ]
    },
    {
     "name": "stdout",
     "output_type": "stream",
     "text": [
      "60--ATL03_20210505064044_06331106_005_01.h5--> valid\n"
     ]
    },
    {
     "name": "stderr",
     "output_type": "stream",
     "text": [
      "┌ Warning: Int8 fields will become Int16\n",
      "└ @ GeoDataFrames /Users/ziyanwu/.julia/packages/GeoDataFrames/OBKca/src/io.jl:19\n",
      "┌ Warning: Int8 fields will become Int16\n",
      "└ @ GeoDataFrames /Users/ziyanwu/.julia/packages/GeoDataFrames/OBKca/src/io.jl:19\n"
     ]
    },
    {
     "name": "stdout",
     "output_type": "stream",
     "text": [
      "61--ATL03_20210515174237_07931102_005_01.h5\n",
      "62--ATL03_20210603051648_10751106_005_01.h5\n",
      "63--ATL03_20210617161019_12961102_005_01.h5\n",
      "64--ATL03_20210702035250_01301206_005_01.h5\n",
      "65--ATL03_20210716144624_03511202_005_01.h5\n",
      "66--ATL03_20210804022035_06331206_005_01.h5--> valid\n"
     ]
    },
    {
     "name": "stderr",
     "output_type": "stream",
     "text": [
      "┌ Warning: Int8 fields will become Int16\n",
      "└ @ GeoDataFrames /Users/ziyanwu/.julia/packages/GeoDataFrames/OBKca/src/io.jl:19\n",
      "┌ Warning: Int8 fields will become Int16\n",
      "└ @ GeoDataFrames /Users/ziyanwu/.julia/packages/GeoDataFrames/OBKca/src/io.jl:19\n"
     ]
    },
    {
     "name": "stdout",
     "output_type": "stream",
     "text": [
      "67--ATL03_20210814132230_07931202_005_01.h5\n",
      "68--ATL03_20210902005643_10751206_005_01.h5\n",
      "69--ATL03_20210916115016_12961202_005_01.h5\n",
      "70--ATL03_20210930233248_01301306_005_01.h5\n",
      "71--ATL03_20211015102622_03511302_005_01.h5\n",
      "72--ATL03_20211102220037_06331306_005_01.h5\n",
      "73--ATL03_20211113090234_07931302_005_01.h5\n",
      "74--ATL03_20211201203639_10751306_005_01.h5--> valid\n"
     ]
    },
    {
     "name": "stderr",
     "output_type": "stream",
     "text": [
      "┌ Warning: Int8 fields will become Int16\n",
      "└ @ GeoDataFrames /Users/ziyanwu/.julia/packages/GeoDataFrames/OBKca/src/io.jl:19\n",
      "┌ Warning: Int8 fields will become Int16\n",
      "└ @ GeoDataFrames /Users/ziyanwu/.julia/packages/GeoDataFrames/OBKca/src/io.jl:19\n"
     ]
    },
    {
     "name": "stdout",
     "output_type": "stream",
     "text": [
      "75--ATL03_20211216073013_12961302_005_01.h5--> valid\n"
     ]
    },
    {
     "name": "stderr",
     "output_type": "stream",
     "text": [
      "┌ Warning: Int8 fields will become Int16\n",
      "└ @ GeoDataFrames /Users/ziyanwu/.julia/packages/GeoDataFrames/OBKca/src/io.jl:19\n",
      "┌ Warning: Int8 fields will become Int16\n",
      "└ @ GeoDataFrames /Users/ziyanwu/.julia/packages/GeoDataFrames/OBKca/src/io.jl:19\n"
     ]
    }
   ],
   "source": [
    "path = readdir(path) # folder directory\n",
    "i = 0\n",
    "for file in path\n",
    "#     println(file,\"\\n\")\n",
    "    if occursin(\"h5\", file)\n",
    "#         println(file)\n",
    "        granule03 = granule_from_file(joinpath(full_path,file))\n",
    "#         println(m)\n",
    "        \n",
    "        # clip \n",
    "        # a quarter of the old area\n",
    "        sample = (min_x = 6.8158577, min_y = 53.1524112, max_x = 6.91386, max_y = 53.1858575)\n",
    "        # from read.ipynb file\n",
    "\n",
    "        t03 = vcat(DataFrame.(points(granule03))...)\n",
    "        # test = in_bbox(granule03, area)  # return true means intersection\n",
    "        # println(i,\"--\",test)\n",
    "        test = in_bbox(t03, sample)\n",
    "\n",
    "        # check if test is empty\n",
    "        i += 1\n",
    "        if size(test)[1] != 0\n",
    "            println(i,\"--\",granule03.id,\"--> valid\")\n",
    "            # creat point and write file to \"datagpkg\"\n",
    "            test.geom=createpoint.(test.x, test.y, test.z)\n",
    "            GeoDataFrames.write(joinpath(save_path, \"$(granule03.id).gpkg\"),test)\n",
    "            # GeoDataFrames.write(\"$(granule03.id).gpkg\",test)\n",
    "        else\n",
    "            println(i,\"--\",granule03.id)\n",
    "        end\n",
    "    end\n",
    "end"
   ]
  },
  {
   "cell_type": "code",
   "execution_count": null,
   "id": "80f6c7b9",
   "metadata": {},
   "outputs": [],
   "source": []
  }
 ],
 "metadata": {
  "kernelspec": {
   "display_name": "Julia 1.6.3",
   "language": "julia",
   "name": "julia-1.6"
  },
  "language_info": {
   "file_extension": ".jl",
   "mimetype": "application/julia",
   "name": "julia",
   "version": "1.6.3"
  }
 },
 "nbformat": 4,
 "nbformat_minor": 5
}
