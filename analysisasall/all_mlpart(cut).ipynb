{
 "cells": [
  {
   "cell_type": "code",
   "execution_count": 1,
   "id": "3009faaa",
   "metadata": {},
   "outputs": [],
   "source": [
    "%run ../../processed/myfuncs.ipynb"
   ]
  },
  {
   "cell_type": "code",
   "execution_count": 2,
   "id": "5f0706e9",
   "metadata": {
    "collapsed": true
   },
   "outputs": [
    {
     "name": "stdout",
     "output_type": "stream",
     "text": [
      "1640\n"
     ]
    },
    {
     "data": {
      "text/html": [
       "<div>\n",
       "<style scoped>\n",
       "    .dataframe tbody tr th:only-of-type {\n",
       "        vertical-align: middle;\n",
       "    }\n",
       "\n",
       "    .dataframe tbody tr th {\n",
       "        vertical-align: top;\n",
       "    }\n",
       "\n",
       "    .dataframe thead th {\n",
       "        text-align: right;\n",
       "    }\n",
       "</style>\n",
       "<table border=\"1\" class=\"dataframe\">\n",
       "  <thead>\n",
       "    <tr style=\"text-align: right;\">\n",
       "      <th></th>\n",
       "      <th>gid</th>\n",
       "      <th>fid</th>\n",
       "      <th>h_dak_min</th>\n",
       "      <th>h_dak_50p</th>\n",
       "      <th>h_dak_70p</th>\n",
       "      <th>h_dak_max</th>\n",
       "      <th>tile_id</th>\n",
       "      <th>construction_year</th>\n",
       "      <th>h_maaiveld</th>\n",
       "      <th>intersection_cnt</th>\n",
       "      <th>idw_100m</th>\n",
       "      <th>g_diff</th>\n",
       "      <th>r_50th</th>\n",
       "      <th>r50p50</th>\n",
       "      <th>bh_real</th>\n",
       "      <th>bh</th>\n",
       "      <th>bh_diff</th>\n",
       "      <th>geometry</th>\n",
       "    </tr>\n",
       "  </thead>\n",
       "  <tbody>\n",
       "    <tr>\n",
       "      <th>0</th>\n",
       "      <td>20521911</td>\n",
       "      <td>12069390</td>\n",
       "      <td>66.9523</td>\n",
       "      <td>74.9567</td>\n",
       "      <td>76.2644</td>\n",
       "      <td>78.0924</td>\n",
       "      <td>5201</td>\n",
       "      <td>1980</td>\n",
       "      <td>66.971</td>\n",
       "      <td>19</td>\n",
       "      <td>69.0480</td>\n",
       "      <td>2.0770</td>\n",
       "      <td>77.1824</td>\n",
       "      <td>2.2258</td>\n",
       "      <td>7.9857</td>\n",
       "      <td>8.1344</td>\n",
       "      <td>0.1488</td>\n",
       "      <td>POLYGON ((173760.482 318545.315, 173757.295 31...</td>\n",
       "    </tr>\n",
       "    <tr>\n",
       "      <th>1</th>\n",
       "      <td>20524607</td>\n",
       "      <td>12004847</td>\n",
       "      <td>67.7591</td>\n",
       "      <td>74.4515</td>\n",
       "      <td>74.6724</td>\n",
       "      <td>75.5130</td>\n",
       "      <td>5201</td>\n",
       "      <td>1965</td>\n",
       "      <td>67.705</td>\n",
       "      <td>10</td>\n",
       "      <td>69.8774</td>\n",
       "      <td>2.1724</td>\n",
       "      <td>74.6221</td>\n",
       "      <td>0.1706</td>\n",
       "      <td>6.7465</td>\n",
       "      <td>4.7447</td>\n",
       "      <td>2.0018</td>\n",
       "      <td>POLYGON ((174271.699 318099.880, 174271.836 31...</td>\n",
       "    </tr>\n",
       "    <tr>\n",
       "      <th>2</th>\n",
       "      <td>20524612</td>\n",
       "      <td>12004854</td>\n",
       "      <td>67.7406</td>\n",
       "      <td>74.4144</td>\n",
       "      <td>74.6353</td>\n",
       "      <td>74.9959</td>\n",
       "      <td>5201</td>\n",
       "      <td>1965</td>\n",
       "      <td>67.668</td>\n",
       "      <td>9</td>\n",
       "      <td>69.8774</td>\n",
       "      <td>2.2094</td>\n",
       "      <td>74.7106</td>\n",
       "      <td>0.2962</td>\n",
       "      <td>6.7464</td>\n",
       "      <td>4.8332</td>\n",
       "      <td>1.9132</td>\n",
       "      <td>POLYGON ((174272.769 318103.888, 174272.997 31...</td>\n",
       "    </tr>\n",
       "    <tr>\n",
       "      <th>3</th>\n",
       "      <td>20524622</td>\n",
       "      <td>12004867</td>\n",
       "      <td>67.7084</td>\n",
       "      <td>74.4114</td>\n",
       "      <td>74.6326</td>\n",
       "      <td>74.9828</td>\n",
       "      <td>5201</td>\n",
       "      <td>1965</td>\n",
       "      <td>67.640</td>\n",
       "      <td>7</td>\n",
       "      <td>69.8774</td>\n",
       "      <td>2.2374</td>\n",
       "      <td>74.1712</td>\n",
       "      <td>0.2402</td>\n",
       "      <td>6.7714</td>\n",
       "      <td>4.2938</td>\n",
       "      <td>2.4776</td>\n",
       "      <td>POLYGON ((174275.146 318112.154, 174274.990 31...</td>\n",
       "    </tr>\n",
       "    <tr>\n",
       "      <th>4</th>\n",
       "      <td>20524625</td>\n",
       "      <td>12004872</td>\n",
       "      <td>67.6720</td>\n",
       "      <td>74.4520</td>\n",
       "      <td>74.6740</td>\n",
       "      <td>75.4674</td>\n",
       "      <td>5201</td>\n",
       "      <td>1965</td>\n",
       "      <td>67.611</td>\n",
       "      <td>8</td>\n",
       "      <td>69.8774</td>\n",
       "      <td>2.2664</td>\n",
       "      <td>74.1796</td>\n",
       "      <td>0.2723</td>\n",
       "      <td>6.8410</td>\n",
       "      <td>4.3022</td>\n",
       "      <td>2.5388</td>\n",
       "      <td>POLYGON ((174284.074 318114.216, 174280.075 31...</td>\n",
       "    </tr>\n",
       "  </tbody>\n",
       "</table>\n",
       "</div>"
      ],
      "text/plain": [
       "        gid       fid  h_dak_min  h_dak_50p  h_dak_70p  h_dak_max tile_id  \\\n",
       "0  20521911  12069390    66.9523    74.9567    76.2644    78.0924    5201   \n",
       "1  20524607  12004847    67.7591    74.4515    74.6724    75.5130    5201   \n",
       "2  20524612  12004854    67.7406    74.4144    74.6353    74.9959    5201   \n",
       "3  20524622  12004867    67.7084    74.4114    74.6326    74.9828    5201   \n",
       "4  20524625  12004872    67.6720    74.4520    74.6740    75.4674    5201   \n",
       "\n",
       "   construction_year  h_maaiveld  intersection_cnt  idw_100m  g_diff   r_50th  \\\n",
       "0               1980      66.971                19   69.0480  2.0770  77.1824   \n",
       "1               1965      67.705                10   69.8774  2.1724  74.6221   \n",
       "2               1965      67.668                 9   69.8774  2.2094  74.7106   \n",
       "3               1965      67.640                 7   69.8774  2.2374  74.1712   \n",
       "4               1965      67.611                 8   69.8774  2.2664  74.1796   \n",
       "\n",
       "   r50p50  bh_real      bh  bh_diff  \\\n",
       "0  2.2258   7.9857  8.1344   0.1488   \n",
       "1  0.1706   6.7465  4.7447   2.0018   \n",
       "2  0.2962   6.7464  4.8332   1.9132   \n",
       "3  0.2402   6.7714  4.2938   2.4776   \n",
       "4  0.2723   6.8410  4.3022   2.5388   \n",
       "\n",
       "                                            geometry  \n",
       "0  POLYGON ((173760.482 318545.315, 173757.295 31...  \n",
       "1  POLYGON ((174271.699 318099.880, 174271.836 31...  \n",
       "2  POLYGON ((174272.769 318103.888, 174272.997 31...  \n",
       "3  POLYGON ((174275.146 318112.154, 174274.990 31...  \n",
       "4  POLYGON ((174284.074 318114.216, 174280.075 31...  "
      ]
     },
     "execution_count": 2,
     "metadata": {},
     "output_type": "execute_result"
    }
   ],
   "source": [
    "df01 = gpd.read_file('../01masstricht/output/df_mall.geojson')#.to_crs(epsg=7415)\n",
    "print(len(df01))\n",
    "df01.head()"
   ]
  },
  {
   "cell_type": "code",
   "execution_count": 3,
   "id": "a8847f30",
   "metadata": {},
   "outputs": [],
   "source": [
    "df01 = explode_mutilpolygon(df01)"
   ]
  },
  {
   "cell_type": "code",
   "execution_count": 708,
   "id": "6aa14ee2",
   "metadata": {
    "collapsed": true
   },
   "outputs": [
    {
     "data": {
      "text/html": [
       "<div>\n",
       "<style scoped>\n",
       "    .dataframe tbody tr th:only-of-type {\n",
       "        vertical-align: middle;\n",
       "    }\n",
       "\n",
       "    .dataframe tbody tr th {\n",
       "        vertical-align: top;\n",
       "    }\n",
       "\n",
       "    .dataframe thead th {\n",
       "        text-align: right;\n",
       "    }\n",
       "</style>\n",
       "<table border=\"1\" class=\"dataframe\">\n",
       "  <thead>\n",
       "    <tr style=\"text-align: right;\">\n",
       "      <th></th>\n",
       "      <th>gid</th>\n",
       "      <th>fid</th>\n",
       "      <th>h_dak_min</th>\n",
       "      <th>h_dak_50p</th>\n",
       "      <th>h_dak_70p</th>\n",
       "      <th>h_dak_max</th>\n",
       "      <th>tile_id</th>\n",
       "      <th>construction_year</th>\n",
       "      <th>h_maaiveld</th>\n",
       "      <th>intersection_cnt</th>\n",
       "      <th>idw_100m</th>\n",
       "      <th>g_diff</th>\n",
       "      <th>r_50th</th>\n",
       "      <th>r50p50</th>\n",
       "      <th>bh_real</th>\n",
       "      <th>bh</th>\n",
       "      <th>bh_diff</th>\n",
       "      <th>geometry</th>\n",
       "    </tr>\n",
       "  </thead>\n",
       "  <tbody>\n",
       "    <tr>\n",
       "      <th>0</th>\n",
       "      <td>20521911</td>\n",
       "      <td>12069390</td>\n",
       "      <td>66.9523</td>\n",
       "      <td>74.9567</td>\n",
       "      <td>76.2644</td>\n",
       "      <td>78.0924</td>\n",
       "      <td>5201</td>\n",
       "      <td>1980</td>\n",
       "      <td>66.971</td>\n",
       "      <td>19</td>\n",
       "      <td>69.0480</td>\n",
       "      <td>2.0770</td>\n",
       "      <td>77.1824</td>\n",
       "      <td>2.2258</td>\n",
       "      <td>7.9857</td>\n",
       "      <td>8.1344</td>\n",
       "      <td>0.1488</td>\n",
       "      <td>POLYGON ((173760.482 318545.315, 173757.295 31...</td>\n",
       "    </tr>\n",
       "    <tr>\n",
       "      <th>1</th>\n",
       "      <td>20524607</td>\n",
       "      <td>12004847</td>\n",
       "      <td>67.7591</td>\n",
       "      <td>74.4515</td>\n",
       "      <td>74.6724</td>\n",
       "      <td>75.5130</td>\n",
       "      <td>5201</td>\n",
       "      <td>1965</td>\n",
       "      <td>67.705</td>\n",
       "      <td>10</td>\n",
       "      <td>69.8774</td>\n",
       "      <td>2.1724</td>\n",
       "      <td>74.6221</td>\n",
       "      <td>0.1706</td>\n",
       "      <td>6.7465</td>\n",
       "      <td>4.7447</td>\n",
       "      <td>2.0018</td>\n",
       "      <td>POLYGON ((174271.699 318099.880, 174271.836 31...</td>\n",
       "    </tr>\n",
       "    <tr>\n",
       "      <th>2</th>\n",
       "      <td>20524612</td>\n",
       "      <td>12004854</td>\n",
       "      <td>67.7406</td>\n",
       "      <td>74.4144</td>\n",
       "      <td>74.6353</td>\n",
       "      <td>74.9959</td>\n",
       "      <td>5201</td>\n",
       "      <td>1965</td>\n",
       "      <td>67.668</td>\n",
       "      <td>9</td>\n",
       "      <td>69.8774</td>\n",
       "      <td>2.2094</td>\n",
       "      <td>74.7106</td>\n",
       "      <td>0.2962</td>\n",
       "      <td>6.7464</td>\n",
       "      <td>4.8332</td>\n",
       "      <td>1.9132</td>\n",
       "      <td>POLYGON ((174272.769 318103.888, 174272.997 31...</td>\n",
       "    </tr>\n",
       "    <tr>\n",
       "      <th>3</th>\n",
       "      <td>20524622</td>\n",
       "      <td>12004867</td>\n",
       "      <td>67.7084</td>\n",
       "      <td>74.4114</td>\n",
       "      <td>74.6326</td>\n",
       "      <td>74.9828</td>\n",
       "      <td>5201</td>\n",
       "      <td>1965</td>\n",
       "      <td>67.640</td>\n",
       "      <td>7</td>\n",
       "      <td>69.8774</td>\n",
       "      <td>2.2374</td>\n",
       "      <td>74.1712</td>\n",
       "      <td>0.2402</td>\n",
       "      <td>6.7714</td>\n",
       "      <td>4.2938</td>\n",
       "      <td>2.4776</td>\n",
       "      <td>POLYGON ((174275.146 318112.154, 174274.990 31...</td>\n",
       "    </tr>\n",
       "    <tr>\n",
       "      <th>4</th>\n",
       "      <td>20524625</td>\n",
       "      <td>12004872</td>\n",
       "      <td>67.6720</td>\n",
       "      <td>74.4520</td>\n",
       "      <td>74.6740</td>\n",
       "      <td>75.4674</td>\n",
       "      <td>5201</td>\n",
       "      <td>1965</td>\n",
       "      <td>67.611</td>\n",
       "      <td>8</td>\n",
       "      <td>69.8774</td>\n",
       "      <td>2.2664</td>\n",
       "      <td>74.1796</td>\n",
       "      <td>0.2723</td>\n",
       "      <td>6.8410</td>\n",
       "      <td>4.3022</td>\n",
       "      <td>2.5388</td>\n",
       "      <td>POLYGON ((174284.074 318114.216, 174280.075 31...</td>\n",
       "    </tr>\n",
       "    <tr>\n",
       "      <th>...</th>\n",
       "      <td>...</td>\n",
       "      <td>...</td>\n",
       "      <td>...</td>\n",
       "      <td>...</td>\n",
       "      <td>...</td>\n",
       "      <td>...</td>\n",
       "      <td>...</td>\n",
       "      <td>...</td>\n",
       "      <td>...</td>\n",
       "      <td>...</td>\n",
       "      <td>...</td>\n",
       "      <td>...</td>\n",
       "      <td>...</td>\n",
       "      <td>...</td>\n",
       "      <td>...</td>\n",
       "      <td>...</td>\n",
       "      <td>...</td>\n",
       "      <td>...</td>\n",
       "    </tr>\n",
       "    <tr>\n",
       "      <th>1635</th>\n",
       "      <td>8091891</td>\n",
       "      <td>13217961</td>\n",
       "      <td>47.8334</td>\n",
       "      <td>51.0416</td>\n",
       "      <td>51.0643</td>\n",
       "      <td>54.4316</td>\n",
       "      <td>5196</td>\n",
       "      <td>2003</td>\n",
       "      <td>47.901</td>\n",
       "      <td>75</td>\n",
       "      <td>49.8368</td>\n",
       "      <td>1.9358</td>\n",
       "      <td>53.9839</td>\n",
       "      <td>2.9423</td>\n",
       "      <td>3.1406</td>\n",
       "      <td>4.1471</td>\n",
       "      <td>1.0065</td>\n",
       "      <td>POLYGON ((177586.124 314683.209, 177586.052 31...</td>\n",
       "    </tr>\n",
       "    <tr>\n",
       "      <th>1636</th>\n",
       "      <td>8091910</td>\n",
       "      <td>13217972</td>\n",
       "      <td>48.0003</td>\n",
       "      <td>54.6201</td>\n",
       "      <td>54.8623</td>\n",
       "      <td>56.0969</td>\n",
       "      <td>5196</td>\n",
       "      <td>2003</td>\n",
       "      <td>47.974</td>\n",
       "      <td>16</td>\n",
       "      <td>48.7512</td>\n",
       "      <td>0.7772</td>\n",
       "      <td>54.7421</td>\n",
       "      <td>0.1219</td>\n",
       "      <td>6.6461</td>\n",
       "      <td>5.9909</td>\n",
       "      <td>0.6552</td>\n",
       "      <td>POLYGON ((177624.225 314649.482, 177625.788 31...</td>\n",
       "    </tr>\n",
       "    <tr>\n",
       "      <th>1637</th>\n",
       "      <td>8091922</td>\n",
       "      <td>13217977</td>\n",
       "      <td>47.8127</td>\n",
       "      <td>57.4295</td>\n",
       "      <td>57.6652</td>\n",
       "      <td>60.2855</td>\n",
       "      <td>5196</td>\n",
       "      <td>2003</td>\n",
       "      <td>47.795</td>\n",
       "      <td>87</td>\n",
       "      <td>49.2967</td>\n",
       "      <td>1.5017</td>\n",
       "      <td>56.2480</td>\n",
       "      <td>1.1815</td>\n",
       "      <td>9.6345</td>\n",
       "      <td>6.9513</td>\n",
       "      <td>2.6832</td>\n",
       "      <td>POLYGON ((177593.316 314730.454, 177594.288 31...</td>\n",
       "    </tr>\n",
       "    <tr>\n",
       "      <th>1638</th>\n",
       "      <td>8092506</td>\n",
       "      <td>14975074</td>\n",
       "      <td>49.0995</td>\n",
       "      <td>52.0574</td>\n",
       "      <td>52.0700</td>\n",
       "      <td>52.1911</td>\n",
       "      <td>5196</td>\n",
       "      <td>1993</td>\n",
       "      <td>49.101</td>\n",
       "      <td>10</td>\n",
       "      <td>48.1756</td>\n",
       "      <td>0.9254</td>\n",
       "      <td>52.1417</td>\n",
       "      <td>0.0844</td>\n",
       "      <td>2.9564</td>\n",
       "      <td>3.9661</td>\n",
       "      <td>1.0098</td>\n",
       "      <td>POLYGON ((177591.015 314100.443, 177591.068 31...</td>\n",
       "    </tr>\n",
       "    <tr>\n",
       "      <th>1639</th>\n",
       "      <td>17065683</td>\n",
       "      <td>10270384</td>\n",
       "      <td>63.8286</td>\n",
       "      <td>67.3154</td>\n",
       "      <td>67.6315</td>\n",
       "      <td>68.1778</td>\n",
       "      <td>2422</td>\n",
       "      <td>2001</td>\n",
       "      <td>63.748</td>\n",
       "      <td>13</td>\n",
       "      <td>64.3648</td>\n",
       "      <td>0.6168</td>\n",
       "      <td>67.6712</td>\n",
       "      <td>0.3558</td>\n",
       "      <td>3.5674</td>\n",
       "      <td>3.3064</td>\n",
       "      <td>0.2610</td>\n",
       "      <td>POLYGON ((179449.841 315999.755, 179462.546 31...</td>\n",
       "    </tr>\n",
       "  </tbody>\n",
       "</table>\n",
       "<p>1640 rows × 18 columns</p>\n",
       "</div>"
      ],
      "text/plain": [
       "           gid       fid  h_dak_min  h_dak_50p  h_dak_70p  h_dak_max tile_id  \\\n",
       "0     20521911  12069390    66.9523    74.9567    76.2644    78.0924    5201   \n",
       "1     20524607  12004847    67.7591    74.4515    74.6724    75.5130    5201   \n",
       "2     20524612  12004854    67.7406    74.4144    74.6353    74.9959    5201   \n",
       "3     20524622  12004867    67.7084    74.4114    74.6326    74.9828    5201   \n",
       "4     20524625  12004872    67.6720    74.4520    74.6740    75.4674    5201   \n",
       "...        ...       ...        ...        ...        ...        ...     ...   \n",
       "1635   8091891  13217961    47.8334    51.0416    51.0643    54.4316    5196   \n",
       "1636   8091910  13217972    48.0003    54.6201    54.8623    56.0969    5196   \n",
       "1637   8091922  13217977    47.8127    57.4295    57.6652    60.2855    5196   \n",
       "1638   8092506  14975074    49.0995    52.0574    52.0700    52.1911    5196   \n",
       "1639  17065683  10270384    63.8286    67.3154    67.6315    68.1778    2422   \n",
       "\n",
       "      construction_year  h_maaiveld  intersection_cnt  idw_100m  g_diff  \\\n",
       "0                  1980      66.971                19   69.0480  2.0770   \n",
       "1                  1965      67.705                10   69.8774  2.1724   \n",
       "2                  1965      67.668                 9   69.8774  2.2094   \n",
       "3                  1965      67.640                 7   69.8774  2.2374   \n",
       "4                  1965      67.611                 8   69.8774  2.2664   \n",
       "...                 ...         ...               ...       ...     ...   \n",
       "1635               2003      47.901                75   49.8368  1.9358   \n",
       "1636               2003      47.974                16   48.7512  0.7772   \n",
       "1637               2003      47.795                87   49.2967  1.5017   \n",
       "1638               1993      49.101                10   48.1756  0.9254   \n",
       "1639               2001      63.748                13   64.3648  0.6168   \n",
       "\n",
       "       r_50th  r50p50  bh_real      bh  bh_diff  \\\n",
       "0     77.1824  2.2258   7.9857  8.1344   0.1488   \n",
       "1     74.6221  0.1706   6.7465  4.7447   2.0018   \n",
       "2     74.7106  0.2962   6.7464  4.8332   1.9132   \n",
       "3     74.1712  0.2402   6.7714  4.2938   2.4776   \n",
       "4     74.1796  0.2723   6.8410  4.3022   2.5388   \n",
       "...       ...     ...      ...     ...      ...   \n",
       "1635  53.9839  2.9423   3.1406  4.1471   1.0065   \n",
       "1636  54.7421  0.1219   6.6461  5.9909   0.6552   \n",
       "1637  56.2480  1.1815   9.6345  6.9513   2.6832   \n",
       "1638  52.1417  0.0844   2.9564  3.9661   1.0098   \n",
       "1639  67.6712  0.3558   3.5674  3.3064   0.2610   \n",
       "\n",
       "                                               geometry  \n",
       "0     POLYGON ((173760.482 318545.315, 173757.295 31...  \n",
       "1     POLYGON ((174271.699 318099.880, 174271.836 31...  \n",
       "2     POLYGON ((174272.769 318103.888, 174272.997 31...  \n",
       "3     POLYGON ((174275.146 318112.154, 174274.990 31...  \n",
       "4     POLYGON ((174284.074 318114.216, 174280.075 31...  \n",
       "...                                                 ...  \n",
       "1635  POLYGON ((177586.124 314683.209, 177586.052 31...  \n",
       "1636  POLYGON ((177624.225 314649.482, 177625.788 31...  \n",
       "1637  POLYGON ((177593.316 314730.454, 177594.288 31...  \n",
       "1638  POLYGON ((177591.015 314100.443, 177591.068 31...  \n",
       "1639  POLYGON ((179449.841 315999.755, 179462.546 31...  \n",
       "\n",
       "[1640 rows x 18 columns]"
      ]
     },
     "execution_count": 708,
     "metadata": {},
     "output_type": "execute_result"
    }
   ],
   "source": [
    "df01"
   ]
  },
  {
   "cell_type": "code",
   "execution_count": 4,
   "id": "b7346488",
   "metadata": {
    "collapsed": true
   },
   "outputs": [
    {
     "name": "stdout",
     "output_type": "stream",
     "text": [
      "1638\n"
     ]
    },
    {
     "data": {
      "text/html": [
       "<div>\n",
       "<style scoped>\n",
       "    .dataframe tbody tr th:only-of-type {\n",
       "        vertical-align: middle;\n",
       "    }\n",
       "\n",
       "    .dataframe tbody tr th {\n",
       "        vertical-align: top;\n",
       "    }\n",
       "\n",
       "    .dataframe thead th {\n",
       "        text-align: right;\n",
       "    }\n",
       "</style>\n",
       "<table border=\"1\" class=\"dataframe\">\n",
       "  <thead>\n",
       "    <tr style=\"text-align: right;\">\n",
       "      <th></th>\n",
       "      <th>gid</th>\n",
       "      <th>fid</th>\n",
       "      <th>h_dak_min</th>\n",
       "      <th>h_dak_50p</th>\n",
       "      <th>h_dak_70p</th>\n",
       "      <th>h_dak_max</th>\n",
       "      <th>tile_id</th>\n",
       "      <th>construction_year</th>\n",
       "      <th>h_maaiveld</th>\n",
       "      <th>intersection_cnt</th>\n",
       "      <th>idw_100m</th>\n",
       "      <th>g_diff</th>\n",
       "      <th>r_50th</th>\n",
       "      <th>r50p50</th>\n",
       "      <th>bh_real</th>\n",
       "      <th>bh</th>\n",
       "      <th>bh_diff</th>\n",
       "      <th>geometry</th>\n",
       "    </tr>\n",
       "  </thead>\n",
       "  <tbody>\n",
       "    <tr>\n",
       "      <th>0</th>\n",
       "      <td>20521911</td>\n",
       "      <td>12069390</td>\n",
       "      <td>66.9523</td>\n",
       "      <td>74.9567</td>\n",
       "      <td>76.2644</td>\n",
       "      <td>78.0924</td>\n",
       "      <td>5201</td>\n",
       "      <td>1980</td>\n",
       "      <td>66.971</td>\n",
       "      <td>19</td>\n",
       "      <td>69.0480</td>\n",
       "      <td>2.0770</td>\n",
       "      <td>77.1824</td>\n",
       "      <td>2.2258</td>\n",
       "      <td>7.9857</td>\n",
       "      <td>8.1344</td>\n",
       "      <td>0.1488</td>\n",
       "      <td>POLYGON ((173760.482 318545.315, 173757.295 31...</td>\n",
       "    </tr>\n",
       "    <tr>\n",
       "      <th>1</th>\n",
       "      <td>20524607</td>\n",
       "      <td>12004847</td>\n",
       "      <td>67.7591</td>\n",
       "      <td>74.4515</td>\n",
       "      <td>74.6724</td>\n",
       "      <td>75.5130</td>\n",
       "      <td>5201</td>\n",
       "      <td>1965</td>\n",
       "      <td>67.705</td>\n",
       "      <td>10</td>\n",
       "      <td>69.8774</td>\n",
       "      <td>2.1724</td>\n",
       "      <td>74.6221</td>\n",
       "      <td>0.1706</td>\n",
       "      <td>6.7465</td>\n",
       "      <td>4.7447</td>\n",
       "      <td>2.0018</td>\n",
       "      <td>POLYGON ((174271.699 318099.880, 174271.836 31...</td>\n",
       "    </tr>\n",
       "    <tr>\n",
       "      <th>2</th>\n",
       "      <td>20524612</td>\n",
       "      <td>12004854</td>\n",
       "      <td>67.7406</td>\n",
       "      <td>74.4144</td>\n",
       "      <td>74.6353</td>\n",
       "      <td>74.9959</td>\n",
       "      <td>5201</td>\n",
       "      <td>1965</td>\n",
       "      <td>67.668</td>\n",
       "      <td>9</td>\n",
       "      <td>69.8774</td>\n",
       "      <td>2.2094</td>\n",
       "      <td>74.7106</td>\n",
       "      <td>0.2962</td>\n",
       "      <td>6.7464</td>\n",
       "      <td>4.8332</td>\n",
       "      <td>1.9132</td>\n",
       "      <td>POLYGON ((174272.769 318103.888, 174272.997 31...</td>\n",
       "    </tr>\n",
       "    <tr>\n",
       "      <th>3</th>\n",
       "      <td>20524622</td>\n",
       "      <td>12004867</td>\n",
       "      <td>67.7084</td>\n",
       "      <td>74.4114</td>\n",
       "      <td>74.6326</td>\n",
       "      <td>74.9828</td>\n",
       "      <td>5201</td>\n",
       "      <td>1965</td>\n",
       "      <td>67.640</td>\n",
       "      <td>7</td>\n",
       "      <td>69.8774</td>\n",
       "      <td>2.2374</td>\n",
       "      <td>74.1712</td>\n",
       "      <td>0.2402</td>\n",
       "      <td>6.7714</td>\n",
       "      <td>4.2938</td>\n",
       "      <td>2.4776</td>\n",
       "      <td>POLYGON ((174275.146 318112.154, 174274.990 31...</td>\n",
       "    </tr>\n",
       "    <tr>\n",
       "      <th>4</th>\n",
       "      <td>20524625</td>\n",
       "      <td>12004872</td>\n",
       "      <td>67.6720</td>\n",
       "      <td>74.4520</td>\n",
       "      <td>74.6740</td>\n",
       "      <td>75.4674</td>\n",
       "      <td>5201</td>\n",
       "      <td>1965</td>\n",
       "      <td>67.611</td>\n",
       "      <td>8</td>\n",
       "      <td>69.8774</td>\n",
       "      <td>2.2664</td>\n",
       "      <td>74.1796</td>\n",
       "      <td>0.2723</td>\n",
       "      <td>6.8410</td>\n",
       "      <td>4.3022</td>\n",
       "      <td>2.5388</td>\n",
       "      <td>POLYGON ((174284.074 318114.216, 174280.075 31...</td>\n",
       "    </tr>\n",
       "  </tbody>\n",
       "</table>\n",
       "</div>"
      ],
      "text/plain": [
       "        gid       fid  h_dak_min  h_dak_50p  h_dak_70p  h_dak_max tile_id  \\\n",
       "0  20521911  12069390    66.9523    74.9567    76.2644    78.0924    5201   \n",
       "1  20524607  12004847    67.7591    74.4515    74.6724    75.5130    5201   \n",
       "2  20524612  12004854    67.7406    74.4144    74.6353    74.9959    5201   \n",
       "3  20524622  12004867    67.7084    74.4114    74.6326    74.9828    5201   \n",
       "4  20524625  12004872    67.6720    74.4520    74.6740    75.4674    5201   \n",
       "\n",
       "   construction_year  h_maaiveld  intersection_cnt  idw_100m  g_diff   r_50th  \\\n",
       "0               1980      66.971                19   69.0480  2.0770  77.1824   \n",
       "1               1965      67.705                10   69.8774  2.1724  74.6221   \n",
       "2               1965      67.668                 9   69.8774  2.2094  74.7106   \n",
       "3               1965      67.640                 7   69.8774  2.2374  74.1712   \n",
       "4               1965      67.611                 8   69.8774  2.2664  74.1796   \n",
       "\n",
       "   r50p50  bh_real      bh  bh_diff  \\\n",
       "0  2.2258   7.9857  8.1344   0.1488   \n",
       "1  0.1706   6.7465  4.7447   2.0018   \n",
       "2  0.2962   6.7464  4.8332   1.9132   \n",
       "3  0.2402   6.7714  4.2938   2.4776   \n",
       "4  0.2723   6.8410  4.3022   2.5388   \n",
       "\n",
       "                                            geometry  \n",
       "0  POLYGON ((173760.482 318545.315, 173757.295 31...  \n",
       "1  POLYGON ((174271.699 318099.880, 174271.836 31...  \n",
       "2  POLYGON ((174272.769 318103.888, 174272.997 31...  \n",
       "3  POLYGON ((174275.146 318112.154, 174274.990 31...  \n",
       "4  POLYGON ((174284.074 318114.216, 174280.075 31...  "
      ]
     },
     "execution_count": 4,
     "metadata": {},
     "output_type": "execute_result"
    }
   ],
   "source": [
    "df01_cut = gpd.read_file('../01masstricht/output/df_cutmall.geojson')#.to_crs(epsg=7415)\n",
    "print(len(df01_cut))\n",
    "df01_cut.head()"
   ]
  },
  {
   "cell_type": "code",
   "execution_count": null,
   "id": "4b8c24ec",
   "metadata": {},
   "outputs": [],
   "source": []
  },
  {
   "cell_type": "code",
   "execution_count": 5,
   "id": "0830f9e7",
   "metadata": {
    "collapsed": true
   },
   "outputs": [
    {
     "name": "stdout",
     "output_type": "stream",
     "text": [
      "525\n"
     ]
    },
    {
     "data": {
      "text/html": [
       "<div>\n",
       "<style scoped>\n",
       "    .dataframe tbody tr th:only-of-type {\n",
       "        vertical-align: middle;\n",
       "    }\n",
       "\n",
       "    .dataframe tbody tr th {\n",
       "        vertical-align: top;\n",
       "    }\n",
       "\n",
       "    .dataframe thead th {\n",
       "        text-align: right;\n",
       "    }\n",
       "</style>\n",
       "<table border=\"1\" class=\"dataframe\">\n",
       "  <thead>\n",
       "    <tr style=\"text-align: right;\">\n",
       "      <th></th>\n",
       "      <th>gid</th>\n",
       "      <th>h_dak_min</th>\n",
       "      <th>h_dak_50p</th>\n",
       "      <th>h_dak_70p</th>\n",
       "      <th>h_dak_max</th>\n",
       "      <th>tile_id</th>\n",
       "      <th>construction_year</th>\n",
       "      <th>h_maaiveld</th>\n",
       "      <th>intersection_cnt</th>\n",
       "      <th>idw_100m</th>\n",
       "      <th>g_diff</th>\n",
       "      <th>r_50th</th>\n",
       "      <th>r50p50</th>\n",
       "      <th>bh_real</th>\n",
       "      <th>bh</th>\n",
       "      <th>bh_diff</th>\n",
       "      <th>geometry</th>\n",
       "    </tr>\n",
       "  </thead>\n",
       "  <tbody>\n",
       "    <tr>\n",
       "      <th>0</th>\n",
       "      <td>26367598</td>\n",
       "      <td>-0.5723</td>\n",
       "      <td>15.7690</td>\n",
       "      <td>18.4894</td>\n",
       "      <td>19.8241</td>\n",
       "      <td>5853</td>\n",
       "      <td>1996</td>\n",
       "      <td>-0.345</td>\n",
       "      <td>20</td>\n",
       "      <td>0.2381</td>\n",
       "      <td>0.5831</td>\n",
       "      <td>16.2137</td>\n",
       "      <td>0.4447</td>\n",
       "      <td>16.1140</td>\n",
       "      <td>15.9756</td>\n",
       "      <td>0.1384</td>\n",
       "      <td>POLYGON ((80235.119 449938.633, 80235.111 4499...</td>\n",
       "    </tr>\n",
       "    <tr>\n",
       "      <th>1</th>\n",
       "      <td>26367721</td>\n",
       "      <td>0.2913</td>\n",
       "      <td>5.3357</td>\n",
       "      <td>5.9425</td>\n",
       "      <td>7.6335</td>\n",
       "      <td>5853</td>\n",
       "      <td>1903</td>\n",
       "      <td>0.377</td>\n",
       "      <td>46</td>\n",
       "      <td>0.4654</td>\n",
       "      <td>0.0884</td>\n",
       "      <td>3.9519</td>\n",
       "      <td>1.3839</td>\n",
       "      <td>4.9587</td>\n",
       "      <td>3.4865</td>\n",
       "      <td>1.4723</td>\n",
       "      <td>POLYGON ((80216.130 449847.110, 80216.394 4498...</td>\n",
       "    </tr>\n",
       "    <tr>\n",
       "      <th>2</th>\n",
       "      <td>26367740</td>\n",
       "      <td>0.5807</td>\n",
       "      <td>8.6008</td>\n",
       "      <td>8.7123</td>\n",
       "      <td>9.8582</td>\n",
       "      <td>5853</td>\n",
       "      <td>1995</td>\n",
       "      <td>0.588</td>\n",
       "      <td>9</td>\n",
       "      <td>0.4654</td>\n",
       "      <td>0.1226</td>\n",
       "      <td>8.4462</td>\n",
       "      <td>0.1546</td>\n",
       "      <td>8.0128</td>\n",
       "      <td>7.9808</td>\n",
       "      <td>0.0320</td>\n",
       "      <td>POLYGON ((80231.514 449888.665, 80227.390 4498...</td>\n",
       "    </tr>\n",
       "    <tr>\n",
       "      <th>3</th>\n",
       "      <td>26367767</td>\n",
       "      <td>0.6345</td>\n",
       "      <td>8.5480</td>\n",
       "      <td>8.7215</td>\n",
       "      <td>9.8270</td>\n",
       "      <td>5853</td>\n",
       "      <td>1995</td>\n",
       "      <td>0.571</td>\n",
       "      <td>7</td>\n",
       "      <td>0.4654</td>\n",
       "      <td>0.1056</td>\n",
       "      <td>4.0642</td>\n",
       "      <td>4.4838</td>\n",
       "      <td>7.9770</td>\n",
       "      <td>3.5988</td>\n",
       "      <td>4.3782</td>\n",
       "      <td>POLYGON ((80234.687 449853.491, 80234.775 4498...</td>\n",
       "    </tr>\n",
       "    <tr>\n",
       "      <th>4</th>\n",
       "      <td>17412217</td>\n",
       "      <td>0.7041</td>\n",
       "      <td>9.1529</td>\n",
       "      <td>9.1803</td>\n",
       "      <td>9.2736</td>\n",
       "      <td>3008</td>\n",
       "      <td>1996</td>\n",
       "      <td>0.663</td>\n",
       "      <td>11</td>\n",
       "      <td>0.8555</td>\n",
       "      <td>0.1925</td>\n",
       "      <td>9.2094</td>\n",
       "      <td>0.0564</td>\n",
       "      <td>8.4899</td>\n",
       "      <td>8.3539</td>\n",
       "      <td>0.1360</td>\n",
       "      <td>POLYGON ((80201.919 450189.150, 80201.326 4501...</td>\n",
       "    </tr>\n",
       "  </tbody>\n",
       "</table>\n",
       "</div>"
      ],
      "text/plain": [
       "        gid  h_dak_min  h_dak_50p  h_dak_70p  h_dak_max tile_id  \\\n",
       "0  26367598    -0.5723    15.7690    18.4894    19.8241    5853   \n",
       "1  26367721     0.2913     5.3357     5.9425     7.6335    5853   \n",
       "2  26367740     0.5807     8.6008     8.7123     9.8582    5853   \n",
       "3  26367767     0.6345     8.5480     8.7215     9.8270    5853   \n",
       "4  17412217     0.7041     9.1529     9.1803     9.2736    3008   \n",
       "\n",
       "   construction_year  h_maaiveld  intersection_cnt  idw_100m  g_diff   r_50th  \\\n",
       "0               1996      -0.345                20    0.2381  0.5831  16.2137   \n",
       "1               1903       0.377                46    0.4654  0.0884   3.9519   \n",
       "2               1995       0.588                 9    0.4654  0.1226   8.4462   \n",
       "3               1995       0.571                 7    0.4654  0.1056   4.0642   \n",
       "4               1996       0.663                11    0.8555  0.1925   9.2094   \n",
       "\n",
       "   r50p50  bh_real       bh  bh_diff  \\\n",
       "0  0.4447  16.1140  15.9756   0.1384   \n",
       "1  1.3839   4.9587   3.4865   1.4723   \n",
       "2  0.1546   8.0128   7.9808   0.0320   \n",
       "3  4.4838   7.9770   3.5988   4.3782   \n",
       "4  0.0564   8.4899   8.3539   0.1360   \n",
       "\n",
       "                                            geometry  \n",
       "0  POLYGON ((80235.119 449938.633, 80235.111 4499...  \n",
       "1  POLYGON ((80216.130 449847.110, 80216.394 4498...  \n",
       "2  POLYGON ((80231.514 449888.665, 80227.390 4498...  \n",
       "3  POLYGON ((80234.687 449853.491, 80234.775 4498...  \n",
       "4  POLYGON ((80201.919 450189.150, 80201.326 4501...  "
      ]
     },
     "execution_count": 5,
     "metadata": {},
     "output_type": "execute_result"
    }
   ],
   "source": [
    "df02 = gpd.read_file('../02rijswijk/output/df_rall.gpkg')#.to_crs(epsg=7415)\n",
    "print(len(df02))\n",
    "df02.head()"
   ]
  },
  {
   "cell_type": "code",
   "execution_count": 6,
   "id": "261f951a",
   "metadata": {},
   "outputs": [],
   "source": [
    "df02 = explode_mutilpolygon(df02)"
   ]
  },
  {
   "cell_type": "code",
   "execution_count": 7,
   "id": "fe4849a2",
   "metadata": {
    "collapsed": true
   },
   "outputs": [
    {
     "name": "stdout",
     "output_type": "stream",
     "text": [
      "73\n"
     ]
    },
    {
     "data": {
      "text/html": [
       "<div>\n",
       "<style scoped>\n",
       "    .dataframe tbody tr th:only-of-type {\n",
       "        vertical-align: middle;\n",
       "    }\n",
       "\n",
       "    .dataframe tbody tr th {\n",
       "        vertical-align: top;\n",
       "    }\n",
       "\n",
       "    .dataframe thead th {\n",
       "        text-align: right;\n",
       "    }\n",
       "</style>\n",
       "<table border=\"1\" class=\"dataframe\">\n",
       "  <thead>\n",
       "    <tr style=\"text-align: right;\">\n",
       "      <th></th>\n",
       "      <th>gid</th>\n",
       "      <th>h_dak_min</th>\n",
       "      <th>h_dak_50p</th>\n",
       "      <th>h_dak_70p</th>\n",
       "      <th>h_dak_max</th>\n",
       "      <th>tile_id</th>\n",
       "      <th>construction_year</th>\n",
       "      <th>h_maaiveld</th>\n",
       "      <th>intersection_cnt</th>\n",
       "      <th>idw_100m</th>\n",
       "      <th>g_diff</th>\n",
       "      <th>r_50th</th>\n",
       "      <th>r50p50</th>\n",
       "      <th>bh_real</th>\n",
       "      <th>bh</th>\n",
       "      <th>bh_diff</th>\n",
       "      <th>geometry</th>\n",
       "    </tr>\n",
       "  </thead>\n",
       "  <tbody>\n",
       "    <tr>\n",
       "      <th>0</th>\n",
       "      <td>11985008</td>\n",
       "      <td>1.2800</td>\n",
       "      <td>6.9551</td>\n",
       "      <td>7.0083</td>\n",
       "      <td>8.3438</td>\n",
       "      <td>646</td>\n",
       "      <td>2018</td>\n",
       "      <td>0.377</td>\n",
       "      <td>4</td>\n",
       "      <td>-0.1099</td>\n",
       "      <td>0.4869</td>\n",
       "      <td>6.9969</td>\n",
       "      <td>0.0418</td>\n",
       "      <td>6.5781</td>\n",
       "      <td>7.1068</td>\n",
       "      <td>0.5287</td>\n",
       "      <td>MULTIPOLYGON (((253534.502 576874.344, 253533....</td>\n",
       "    </tr>\n",
       "    <tr>\n",
       "      <th>1</th>\n",
       "      <td>11985087</td>\n",
       "      <td>-0.7194</td>\n",
       "      <td>1.7421</td>\n",
       "      <td>1.9457</td>\n",
       "      <td>2.3112</td>\n",
       "      <td>646</td>\n",
       "      <td>2009</td>\n",
       "      <td>-0.778</td>\n",
       "      <td>7</td>\n",
       "      <td>-1.0722</td>\n",
       "      <td>0.2942</td>\n",
       "      <td>2.2928</td>\n",
       "      <td>0.5507</td>\n",
       "      <td>2.5201</td>\n",
       "      <td>3.3650</td>\n",
       "      <td>0.8449</td>\n",
       "      <td>MULTIPOLYGON (((253392.410 575337.339, 253392....</td>\n",
       "    </tr>\n",
       "    <tr>\n",
       "      <th>2</th>\n",
       "      <td>3149890</td>\n",
       "      <td>2.0670</td>\n",
       "      <td>10.2948</td>\n",
       "      <td>10.6660</td>\n",
       "      <td>11.2590</td>\n",
       "      <td>2311</td>\n",
       "      <td>2019</td>\n",
       "      <td>1.704</td>\n",
       "      <td>1</td>\n",
       "      <td>0.4771</td>\n",
       "      <td>1.2269</td>\n",
       "      <td>8.0882</td>\n",
       "      <td>2.2065</td>\n",
       "      <td>8.5908</td>\n",
       "      <td>7.6111</td>\n",
       "      <td>0.9797</td>\n",
       "      <td>MULTIPOLYGON (((252324.335 575914.840, 252324....</td>\n",
       "    </tr>\n",
       "    <tr>\n",
       "      <th>3</th>\n",
       "      <td>11989276</td>\n",
       "      <td>1.1740</td>\n",
       "      <td>5.1230</td>\n",
       "      <td>5.1836</td>\n",
       "      <td>6.6129</td>\n",
       "      <td>646</td>\n",
       "      <td>2012</td>\n",
       "      <td>1.197</td>\n",
       "      <td>1</td>\n",
       "      <td>1.0488</td>\n",
       "      <td>0.1482</td>\n",
       "      <td>5.2199</td>\n",
       "      <td>0.0968</td>\n",
       "      <td>3.9260</td>\n",
       "      <td>4.1711</td>\n",
       "      <td>0.2450</td>\n",
       "      <td>MULTIPOLYGON (((254348.343 576548.501, 254348....</td>\n",
       "    </tr>\n",
       "    <tr>\n",
       "      <th>4</th>\n",
       "      <td>11989554</td>\n",
       "      <td>0.8943</td>\n",
       "      <td>3.6225</td>\n",
       "      <td>3.8201</td>\n",
       "      <td>4.4390</td>\n",
       "      <td>646</td>\n",
       "      <td>2012</td>\n",
       "      <td>0.396</td>\n",
       "      <td>12</td>\n",
       "      <td>1.1669</td>\n",
       "      <td>0.7709</td>\n",
       "      <td>4.9229</td>\n",
       "      <td>1.3004</td>\n",
       "      <td>3.2265</td>\n",
       "      <td>3.7560</td>\n",
       "      <td>0.5295</td>\n",
       "      <td>MULTIPOLYGON (((253309.034 576061.008, 253309....</td>\n",
       "    </tr>\n",
       "  </tbody>\n",
       "</table>\n",
       "</div>"
      ],
      "text/plain": [
       "        gid  h_dak_min  h_dak_50p  h_dak_70p  h_dak_max tile_id  \\\n",
       "0  11985008     1.2800     6.9551     7.0083     8.3438     646   \n",
       "1  11985087    -0.7194     1.7421     1.9457     2.3112     646   \n",
       "2   3149890     2.0670    10.2948    10.6660    11.2590    2311   \n",
       "3  11989276     1.1740     5.1230     5.1836     6.6129     646   \n",
       "4  11989554     0.8943     3.6225     3.8201     4.4390     646   \n",
       "\n",
       "   construction_year  h_maaiveld  intersection_cnt  idw_100m  g_diff  r_50th  \\\n",
       "0               2018       0.377                 4   -0.1099  0.4869  6.9969   \n",
       "1               2009      -0.778                 7   -1.0722  0.2942  2.2928   \n",
       "2               2019       1.704                 1    0.4771  1.2269  8.0882   \n",
       "3               2012       1.197                 1    1.0488  0.1482  5.2199   \n",
       "4               2012       0.396                12    1.1669  0.7709  4.9229   \n",
       "\n",
       "   r50p50  bh_real      bh  bh_diff  \\\n",
       "0  0.0418   6.5781  7.1068   0.5287   \n",
       "1  0.5507   2.5201  3.3650   0.8449   \n",
       "2  2.2065   8.5908  7.6111   0.9797   \n",
       "3  0.0968   3.9260  4.1711   0.2450   \n",
       "4  1.3004   3.2265  3.7560   0.5295   \n",
       "\n",
       "                                            geometry  \n",
       "0  MULTIPOLYGON (((253534.502 576874.344, 253533....  \n",
       "1  MULTIPOLYGON (((253392.410 575337.339, 253392....  \n",
       "2  MULTIPOLYGON (((252324.335 575914.840, 252324....  \n",
       "3  MULTIPOLYGON (((254348.343 576548.501, 254348....  \n",
       "4  MULTIPOLYGON (((253309.034 576061.008, 253309....  "
      ]
     },
     "execution_count": 7,
     "metadata": {},
     "output_type": "execute_result"
    }
   ],
   "source": [
    "df03 = gpd.read_file('../03zuidbroek/output/df_zall.gpkg')#.to_crs(epsg=7415)\n",
    "print(len(df03))\n",
    "df03.head() "
   ]
  },
  {
   "cell_type": "code",
   "execution_count": 8,
   "id": "bf54143b",
   "metadata": {},
   "outputs": [],
   "source": [
    "df03 = explode_mutilpolygon(df03)"
   ]
  },
  {
   "cell_type": "code",
   "execution_count": null,
   "id": "af46731d",
   "metadata": {},
   "outputs": [],
   "source": []
  },
  {
   "cell_type": "code",
   "execution_count": 8,
   "id": "ae87c947",
   "metadata": {},
   "outputs": [
    {
     "name": "stdout",
     "output_type": "stream",
     "text": [
      "2238\n"
     ]
    },
    {
     "data": {
      "text/html": [
       "<div>\n",
       "<style scoped>\n",
       "    .dataframe tbody tr th:only-of-type {\n",
       "        vertical-align: middle;\n",
       "    }\n",
       "\n",
       "    .dataframe tbody tr th {\n",
       "        vertical-align: top;\n",
       "    }\n",
       "\n",
       "    .dataframe thead th {\n",
       "        text-align: right;\n",
       "    }\n",
       "</style>\n",
       "<table border=\"1\" class=\"dataframe\">\n",
       "  <thead>\n",
       "    <tr style=\"text-align: right;\">\n",
       "      <th></th>\n",
       "      <th>gid</th>\n",
       "      <th>fid</th>\n",
       "      <th>h_dak_min</th>\n",
       "      <th>h_dak_50p</th>\n",
       "      <th>h_dak_70p</th>\n",
       "      <th>h_dak_max</th>\n",
       "      <th>tile_id</th>\n",
       "      <th>construction_year</th>\n",
       "      <th>h_maaiveld</th>\n",
       "      <th>intersection_cnt</th>\n",
       "      <th>...</th>\n",
       "      <th>perimeter</th>\n",
       "      <th>area</th>\n",
       "      <th>compactness</th>\n",
       "      <th>complexity</th>\n",
       "      <th>length</th>\n",
       "      <th>width</th>\n",
       "      <th>slimness</th>\n",
       "      <th>adjacent_buildings</th>\n",
       "      <th>vertices</th>\n",
       "      <th>neighbour</th>\n",
       "    </tr>\n",
       "  </thead>\n",
       "  <tbody>\n",
       "    <tr>\n",
       "      <th>0</th>\n",
       "      <td>20521911</td>\n",
       "      <td>12069390.0</td>\n",
       "      <td>66.9523</td>\n",
       "      <td>74.9567</td>\n",
       "      <td>76.2644</td>\n",
       "      <td>78.0924</td>\n",
       "      <td>5201</td>\n",
       "      <td>1980</td>\n",
       "      <td>66.971</td>\n",
       "      <td>19</td>\n",
       "      <td>...</td>\n",
       "      <td>416.428779</td>\n",
       "      <td>6592.779885</td>\n",
       "      <td>0.691192</td>\n",
       "      <td>46.214003</td>\n",
       "      <td>102.603770</td>\n",
       "      <td>100.232475</td>\n",
       "      <td>1.023658</td>\n",
       "      <td>1</td>\n",
       "      <td>23</td>\n",
       "      <td>1</td>\n",
       "    </tr>\n",
       "    <tr>\n",
       "      <th>1</th>\n",
       "      <td>20524607</td>\n",
       "      <td>12004847.0</td>\n",
       "      <td>67.7591</td>\n",
       "      <td>74.4515</td>\n",
       "      <td>74.6724</td>\n",
       "      <td>75.5130</td>\n",
       "      <td>5201</td>\n",
       "      <td>1965</td>\n",
       "      <td>67.705</td>\n",
       "      <td>10</td>\n",
       "      <td>...</td>\n",
       "      <td>25.102037</td>\n",
       "      <td>35.465523</td>\n",
       "      <td>0.841006</td>\n",
       "      <td>10.286257</td>\n",
       "      <td>8.253281</td>\n",
       "      <td>4.300733</td>\n",
       "      <td>1.919040</td>\n",
       "      <td>2</td>\n",
       "      <td>4</td>\n",
       "      <td>7</td>\n",
       "    </tr>\n",
       "    <tr>\n",
       "      <th>2</th>\n",
       "      <td>20524612</td>\n",
       "      <td>12004854.0</td>\n",
       "      <td>67.7406</td>\n",
       "      <td>74.4144</td>\n",
       "      <td>74.6353</td>\n",
       "      <td>74.9959</td>\n",
       "      <td>5201</td>\n",
       "      <td>1965</td>\n",
       "      <td>67.668</td>\n",
       "      <td>9</td>\n",
       "      <td>...</td>\n",
       "      <td>24.924155</td>\n",
       "      <td>34.741311</td>\n",
       "      <td>0.838316</td>\n",
       "      <td>10.266181</td>\n",
       "      <td>8.253314</td>\n",
       "      <td>4.249036</td>\n",
       "      <td>1.942397</td>\n",
       "      <td>3</td>\n",
       "      <td>4</td>\n",
       "      <td>8</td>\n",
       "    </tr>\n",
       "    <tr>\n",
       "      <th>3</th>\n",
       "      <td>20524622</td>\n",
       "      <td>12004867.0</td>\n",
       "      <td>67.7084</td>\n",
       "      <td>74.4114</td>\n",
       "      <td>74.6326</td>\n",
       "      <td>74.9828</td>\n",
       "      <td>5201</td>\n",
       "      <td>1965</td>\n",
       "      <td>67.640</td>\n",
       "      <td>7</td>\n",
       "      <td>...</td>\n",
       "      <td>25.276817</td>\n",
       "      <td>36.157559</td>\n",
       "      <td>0.843300</td>\n",
       "      <td>10.307957</td>\n",
       "      <td>8.253614</td>\n",
       "      <td>4.417923</td>\n",
       "      <td>1.868211</td>\n",
       "      <td>3</td>\n",
       "      <td>4</td>\n",
       "      <td>8</td>\n",
       "    </tr>\n",
       "    <tr>\n",
       "      <th>4</th>\n",
       "      <td>20524625</td>\n",
       "      <td>12004872.0</td>\n",
       "      <td>67.6720</td>\n",
       "      <td>74.4520</td>\n",
       "      <td>74.6740</td>\n",
       "      <td>75.4674</td>\n",
       "      <td>5201</td>\n",
       "      <td>1965</td>\n",
       "      <td>67.611</td>\n",
       "      <td>8</td>\n",
       "      <td>...</td>\n",
       "      <td>25.108081</td>\n",
       "      <td>35.491882</td>\n",
       "      <td>0.841116</td>\n",
       "      <td>10.286823</td>\n",
       "      <td>8.255285</td>\n",
       "      <td>4.300042</td>\n",
       "      <td>1.919815</td>\n",
       "      <td>3</td>\n",
       "      <td>4</td>\n",
       "      <td>9</td>\n",
       "    </tr>\n",
       "  </tbody>\n",
       "</table>\n",
       "<p>5 rows × 28 columns</p>\n",
       "</div>"
      ],
      "text/plain": [
       "        gid         fid  h_dak_min  h_dak_50p  h_dak_70p  h_dak_max tile_id  \\\n",
       "0  20521911  12069390.0    66.9523    74.9567    76.2644    78.0924    5201   \n",
       "1  20524607  12004847.0    67.7591    74.4515    74.6724    75.5130    5201   \n",
       "2  20524612  12004854.0    67.7406    74.4144    74.6353    74.9959    5201   \n",
       "3  20524622  12004867.0    67.7084    74.4114    74.6326    74.9828    5201   \n",
       "4  20524625  12004872.0    67.6720    74.4520    74.6740    75.4674    5201   \n",
       "\n",
       "   construction_year  h_maaiveld  intersection_cnt  ...   perimeter  \\\n",
       "0               1980      66.971                19  ...  416.428779   \n",
       "1               1965      67.705                10  ...   25.102037   \n",
       "2               1965      67.668                 9  ...   24.924155   \n",
       "3               1965      67.640                 7  ...   25.276817   \n",
       "4               1965      67.611                 8  ...   25.108081   \n",
       "\n",
       "          area  compactness  complexity      length       width  slimness  \\\n",
       "0  6592.779885     0.691192   46.214003  102.603770  100.232475  1.023658   \n",
       "1    35.465523     0.841006   10.286257    8.253281    4.300733  1.919040   \n",
       "2    34.741311     0.838316   10.266181    8.253314    4.249036  1.942397   \n",
       "3    36.157559     0.843300   10.307957    8.253614    4.417923  1.868211   \n",
       "4    35.491882     0.841116   10.286823    8.255285    4.300042  1.919815   \n",
       "\n",
       "  adjacent_buildings  vertices  neighbour  \n",
       "0                  1        23          1  \n",
       "1                  2         4          7  \n",
       "2                  3         4          8  \n",
       "3                  3         4          8  \n",
       "4                  3         4          9  \n",
       "\n",
       "[5 rows x 28 columns]"
      ]
     },
     "execution_count": 8,
     "metadata": {},
     "output_type": "execute_result"
    }
   ],
   "source": [
    "# frames = [df01, df02, df03]#df01, \n",
    "# df = pd.concat(frames)\n",
    "# df = cal_features(df)\n",
    "# print(len(df))\n",
    "# df.head() "
   ]
  },
  {
   "cell_type": "code",
   "execution_count": 9,
   "id": "07185163",
   "metadata": {},
   "outputs": [
    {
     "name": "stdout",
     "output_type": "stream",
     "text": [
      "2236\n"
     ]
    },
    {
     "data": {
      "text/html": [
       "<div>\n",
       "<style scoped>\n",
       "    .dataframe tbody tr th:only-of-type {\n",
       "        vertical-align: middle;\n",
       "    }\n",
       "\n",
       "    .dataframe tbody tr th {\n",
       "        vertical-align: top;\n",
       "    }\n",
       "\n",
       "    .dataframe thead th {\n",
       "        text-align: right;\n",
       "    }\n",
       "</style>\n",
       "<table border=\"1\" class=\"dataframe\">\n",
       "  <thead>\n",
       "    <tr style=\"text-align: right;\">\n",
       "      <th></th>\n",
       "      <th>gid</th>\n",
       "      <th>fid</th>\n",
       "      <th>h_dak_min</th>\n",
       "      <th>h_dak_50p</th>\n",
       "      <th>h_dak_70p</th>\n",
       "      <th>h_dak_max</th>\n",
       "      <th>tile_id</th>\n",
       "      <th>construction_year</th>\n",
       "      <th>h_maaiveld</th>\n",
       "      <th>intersection_cnt</th>\n",
       "      <th>...</th>\n",
       "      <th>perimeter</th>\n",
       "      <th>area</th>\n",
       "      <th>compactness</th>\n",
       "      <th>complexity</th>\n",
       "      <th>length</th>\n",
       "      <th>width</th>\n",
       "      <th>slimness</th>\n",
       "      <th>adjacent_buildings</th>\n",
       "      <th>vertices</th>\n",
       "      <th>neighbour</th>\n",
       "    </tr>\n",
       "  </thead>\n",
       "  <tbody>\n",
       "    <tr>\n",
       "      <th>0</th>\n",
       "      <td>20521911</td>\n",
       "      <td>12069390.0</td>\n",
       "      <td>66.9523</td>\n",
       "      <td>74.9567</td>\n",
       "      <td>76.2644</td>\n",
       "      <td>78.0924</td>\n",
       "      <td>5201</td>\n",
       "      <td>1980</td>\n",
       "      <td>66.971</td>\n",
       "      <td>19</td>\n",
       "      <td>...</td>\n",
       "      <td>416.428779</td>\n",
       "      <td>6592.779885</td>\n",
       "      <td>0.691192</td>\n",
       "      <td>46.214003</td>\n",
       "      <td>102.603770</td>\n",
       "      <td>100.232475</td>\n",
       "      <td>1.023658</td>\n",
       "      <td>1</td>\n",
       "      <td>23</td>\n",
       "      <td>1</td>\n",
       "    </tr>\n",
       "    <tr>\n",
       "      <th>1</th>\n",
       "      <td>20524607</td>\n",
       "      <td>12004847.0</td>\n",
       "      <td>67.7591</td>\n",
       "      <td>74.4515</td>\n",
       "      <td>74.6724</td>\n",
       "      <td>75.5130</td>\n",
       "      <td>5201</td>\n",
       "      <td>1965</td>\n",
       "      <td>67.705</td>\n",
       "      <td>10</td>\n",
       "      <td>...</td>\n",
       "      <td>25.102037</td>\n",
       "      <td>35.465523</td>\n",
       "      <td>0.841006</td>\n",
       "      <td>10.286257</td>\n",
       "      <td>8.253281</td>\n",
       "      <td>4.300733</td>\n",
       "      <td>1.919040</td>\n",
       "      <td>2</td>\n",
       "      <td>4</td>\n",
       "      <td>7</td>\n",
       "    </tr>\n",
       "    <tr>\n",
       "      <th>2</th>\n",
       "      <td>20524612</td>\n",
       "      <td>12004854.0</td>\n",
       "      <td>67.7406</td>\n",
       "      <td>74.4144</td>\n",
       "      <td>74.6353</td>\n",
       "      <td>74.9959</td>\n",
       "      <td>5201</td>\n",
       "      <td>1965</td>\n",
       "      <td>67.668</td>\n",
       "      <td>9</td>\n",
       "      <td>...</td>\n",
       "      <td>24.924155</td>\n",
       "      <td>34.741311</td>\n",
       "      <td>0.838316</td>\n",
       "      <td>10.266181</td>\n",
       "      <td>8.253314</td>\n",
       "      <td>4.249036</td>\n",
       "      <td>1.942397</td>\n",
       "      <td>3</td>\n",
       "      <td>4</td>\n",
       "      <td>8</td>\n",
       "    </tr>\n",
       "    <tr>\n",
       "      <th>3</th>\n",
       "      <td>20524622</td>\n",
       "      <td>12004867.0</td>\n",
       "      <td>67.7084</td>\n",
       "      <td>74.4114</td>\n",
       "      <td>74.6326</td>\n",
       "      <td>74.9828</td>\n",
       "      <td>5201</td>\n",
       "      <td>1965</td>\n",
       "      <td>67.640</td>\n",
       "      <td>7</td>\n",
       "      <td>...</td>\n",
       "      <td>25.276817</td>\n",
       "      <td>36.157559</td>\n",
       "      <td>0.843300</td>\n",
       "      <td>10.307957</td>\n",
       "      <td>8.253614</td>\n",
       "      <td>4.417923</td>\n",
       "      <td>1.868211</td>\n",
       "      <td>3</td>\n",
       "      <td>4</td>\n",
       "      <td>8</td>\n",
       "    </tr>\n",
       "    <tr>\n",
       "      <th>4</th>\n",
       "      <td>20524625</td>\n",
       "      <td>12004872.0</td>\n",
       "      <td>67.6720</td>\n",
       "      <td>74.4520</td>\n",
       "      <td>74.6740</td>\n",
       "      <td>75.4674</td>\n",
       "      <td>5201</td>\n",
       "      <td>1965</td>\n",
       "      <td>67.611</td>\n",
       "      <td>8</td>\n",
       "      <td>...</td>\n",
       "      <td>25.108081</td>\n",
       "      <td>35.491882</td>\n",
       "      <td>0.841116</td>\n",
       "      <td>10.286823</td>\n",
       "      <td>8.255285</td>\n",
       "      <td>4.300042</td>\n",
       "      <td>1.919815</td>\n",
       "      <td>3</td>\n",
       "      <td>4</td>\n",
       "      <td>9</td>\n",
       "    </tr>\n",
       "  </tbody>\n",
       "</table>\n",
       "<p>5 rows × 28 columns</p>\n",
       "</div>"
      ],
      "text/plain": [
       "        gid         fid  h_dak_min  h_dak_50p  h_dak_70p  h_dak_max tile_id  \\\n",
       "0  20521911  12069390.0    66.9523    74.9567    76.2644    78.0924    5201   \n",
       "1  20524607  12004847.0    67.7591    74.4515    74.6724    75.5130    5201   \n",
       "2  20524612  12004854.0    67.7406    74.4144    74.6353    74.9959    5201   \n",
       "3  20524622  12004867.0    67.7084    74.4114    74.6326    74.9828    5201   \n",
       "4  20524625  12004872.0    67.6720    74.4520    74.6740    75.4674    5201   \n",
       "\n",
       "   construction_year  h_maaiveld  intersection_cnt  ...   perimeter  \\\n",
       "0               1980      66.971                19  ...  416.428779   \n",
       "1               1965      67.705                10  ...   25.102037   \n",
       "2               1965      67.668                 9  ...   24.924155   \n",
       "3               1965      67.640                 7  ...   25.276817   \n",
       "4               1965      67.611                 8  ...   25.108081   \n",
       "\n",
       "          area  compactness  complexity      length       width  slimness  \\\n",
       "0  6592.779885     0.691192   46.214003  102.603770  100.232475  1.023658   \n",
       "1    35.465523     0.841006   10.286257    8.253281    4.300733  1.919040   \n",
       "2    34.741311     0.838316   10.266181    8.253314    4.249036  1.942397   \n",
       "3    36.157559     0.843300   10.307957    8.253614    4.417923  1.868211   \n",
       "4    35.491882     0.841116   10.286823    8.255285    4.300042  1.919815   \n",
       "\n",
       "  adjacent_buildings  vertices  neighbour  \n",
       "0                  1        23          1  \n",
       "1                  2         4          7  \n",
       "2                  3         4          8  \n",
       "3                  3         4          8  \n",
       "4                  3         4          9  \n",
       "\n",
       "[5 rows x 28 columns]"
      ]
     },
     "execution_count": 9,
     "metadata": {},
     "output_type": "execute_result"
    }
   ],
   "source": [
    "frames_cut = [df01_cut, df02, df03]#df01, \n",
    "df_cut = pd.concat(frames_cut)\n",
    "df_cut = cal_features(df_cut)\n",
    "print(len(df_cut))\n",
    "df_cut.head() "
   ]
  },
  {
   "cell_type": "code",
   "execution_count": 1072,
   "id": "5166513d",
   "metadata": {},
   "outputs": [
    {
     "data": {
      "text/plain": [
       "(0.0, 5.0]       793\n",
       "(5.0, 10.0]     1205\n",
       "(10.0, 15.0]     167\n",
       "(15.0, 20.0]      40\n",
       "(20.0, 35.0]      26\n",
       "(35.0, 40.0]       2\n",
       "(40.0, inf]        3\n",
       "Name: bh, dtype: int64"
      ]
     },
     "execution_count": 1072,
     "metadata": {},
     "output_type": "execute_result"
    }
   ],
   "source": [
    "nn"
   ]
  },
  {
   "cell_type": "code",
   "execution_count": 1071,
   "id": "ffe9e31f",
   "metadata": {},
   "outputs": [
    {
     "data": {
      "text/plain": [
       "Text(0, 0.5, 'Number of building')"
      ]
     },
     "execution_count": 1071,
     "metadata": {},
     "output_type": "execute_result"
    },
    {
     "data": {
      "image/png": "[encoded data removed]",
      "text/plain": [
       "<Figure size 432x288 with 1 Axes>"
      ]
     },
     "metadata": {
      "needs_background": "light"
     },
     "output_type": "display_data"
    }
   ],
   "source": [
    "bins = [0, 5, 10, 15, 20, 35, 40, float('inf')]\n",
    "agesgroup = pd.cut(df_cut['bh'], bins)\n",
    "nn = agesgroup.value_counts(ascending=True).sort_index(ascending=True)\n",
    "nn.plot.bar()\n",
    "plt.xlabel('Building height (m) groups')\n",
    "plt.ylabel('Number of building')"
   ]
  },
  {
   "cell_type": "code",
   "execution_count": null,
   "id": "7bd19ccd",
   "metadata": {},
   "outputs": [],
   "source": []
  },
  {
   "cell_type": "code",
   "execution_count": 11,
   "id": "da49ef9b",
   "metadata": {},
   "outputs": [
    {
     "name": "stdout",
     "output_type": "stream",
     "text": [
      "number of features: 11\n"
     ]
    }
   ],
   "source": [
    "#将特征数值赋值为X\n",
    "XY = df_cut[['perimeter',\"area\",'vertices',\"compactness\",'complexity','length','width',\"slimness\",\n",
    "         \"adjacent_buildings\",'neighbour','construction_year','bh']]\n",
    "features = XY.drop(columns=['bh'])\n",
    "print('number of features:', features.shape[1])\n",
    "\n",
    "X = features.values\n",
    "Y = df_cut['bh'].values"
   ]
  },
  {
   "cell_type": "code",
   "execution_count": 712,
   "id": "10d83ab0",
   "metadata": {},
   "outputs": [
    {
     "data": {
      "text/plain": [
       "(2236, 12)"
      ]
     },
     "execution_count": 712,
     "metadata": {},
     "output_type": "execute_result"
    }
   ],
   "source": [
    "XY.shape"
   ]
  },
  {
   "cell_type": "code",
   "execution_count": 10,
   "id": "ac08cb2c",
   "metadata": {
    "collapsed": true
   },
   "outputs": [
    {
     "data": {
      "text/plain": [
       "Index(['perimeter', 'area', 'vertices', 'compactness', 'complexity', 'length',\n",
       "       'width', 'slimness', 'adjacent_buildings', 'neighbour',\n",
       "       'construction_year'],\n",
       "      dtype='object')"
      ]
     },
     "execution_count": 10,
     "metadata": {},
     "output_type": "execute_result"
    }
   ],
   "source": [
    "features.columns"
   ]
  },
  {
   "cell_type": "code",
   "execution_count": null,
   "id": "0ed3ae3f",
   "metadata": {},
   "outputs": [],
   "source": []
  },
  {
   "cell_type": "code",
   "execution_count": null,
   "id": "d2d7c0c1",
   "metadata": {},
   "outputs": [],
   "source": []
  },
  {
   "cell_type": "code",
   "execution_count": null,
   "id": "6585b6aa",
   "metadata": {},
   "outputs": [],
   "source": []
  },
  {
   "cell_type": "code",
   "execution_count": null,
   "id": "c8fadf52",
   "metadata": {},
   "outputs": [],
   "source": []
  },
  {
   "cell_type": "code",
   "execution_count": null,
   "id": "309bbb21",
   "metadata": {},
   "outputs": [],
   "source": []
  },
  {
   "cell_type": "code",
   "execution_count": null,
   "id": "e2cb3492",
   "metadata": {},
   "outputs": [],
   "source": []
  },
  {
   "cell_type": "markdown",
   "id": "eddfc825",
   "metadata": {},
   "source": [
    "## all"
   ]
  },
  {
   "cell_type": "code",
   "execution_count": 878,
   "id": "65d486c3",
   "metadata": {
    "scrolled": false
   },
   "outputs": [
    {
     "name": "stdout",
     "output_type": "stream",
     "text": [
      "CPU times: user 733 ms, sys: 5.55 ms, total: 739 ms\n",
      "Wall time: 736 ms\n"
     ]
    },
    {
     "data": {
      "text/plain": [
       "0.041594047407302215"
      ]
     },
     "execution_count": 878,
     "metadata": {},
     "output_type": "execute_result"
    }
   ],
   "source": [
    "%%time\n",
    "# xtrain, xtest, ytrain, ytest = train_test_split(features.values, Y, test_size=0.2, random_state=seed)\n",
    "X_train, X_test, y_train, y_test = train_test_split(X, Y, test_size=0.2, random_state=3)\n",
    "rf = RandomForestRegressor(random_state=3)\n",
    "rf.fit(X_train, y_train)\n",
    "rf.score(X_test, y_test)"
   ]
  },
  {
   "cell_type": "markdown",
   "id": "859d65d9",
   "metadata": {},
   "source": [
    "# feature selection"
   ]
  },
  {
   "cell_type": "markdown",
   "id": "13fd895b",
   "metadata": {},
   "source": [
    "## Filter"
   ]
  },
  {
   "cell_type": "markdown",
   "id": "6821af79",
   "metadata": {},
   "source": [
    "### 方差"
   ]
  },
  {
   "cell_type": "code",
   "execution_count": 722,
   "id": "0ab11882",
   "metadata": {},
   "outputs": [
    {
     "name": "stdout",
     "output_type": "stream",
     "text": [
      "(2236, 11)\n",
      "(2236, 11)\n"
     ]
    }
   ],
   "source": [
    "print(X.shape)\n",
    "selector = VarianceThreshold()\n",
    "x_var0 = selector.fit_transform(X)\n",
    "print(x_var0.shape)"
   ]
  },
  {
   "cell_type": "code",
   "execution_count": 723,
   "id": "f6dbd5f1",
   "metadata": {},
   "outputs": [
    {
     "name": "stdout",
     "output_type": "stream",
     "text": [
      "Variances is [3341.6861 43618.3421 68.5128 0.0108 194.1226 348.2614 274.9515 0.7482\n",
      " 0.5596 41.0000 789.0000]\n",
      "The surport is [ 0  1  2  3  4  5  6  7  8  9 10]\n"
     ]
    }
   ],
   "source": [
    "print(\"Variances is %s\"%selector.variances_)\n",
    "# print(\"After transform is %s\"%selector.transform(X))#筛选结果\n",
    "print(\"The surport is %s\"%selector.get_support(True))#保留下来哪些列"
   ]
  },
  {
   "cell_type": "code",
   "execution_count": 724,
   "id": "587881ac",
   "metadata": {},
   "outputs": [
    {
     "data": {
      "text/plain": [
       "(2236, 5)"
      ]
     },
     "execution_count": 724,
     "metadata": {},
     "output_type": "execute_result"
    }
   ],
   "source": [
    "selector2 = VarianceThreshold(np.median(features.var().values))\n",
    "X_fsvar = selector2.fit_transform(features)\n",
    "# features.var().values\n",
    "# np.median(features.var().values)\n",
    "X_fsvar.shape"
   ]
  },
  {
   "cell_type": "code",
   "execution_count": 725,
   "id": "372069aa",
   "metadata": {},
   "outputs": [
    {
     "name": "stdout",
     "output_type": "stream",
     "text": [
      "Variances is [25755.2195 6376370.2882 68.5128 0.0108 194.1226 1094.8521 393.5129 0.7482\n",
      " 0.5596 45.6508 2536.8396]\n",
      "The surport is [ 0  1  5  6 10]\n"
     ]
    }
   ],
   "source": [
    "print(\"Variances is %s\"%selector2.variances_)\n",
    "# print(\"After transform is %s\"%selector2.transform(X))#筛选结果\n",
    "print(\"The surport is %s\"%selector2.get_support(True))#保留下来哪些列"
   ]
  },
  {
   "cell_type": "code",
   "execution_count": null,
   "id": "522818b9",
   "metadata": {},
   "outputs": [],
   "source": []
  },
  {
   "cell_type": "code",
   "execution_count": null,
   "id": "7a23983d",
   "metadata": {},
   "outputs": [],
   "source": []
  },
  {
   "cell_type": "code",
   "execution_count": null,
   "id": "bda4a9cc",
   "metadata": {},
   "outputs": [],
   "source": [
    "print(cross_val_score(RandomForestRegressor(random_state=3),X_fsvar,Y,cv=5).mean())"
   ]
  },
  {
   "cell_type": "code",
   "execution_count": null,
   "id": "5b40d73b",
   "metadata": {},
   "outputs": [],
   "source": [
    "print(cross_val_score(RandomForestRegressor(random_state=3),X,Y,cv=5).mean())"
   ]
  },
  {
   "cell_type": "markdown",
   "id": "acce5bdb",
   "metadata": {},
   "source": [
    "### MIC"
   ]
  },
  {
   "cell_type": "code",
   "execution_count": null,
   "id": "ed9a8d3a",
   "metadata": {},
   "outputs": [],
   "source": [
    "r = mutual_info_regression(x_var0, Y)\n",
    "k = r.shape[0] - sum(r <= 0)\n",
    "k"
   ]
  },
  {
   "cell_type": "code",
   "execution_count": null,
   "id": "02ad6e0d",
   "metadata": {},
   "outputs": [],
   "source": [
    "r"
   ]
  },
  {
   "cell_type": "code",
   "execution_count": null,
   "id": "4c505703",
   "metadata": {},
   "outputs": [],
   "source": [
    "%%time\n",
    "# X_skb = SelectKBest(k=5).fit_transform(X, Y)\n",
    "X_skb_train, X_skb_test, y_train, y_test = train_test_split(X_fsvar, Y, random_state=3)\n",
    "rf = RandomForestRegressor(max_depth=5, random_state=3)\n",
    "rf.fit(X_skb_train, y_train)\n",
    "rf.score(X_skb_test, y_test)"
   ]
  },
  {
   "cell_type": "code",
   "execution_count": 726,
   "id": "d468a146",
   "metadata": {},
   "outputs": [
    {
     "name": "stdout",
     "output_type": "stream",
     "text": [
      "index: [ 0  1  2  3  4  5  6  7  8  9 10]\n"
     ]
    }
   ],
   "source": [
    "xx = SelectKBest(k=11)\n",
    "xx.fit_transform(X,Y)\n",
    "# features.columns[xx.get_support]\n",
    "print('index:', xx.get_support(indices=True))\n",
    "\n",
    "features_filter = features[features.columns[xx.get_support(indices=True)]]"
   ]
  },
  {
   "cell_type": "code",
   "execution_count": 727,
   "id": "82314a07",
   "metadata": {},
   "outputs": [],
   "source": [
    "features_filter = features.drop(columns=['adjacent_buildings'])"
   ]
  },
  {
   "cell_type": "code",
   "execution_count": 728,
   "id": "aed7456c",
   "metadata": {},
   "outputs": [
    {
     "data": {
      "text/html": [
       "<div>\n",
       "<style scoped>\n",
       "    .dataframe tbody tr th:only-of-type {\n",
       "        vertical-align: middle;\n",
       "    }\n",
       "\n",
       "    .dataframe tbody tr th {\n",
       "        vertical-align: top;\n",
       "    }\n",
       "\n",
       "    .dataframe thead th {\n",
       "        text-align: right;\n",
       "    }\n",
       "</style>\n",
       "<table border=\"1\" class=\"dataframe\">\n",
       "  <thead>\n",
       "    <tr style=\"text-align: right;\">\n",
       "      <th></th>\n",
       "      <th>features</th>\n",
       "      <th>VIF Factor</th>\n",
       "    </tr>\n",
       "  </thead>\n",
       "  <tbody>\n",
       "    <tr>\n",
       "      <th>0</th>\n",
       "      <td>perimeter</td>\n",
       "      <td>124.461410</td>\n",
       "    </tr>\n",
       "    <tr>\n",
       "      <th>1</th>\n",
       "      <td>area</td>\n",
       "      <td>22.898499</td>\n",
       "    </tr>\n",
       "    <tr>\n",
       "      <th>2</th>\n",
       "      <td>vertices</td>\n",
       "      <td>10.323528</td>\n",
       "    </tr>\n",
       "    <tr>\n",
       "      <th>3</th>\n",
       "      <td>compactness</td>\n",
       "      <td>288.381749</td>\n",
       "    </tr>\n",
       "    <tr>\n",
       "      <th>4</th>\n",
       "      <td>complexity</td>\n",
       "      <td>359.706128</td>\n",
       "    </tr>\n",
       "    <tr>\n",
       "      <th>5</th>\n",
       "      <td>length</td>\n",
       "      <td>31.738247</td>\n",
       "    </tr>\n",
       "    <tr>\n",
       "      <th>6</th>\n",
       "      <td>width</td>\n",
       "      <td>26.561724</td>\n",
       "    </tr>\n",
       "    <tr>\n",
       "      <th>7</th>\n",
       "      <td>slimness</td>\n",
       "      <td>15.672303</td>\n",
       "    </tr>\n",
       "    <tr>\n",
       "      <th>8</th>\n",
       "      <td>neighbour</td>\n",
       "      <td>4.318660</td>\n",
       "    </tr>\n",
       "    <tr>\n",
       "      <th>9</th>\n",
       "      <td>construction_year</td>\n",
       "      <td>588.631193</td>\n",
       "    </tr>\n",
       "  </tbody>\n",
       "</table>\n",
       "</div>"
      ],
      "text/plain": [
       "            features  VIF Factor\n",
       "0          perimeter  124.461410\n",
       "1               area   22.898499\n",
       "2           vertices   10.323528\n",
       "3        compactness  288.381749\n",
       "4         complexity  359.706128\n",
       "5             length   31.738247\n",
       "6              width   26.561724\n",
       "7           slimness   15.672303\n",
       "8          neighbour    4.318660\n",
       "9  construction_year  588.631193"
      ]
     },
     "execution_count": 728,
     "metadata": {},
     "output_type": "execute_result"
    }
   ],
   "source": [
    "vif = pd.DataFrame()\n",
    "vif[\"features\"] = features_filter.columns\n",
    "vif[\"VIF Factor\"] = [variance_inflation_factor(features_filter.values, i) for i in range(features_filter.shape[1])]\n",
    "vif"
   ]
  },
  {
   "cell_type": "code",
   "execution_count": 18,
   "id": "d18cc7a2",
   "metadata": {},
   "outputs": [
    {
     "data": {
      "text/plain": [
       "bh                   1.000000\n",
       "complexity           0.088803\n",
       "length               0.083173\n",
       "vertices             0.078550\n",
       "width                0.075680\n",
       "perimeter            0.074883\n",
       "area                 0.043028\n",
       "slimness             0.038971\n",
       "neighbour           -0.003866\n",
       "compactness         -0.073717\n",
       "construction_year   -0.087095\n",
       "Name: bh, dtype: float64"
      ]
     },
     "execution_count": 18,
     "metadata": {},
     "output_type": "execute_result"
    }
   ],
   "source": [
    "# features_embed\n",
    "# XY = df[['perimeter',\"area\",\"slimness\",'construction_year','neighbour', 'bh']]\n",
    "features_filter2 = features_filter\n",
    "features_filter2['bh'] = df['bh']\n",
    "corr = features_filter2.corr()\n",
    "corr.sort_values(by=['bh'],ascending=False)['bh']"
   ]
  },
  {
   "cell_type": "code",
   "execution_count": 19,
   "id": "37a8bb07",
   "metadata": {},
   "outputs": [
    {
     "data": {
      "image/png": "[encoded data removed]",
      "text/plain": [
       "<Figure size 504x360 with 2 Axes>"
      ]
     },
     "metadata": {},
     "output_type": "display_data"
    }
   ],
   "source": [
    "# corr = XY.corr()\n",
    "mask = np.zeros_like(corr)\n",
    "mask[np.triu_indices_from(mask)] = True\n",
    "\n",
    "# adjust mask and df\n",
    "mask = mask[1:, :-1]\n",
    "corr = corr.iloc[1:,:-1].copy()\n",
    "\n",
    "# color map\n",
    "cmap = sns.diverging_palette(0, 230, 90, 60, as_cmap=True)\n",
    "\n",
    "with sns.axes_style(\"white\"):\n",
    "    f, ax = plt.subplots(figsize=(7, 5))\n",
    "    ax = sns.heatmap(corr, mask=mask, square=True,linewidths=.5,cmap=cmap,robust=True,\n",
    "                     vmin=-1,vmax=1, annot=True,fmt=\".2f\",annot_kws={'size':11},\n",
    "                    cbar_kws={\"shrink\": .8})\n",
    "plt.savefig('for_report/'+ 'coor_filter', dpi=500, bbox_inches='tight')\n",
    "\n",
    "# sns.heatmap(features.corr(),linewidths=.5, annot=True,cmap=\"YlGnBu\")cmap='coolwarm'"
   ]
  },
  {
   "cell_type": "code",
   "execution_count": null,
   "id": "66cf4798",
   "metadata": {},
   "outputs": [],
   "source": [
    "%%time\n",
    "X_skb = SelectKBest(k=5).fit_transform(X, Y)\n",
    "X_skb_train, X_skb_test, y_train, y_test = train_test_split(X_skb, Y, random_state=3)\n",
    "rf = RandomForestRegressor(max_depth=5, random_state=3)\n",
    "rf.fit(X_skb_train, y_train)\n",
    "rf.score(X_skb_test, y_test)"
   ]
  },
  {
   "cell_type": "code",
   "execution_count": null,
   "id": "fa3a348c",
   "metadata": {},
   "outputs": [],
   "source": []
  },
  {
   "cell_type": "code",
   "execution_count": null,
   "id": "c3b5396b",
   "metadata": {},
   "outputs": [],
   "source": []
  },
  {
   "cell_type": "code",
   "execution_count": null,
   "id": "8f6c982c",
   "metadata": {},
   "outputs": [],
   "source": []
  },
  {
   "cell_type": "markdown",
   "id": "743154dc",
   "metadata": {},
   "source": [
    "## Wrap"
   ]
  },
  {
   "cell_type": "code",
   "execution_count": 20,
   "id": "e90488f1",
   "metadata": {},
   "outputs": [
    {
     "data": {
      "image/png": "[encoded data removed]",
      "text/plain": [
       "<Figure size 1440x360 with 1 Axes>"
      ]
     },
     "metadata": {
      "needs_background": "light"
     },
     "output_type": "display_data"
    }
   ],
   "source": [
    "RFC_ = RandomForestRegressor(n_estimators=10,random_state=3)\n",
    "score = []\n",
    "for i in range(1,12,1):\n",
    "    x_wrapper = RFE(RFC_,n_features_to_select=i,step=50).fit_transform(X,Y)\n",
    "    once = cross_val_score(RFC_,x_wrapper,Y,cv=5).mean()\n",
    "    score.append(once)\n",
    "plt.figure(figsize=[20,5])\n",
    "plt.plot(range(1,12,1),score)\n",
    "plt.xticks(range(1,12,1))\n",
    "plt.xlabel('threshold')\n",
    "plt.ylabel('score')\n",
    "plt.savefig('for_report/'+ 'wrapper_learning_curve', dpi=500, bbox_inches='tight')\n",
    "plt.show()\n",
    "plt.show()"
   ]
  },
  {
   "cell_type": "code",
   "execution_count": null,
   "id": "425a88cd",
   "metadata": {},
   "outputs": [],
   "source": [
    "%%time\n",
    "X_rfe = RFE(RandomForestRegressor(), n_features_to_select=4).fit_transform(X, Y)\n",
    "X_rfe_train, X_rfe_test, y_train, y_test = train_test_split(X_rfe, Y, random_state=3)\n",
    "rf = RandomForestRegressor(max_depth=5, random_state=3)\n",
    "rf.fit(X_rfe_train, y_train)\n",
    "rf.score(X_rfe_test, y_test)"
   ]
  },
  {
   "cell_type": "code",
   "execution_count": 19,
   "id": "e919f5ad",
   "metadata": {},
   "outputs": [
    {
     "name": "stdout",
     "output_type": "stream",
     "text": [
      "index: [1 4 5 7]\n",
      "CPU times: user 573 ms, sys: 4.56 ms, total: 578 ms\n",
      "Wall time: 576 ms\n"
     ]
    }
   ],
   "source": [
    "%%time\n",
    "xx = RFE(RandomForestRegressor(n_estimators=10,random_state=3), n_features_to_select=4)\n",
    "xx.fit_transform(X,Y)\n",
    "\n",
    "print('index:', xx.get_support(indices=True))\n",
    "\n",
    "features_wrap = features[features.columns[xx.get_support(indices=True)]]\n",
    "# display(features[features.columns[xx.get_support(indices=True)]])"
   ]
  },
  {
   "cell_type": "code",
   "execution_count": null,
   "id": "e84d0b87",
   "metadata": {},
   "outputs": [],
   "source": [
    "vif = pd.DataFrame()\n",
    "vif[\"features\"] = features_wrap.columns\n",
    "vif[\"VIF Factor\"] = [variance_inflation_factor(features_wrap.values, i) for i in range(features_wrap.shape[1])]\n",
    "vif"
   ]
  },
  {
   "cell_type": "code",
   "execution_count": 370,
   "id": "3beee7ca",
   "metadata": {},
   "outputs": [],
   "source": [
    "features_wrap = features_wrap.drop(columns=['bh'])"
   ]
  },
  {
   "cell_type": "code",
   "execution_count": 20,
   "id": "36f31404",
   "metadata": {
    "collapsed": true
   },
   "outputs": [
    {
     "data": {
      "text/html": [
       "<div>\n",
       "<style scoped>\n",
       "    .dataframe tbody tr th:only-of-type {\n",
       "        vertical-align: middle;\n",
       "    }\n",
       "\n",
       "    .dataframe tbody tr th {\n",
       "        vertical-align: top;\n",
       "    }\n",
       "\n",
       "    .dataframe thead th {\n",
       "        text-align: right;\n",
       "    }\n",
       "</style>\n",
       "<table border=\"1\" class=\"dataframe\">\n",
       "  <thead>\n",
       "    <tr style=\"text-align: right;\">\n",
       "      <th></th>\n",
       "      <th>area</th>\n",
       "      <th>complexity</th>\n",
       "      <th>length</th>\n",
       "      <th>slimness</th>\n",
       "    </tr>\n",
       "  </thead>\n",
       "  <tbody>\n",
       "    <tr>\n",
       "      <th>0</th>\n",
       "      <td>6592.779885</td>\n",
       "      <td>46.214003</td>\n",
       "      <td>102.603770</td>\n",
       "      <td>1.023658</td>\n",
       "    </tr>\n",
       "    <tr>\n",
       "      <th>1</th>\n",
       "      <td>35.465523</td>\n",
       "      <td>10.286257</td>\n",
       "      <td>8.253281</td>\n",
       "      <td>1.919040</td>\n",
       "    </tr>\n",
       "    <tr>\n",
       "      <th>2</th>\n",
       "      <td>34.741311</td>\n",
       "      <td>10.266181</td>\n",
       "      <td>8.253314</td>\n",
       "      <td>1.942397</td>\n",
       "    </tr>\n",
       "    <tr>\n",
       "      <th>3</th>\n",
       "      <td>36.157559</td>\n",
       "      <td>10.307957</td>\n",
       "      <td>8.253614</td>\n",
       "      <td>1.868211</td>\n",
       "    </tr>\n",
       "    <tr>\n",
       "      <th>4</th>\n",
       "      <td>35.491882</td>\n",
       "      <td>10.286823</td>\n",
       "      <td>8.255285</td>\n",
       "      <td>1.919815</td>\n",
       "    </tr>\n",
       "    <tr>\n",
       "      <th>...</th>\n",
       "      <td>...</td>\n",
       "      <td>...</td>\n",
       "      <td>...</td>\n",
       "      <td>...</td>\n",
       "    </tr>\n",
       "    <tr>\n",
       "      <th>68</th>\n",
       "      <td>842.878881</td>\n",
       "      <td>22.346416</td>\n",
       "      <td>30.118188</td>\n",
       "      <td>1.002496</td>\n",
       "    </tr>\n",
       "    <tr>\n",
       "      <th>69</th>\n",
       "      <td>18.082515</td>\n",
       "      <td>8.708093</td>\n",
       "      <td>5.931086</td>\n",
       "      <td>1.945130</td>\n",
       "    </tr>\n",
       "    <tr>\n",
       "      <th>70</th>\n",
       "      <td>18.795591</td>\n",
       "      <td>8.736703</td>\n",
       "      <td>5.921485</td>\n",
       "      <td>1.865137</td>\n",
       "    </tr>\n",
       "    <tr>\n",
       "      <th>71</th>\n",
       "      <td>1364.665578</td>\n",
       "      <td>31.524848</td>\n",
       "      <td>78.884657</td>\n",
       "      <td>4.374926</td>\n",
       "    </tr>\n",
       "    <tr>\n",
       "      <th>72</th>\n",
       "      <td>1357.504121</td>\n",
       "      <td>24.671796</td>\n",
       "      <td>44.086741</td>\n",
       "      <td>1.431760</td>\n",
       "    </tr>\n",
       "  </tbody>\n",
       "</table>\n",
       "<p>2236 rows × 4 columns</p>\n",
       "</div>"
      ],
      "text/plain": [
       "           area  complexity      length  slimness\n",
       "0   6592.779885   46.214003  102.603770  1.023658\n",
       "1     35.465523   10.286257    8.253281  1.919040\n",
       "2     34.741311   10.266181    8.253314  1.942397\n",
       "3     36.157559   10.307957    8.253614  1.868211\n",
       "4     35.491882   10.286823    8.255285  1.919815\n",
       "..          ...         ...         ...       ...\n",
       "68   842.878881   22.346416   30.118188  1.002496\n",
       "69    18.082515    8.708093    5.931086  1.945130\n",
       "70    18.795591    8.736703    5.921485  1.865137\n",
       "71  1364.665578   31.524848   78.884657  4.374926\n",
       "72  1357.504121   24.671796   44.086741  1.431760\n",
       "\n",
       "[2236 rows x 4 columns]"
      ]
     },
     "execution_count": 20,
     "metadata": {},
     "output_type": "execute_result"
    }
   ],
   "source": [
    "features_wrap"
   ]
  },
  {
   "cell_type": "code",
   "execution_count": 34,
   "id": "c9f7d232",
   "metadata": {},
   "outputs": [
    {
     "name": "stderr",
     "output_type": "stream",
     "text": [
      "/var/folders/f7/jn5r2ytj4t3bdgv4dbms_pbw0000gn/T/ipykernel_15256/1191430455.py:4: SettingWithCopyWarning: \n",
      "A value is trying to be set on a copy of a slice from a DataFrame.\n",
      "Try using .loc[row_indexer,col_indexer] = value instead\n",
      "\n",
      "See the caveats in the documentation: https://pandas.pydata.org/pandas-docs/stable/user_guide/indexing.html#returning-a-view-versus-a-copy\n",
      "  features_wrap2['bh'] = df['bh']\n"
     ]
    },
    {
     "data": {
      "text/plain": [
       "bh             1.000000\n",
       "length         0.083173\n",
       "area           0.043028\n",
       "slimness       0.038971\n",
       "compactness   -0.073717\n",
       "Name: bh, dtype: float64"
      ]
     },
     "execution_count": 34,
     "metadata": {},
     "output_type": "execute_result"
    }
   ],
   "source": [
    "# features_embed\n",
    "# XY = df[['perimeter',\"area\",\"slimness\",'construction_year','neighbour', 'bh']]\n",
    "features_wrap2 = features_wrap\n",
    "features_wrap2['bh'] = df['bh']\n",
    "corr = features_wrap2.corr()\n",
    "corr.sort_values(by=['bh'],ascending=False)['bh']"
   ]
  },
  {
   "cell_type": "code",
   "execution_count": 25,
   "id": "7fc71987",
   "metadata": {},
   "outputs": [
    {
     "data": {
      "image/png": "[encoded data removed]",
      "text/plain": [
       "<Figure size 504x360 with 2 Axes>"
      ]
     },
     "metadata": {},
     "output_type": "display_data"
    }
   ],
   "source": [
    "# corr = XY.corr()\n",
    "mask = np.zeros_like(corr)\n",
    "mask[np.triu_indices_from(mask)] = True\n",
    "\n",
    "# adjust mask and df\n",
    "mask = mask[1:, :-1]\n",
    "corr = corr.iloc[1:,:-1].copy()\n",
    "\n",
    "# color map\n",
    "cmap = sns.diverging_palette(0, 230, 90, 60, as_cmap=True)\n",
    "\n",
    "with sns.axes_style(\"white\"):\n",
    "    f, ax = plt.subplots(figsize=(7, 5))\n",
    "    ax = sns.heatmap(corr, mask=mask, square=True,linewidths=.5,cmap=cmap,robust=True,\n",
    "                     vmin=-1,vmax=1, annot=True,fmt=\".2f\",annot_kws={'size':11},\n",
    "                    cbar_kws={\"shrink\": .8})\n",
    "plt.savefig('for_report/'+ 'coor_wrapper', dpi=500, bbox_inches='tight')\n",
    "\n",
    "# sns.heatmap(features.corr(),linewidths=.5, annot=True,cmap=\"YlGnBu\")cmap='coolwarm'"
   ]
  },
  {
   "cell_type": "markdown",
   "id": "ed8b4218",
   "metadata": {},
   "source": [
    "## Embed"
   ]
  },
  {
   "cell_type": "code",
   "execution_count": 27,
   "id": "17654582",
   "metadata": {},
   "outputs": [
    {
     "data": {
      "image/png": "[encoded data removed]",
      "text/plain": [
       "<Figure size 1440x360 with 1 Axes>"
      ]
     },
     "metadata": {
      "needs_background": "light"
     },
     "output_type": "display_data"
    }
   ],
   "source": [
    "RFC_ = RandomForestRegressor(n_estimators=10,random_state=3)\n",
    "RFC_.fit(X,Y).feature_importances_\n",
    "threshold = np.linspace(0,(RFC_.fit(X,Y).feature_importances_).max(),20)\n",
    "score = []\n",
    "for i in threshold:\n",
    "    X_embedded = SelectFromModel(RFC_, threshold=i).fit_transform(X, Y)\n",
    "    once = cross_val_score(RFC_, X_embedded, Y, cv=5).mean()\n",
    "    \n",
    "    score.append(once)\n",
    "plt.figure(figsize=[20,5])\n",
    "plt.plot(threshold,score)\n",
    "plt.xlabel('threshold')\n",
    "plt.ylabel('score')\n",
    "plt.savefig('for_report/'+ 'embed_learning_curve', dpi=500, bbox_inches='tight')\n",
    "plt.show()"
   ]
  },
  {
   "cell_type": "code",
   "execution_count": null,
   "id": "85fae11c",
   "metadata": {},
   "outputs": [],
   "source": []
  },
  {
   "cell_type": "code",
   "execution_count": null,
   "id": "e17850c6",
   "metadata": {},
   "outputs": [],
   "source": [
    "%%time\n",
    "X_sfm = SelectFromModel(RandomForestRegressor(), max_features=5).fit_transform(X, Y) #threshold=0.15,\n",
    "\n",
    "\n",
    "X_sfm_train, X_sfm_test, y_train, y_test = train_test_split(X_sfm, Y, random_state=3)\n",
    "rf = RandomForestRegressor(max_depth=5, random_state=3)\n",
    "rf.fit(X_sfm_train, y_train)\n",
    "rf.score(X_sfm_test, y_test)"
   ]
  },
  {
   "cell_type": "code",
   "execution_count": 734,
   "id": "d12c05f2",
   "metadata": {},
   "outputs": [
    {
     "name": "stdout",
     "output_type": "stream",
     "text": [
      "index: [ 3  5  7 10]\n"
     ]
    }
   ],
   "source": [
    "selector_embed = SelectFromModel(RFC_,threshold=0.09) #, max_features=11\n",
    "selector_embed.fit_transform(X,Y)\n",
    "\n",
    "print('index:', selector_embed.get_support(indices=True))\n",
    "\n",
    "features_embed = features[features.columns[selector_embed.get_support(indices=True)]]"
   ]
  },
  {
   "cell_type": "code",
   "execution_count": 29,
   "id": "dc27eba8",
   "metadata": {},
   "outputs": [
    {
     "data": {
      "text/plain": [
       "array([0.0719, 0.1653, 0.0195, 0.1738, 0.0429, 0.1329, 0.0820, 0.1682,\n",
       "       0.0150, 0.0382, 0.0903])"
      ]
     },
     "execution_count": 29,
     "metadata": {},
     "output_type": "execute_result"
    }
   ],
   "source": [
    "selector_embed.estimator_.feature_importances_"
   ]
  },
  {
   "cell_type": "code",
   "execution_count": 30,
   "id": "5c764dfa",
   "metadata": {},
   "outputs": [
    {
     "name": "stdout",
     "output_type": "stream",
     "text": [
      "The surport is [ 1  3  5  7 10]\n"
     ]
    }
   ],
   "source": [
    "# print(\"Variances is %s\"%selector_embed.variances_)\n",
    "# print(\"After transform is %s\"%selector2.transform(X))#筛选结果\n",
    "print(\"The surport is %s\"%selector_embed.get_support(True))#保留下来哪些列"
   ]
  },
  {
   "cell_type": "code",
   "execution_count": 31,
   "id": "19a11e79",
   "metadata": {},
   "outputs": [
    {
     "data": {
      "text/html": [
       "<div>\n",
       "<style scoped>\n",
       "    .dataframe tbody tr th:only-of-type {\n",
       "        vertical-align: middle;\n",
       "    }\n",
       "\n",
       "    .dataframe tbody tr th {\n",
       "        vertical-align: top;\n",
       "    }\n",
       "\n",
       "    .dataframe thead th {\n",
       "        text-align: right;\n",
       "    }\n",
       "</style>\n",
       "<table border=\"1\" class=\"dataframe\">\n",
       "  <thead>\n",
       "    <tr style=\"text-align: right;\">\n",
       "      <th></th>\n",
       "      <th>features</th>\n",
       "      <th>VIF Factor</th>\n",
       "    </tr>\n",
       "  </thead>\n",
       "  <tbody>\n",
       "    <tr>\n",
       "      <th>0</th>\n",
       "      <td>area</td>\n",
       "      <td>4.812557</td>\n",
       "    </tr>\n",
       "    <tr>\n",
       "      <th>1</th>\n",
       "      <td>compactness</td>\n",
       "      <td>116.206957</td>\n",
       "    </tr>\n",
       "    <tr>\n",
       "      <th>2</th>\n",
       "      <td>length</td>\n",
       "      <td>9.397878</td>\n",
       "    </tr>\n",
       "    <tr>\n",
       "      <th>3</th>\n",
       "      <td>slimness</td>\n",
       "      <td>7.336070</td>\n",
       "    </tr>\n",
       "    <tr>\n",
       "      <th>4</th>\n",
       "      <td>construction_year</td>\n",
       "      <td>150.529221</td>\n",
       "    </tr>\n",
       "  </tbody>\n",
       "</table>\n",
       "</div>"
      ],
      "text/plain": [
       "            features  VIF Factor\n",
       "0               area    4.812557\n",
       "1        compactness  116.206957\n",
       "2             length    9.397878\n",
       "3           slimness    7.336070\n",
       "4  construction_year  150.529221"
      ]
     },
     "execution_count": 31,
     "metadata": {},
     "output_type": "execute_result"
    }
   ],
   "source": [
    "vif = pd.DataFrame()\n",
    "vif[\"features\"] = features_embed.columns\n",
    "vif[\"VIF Factor\"] = [variance_inflation_factor(features_embed.values, i) for i in range(features_embed.shape[1])]\n",
    "vif"
   ]
  },
  {
   "cell_type": "code",
   "execution_count": 733,
   "id": "b75bf469",
   "metadata": {
    "collapsed": true
   },
   "outputs": [
    {
     "ename": "KeyError",
     "evalue": "\"['bh'] not found in axis\"",
     "output_type": "error",
     "traceback": [
      "\u001b[0;31m---------------------------------------------------------------------------\u001b[0m",
      "\u001b[0;31mKeyError\u001b[0m                                  Traceback (most recent call last)",
      "\u001b[0;32m/var/folders/f7/jn5r2ytj4t3bdgv4dbms_pbw0000gn/T/ipykernel_15256/1645276989.py\u001b[0m in \u001b[0;36m<module>\u001b[0;34m\u001b[0m\n\u001b[0;32m----> 1\u001b[0;31m \u001b[0mfeatures_embed\u001b[0m \u001b[0;34m=\u001b[0m \u001b[0mfeatures_embed\u001b[0m\u001b[0;34m.\u001b[0m\u001b[0mdrop\u001b[0m\u001b[0;34m(\u001b[0m\u001b[0mcolumns\u001b[0m\u001b[0;34m=\u001b[0m\u001b[0;34m[\u001b[0m\u001b[0;34m'bh'\u001b[0m\u001b[0;34m]\u001b[0m\u001b[0;34m)\u001b[0m\u001b[0;34m\u001b[0m\u001b[0;34m\u001b[0m\u001b[0m\n\u001b[0m",
      "\u001b[0;32m~/miniconda3/envs/thesis/lib/python3.8/site-packages/pandas/util/_decorators.py\u001b[0m in \u001b[0;36mwrapper\u001b[0;34m(*args, **kwargs)\u001b[0m\n\u001b[1;32m    309\u001b[0m                     \u001b[0mstacklevel\u001b[0m\u001b[0;34m=\u001b[0m\u001b[0mstacklevel\u001b[0m\u001b[0;34m,\u001b[0m\u001b[0;34m\u001b[0m\u001b[0;34m\u001b[0m\u001b[0m\n\u001b[1;32m    310\u001b[0m                 )\n\u001b[0;32m--> 311\u001b[0;31m             \u001b[0;32mreturn\u001b[0m \u001b[0mfunc\u001b[0m\u001b[0;34m(\u001b[0m\u001b[0;34m*\u001b[0m\u001b[0margs\u001b[0m\u001b[0;34m,\u001b[0m \u001b[0;34m**\u001b[0m\u001b[0mkwargs\u001b[0m\u001b[0;34m)\u001b[0m\u001b[0;34m\u001b[0m\u001b[0;34m\u001b[0m\u001b[0m\n\u001b[0m\u001b[1;32m    312\u001b[0m \u001b[0;34m\u001b[0m\u001b[0m\n\u001b[1;32m    313\u001b[0m         \u001b[0;32mreturn\u001b[0m \u001b[0mwrapper\u001b[0m\u001b[0;34m\u001b[0m\u001b[0;34m\u001b[0m\u001b[0m\n",
      "\u001b[0;32m~/miniconda3/envs/thesis/lib/python3.8/site-packages/pandas/core/frame.py\u001b[0m in \u001b[0;36mdrop\u001b[0;34m(self, labels, axis, index, columns, level, inplace, errors)\u001b[0m\n\u001b[1;32m   4904\u001b[0m                 \u001b[0mweight\u001b[0m  \u001b[0;36m1.0\u001b[0m     \u001b[0;36m0.8\u001b[0m\u001b[0;34m\u001b[0m\u001b[0;34m\u001b[0m\u001b[0m\n\u001b[1;32m   4905\u001b[0m         \"\"\"\n\u001b[0;32m-> 4906\u001b[0;31m         return super().drop(\n\u001b[0m\u001b[1;32m   4907\u001b[0m             \u001b[0mlabels\u001b[0m\u001b[0;34m=\u001b[0m\u001b[0mlabels\u001b[0m\u001b[0;34m,\u001b[0m\u001b[0;34m\u001b[0m\u001b[0;34m\u001b[0m\u001b[0m\n\u001b[1;32m   4908\u001b[0m             \u001b[0maxis\u001b[0m\u001b[0;34m=\u001b[0m\u001b[0maxis\u001b[0m\u001b[0;34m,\u001b[0m\u001b[0;34m\u001b[0m\u001b[0;34m\u001b[0m\u001b[0m\n",
      "\u001b[0;32m~/miniconda3/envs/thesis/lib/python3.8/site-packages/pandas/core/generic.py\u001b[0m in \u001b[0;36mdrop\u001b[0;34m(self, labels, axis, index, columns, level, inplace, errors)\u001b[0m\n\u001b[1;32m   4148\u001b[0m         \u001b[0;32mfor\u001b[0m \u001b[0maxis\u001b[0m\u001b[0;34m,\u001b[0m \u001b[0mlabels\u001b[0m \u001b[0;32min\u001b[0m \u001b[0maxes\u001b[0m\u001b[0;34m.\u001b[0m\u001b[0mitems\u001b[0m\u001b[0;34m(\u001b[0m\u001b[0;34m)\u001b[0m\u001b[0;34m:\u001b[0m\u001b[0;34m\u001b[0m\u001b[0;34m\u001b[0m\u001b[0m\n\u001b[1;32m   4149\u001b[0m             \u001b[0;32mif\u001b[0m \u001b[0mlabels\u001b[0m \u001b[0;32mis\u001b[0m \u001b[0;32mnot\u001b[0m \u001b[0;32mNone\u001b[0m\u001b[0;34m:\u001b[0m\u001b[0;34m\u001b[0m\u001b[0;34m\u001b[0m\u001b[0m\n\u001b[0;32m-> 4150\u001b[0;31m                 \u001b[0mobj\u001b[0m \u001b[0;34m=\u001b[0m \u001b[0mobj\u001b[0m\u001b[0;34m.\u001b[0m\u001b[0m_drop_axis\u001b[0m\u001b[0;34m(\u001b[0m\u001b[0mlabels\u001b[0m\u001b[0;34m,\u001b[0m \u001b[0maxis\u001b[0m\u001b[0;34m,\u001b[0m \u001b[0mlevel\u001b[0m\u001b[0;34m=\u001b[0m\u001b[0mlevel\u001b[0m\u001b[0;34m,\u001b[0m \u001b[0merrors\u001b[0m\u001b[0;34m=\u001b[0m\u001b[0merrors\u001b[0m\u001b[0;34m)\u001b[0m\u001b[0;34m\u001b[0m\u001b[0;34m\u001b[0m\u001b[0m\n\u001b[0m\u001b[1;32m   4151\u001b[0m \u001b[0;34m\u001b[0m\u001b[0m\n\u001b[1;32m   4152\u001b[0m         \u001b[0;32mif\u001b[0m \u001b[0minplace\u001b[0m\u001b[0;34m:\u001b[0m\u001b[0;34m\u001b[0m\u001b[0;34m\u001b[0m\u001b[0m\n",
      "\u001b[0;32m~/miniconda3/envs/thesis/lib/python3.8/site-packages/pandas/core/generic.py\u001b[0m in \u001b[0;36m_drop_axis\u001b[0;34m(self, labels, axis, level, errors)\u001b[0m\n\u001b[1;32m   4183\u001b[0m                 \u001b[0mnew_axis\u001b[0m \u001b[0;34m=\u001b[0m \u001b[0maxis\u001b[0m\u001b[0;34m.\u001b[0m\u001b[0mdrop\u001b[0m\u001b[0;34m(\u001b[0m\u001b[0mlabels\u001b[0m\u001b[0;34m,\u001b[0m \u001b[0mlevel\u001b[0m\u001b[0;34m=\u001b[0m\u001b[0mlevel\u001b[0m\u001b[0;34m,\u001b[0m \u001b[0merrors\u001b[0m\u001b[0;34m=\u001b[0m\u001b[0merrors\u001b[0m\u001b[0;34m)\u001b[0m\u001b[0;34m\u001b[0m\u001b[0;34m\u001b[0m\u001b[0m\n\u001b[1;32m   4184\u001b[0m             \u001b[0;32melse\u001b[0m\u001b[0;34m:\u001b[0m\u001b[0;34m\u001b[0m\u001b[0;34m\u001b[0m\u001b[0m\n\u001b[0;32m-> 4185\u001b[0;31m                 \u001b[0mnew_axis\u001b[0m \u001b[0;34m=\u001b[0m \u001b[0maxis\u001b[0m\u001b[0;34m.\u001b[0m\u001b[0mdrop\u001b[0m\u001b[0;34m(\u001b[0m\u001b[0mlabels\u001b[0m\u001b[0;34m,\u001b[0m \u001b[0merrors\u001b[0m\u001b[0;34m=\u001b[0m\u001b[0merrors\u001b[0m\u001b[0;34m)\u001b[0m\u001b[0;34m\u001b[0m\u001b[0;34m\u001b[0m\u001b[0m\n\u001b[0m\u001b[1;32m   4186\u001b[0m             \u001b[0mresult\u001b[0m \u001b[0;34m=\u001b[0m \u001b[0mself\u001b[0m\u001b[0;34m.\u001b[0m\u001b[0mreindex\u001b[0m\u001b[0;34m(\u001b[0m\u001b[0;34m**\u001b[0m\u001b[0;34m{\u001b[0m\u001b[0maxis_name\u001b[0m\u001b[0;34m:\u001b[0m \u001b[0mnew_axis\u001b[0m\u001b[0;34m}\u001b[0m\u001b[0;34m)\u001b[0m\u001b[0;34m\u001b[0m\u001b[0;34m\u001b[0m\u001b[0m\n\u001b[1;32m   4187\u001b[0m \u001b[0;34m\u001b[0m\u001b[0m\n",
      "\u001b[0;32m~/miniconda3/envs/thesis/lib/python3.8/site-packages/pandas/core/indexes/base.py\u001b[0m in \u001b[0;36mdrop\u001b[0;34m(self, labels, errors)\u001b[0m\n\u001b[1;32m   6015\u001b[0m         \u001b[0;32mif\u001b[0m \u001b[0mmask\u001b[0m\u001b[0;34m.\u001b[0m\u001b[0many\u001b[0m\u001b[0;34m(\u001b[0m\u001b[0;34m)\u001b[0m\u001b[0;34m:\u001b[0m\u001b[0;34m\u001b[0m\u001b[0;34m\u001b[0m\u001b[0m\n\u001b[1;32m   6016\u001b[0m             \u001b[0;32mif\u001b[0m \u001b[0merrors\u001b[0m \u001b[0;34m!=\u001b[0m \u001b[0;34m\"ignore\"\u001b[0m\u001b[0;34m:\u001b[0m\u001b[0;34m\u001b[0m\u001b[0;34m\u001b[0m\u001b[0m\n\u001b[0;32m-> 6017\u001b[0;31m                 \u001b[0;32mraise\u001b[0m \u001b[0mKeyError\u001b[0m\u001b[0;34m(\u001b[0m\u001b[0;34mf\"{labels[mask]} not found in axis\"\u001b[0m\u001b[0;34m)\u001b[0m\u001b[0;34m\u001b[0m\u001b[0;34m\u001b[0m\u001b[0m\n\u001b[0m\u001b[1;32m   6018\u001b[0m             \u001b[0mindexer\u001b[0m \u001b[0;34m=\u001b[0m \u001b[0mindexer\u001b[0m\u001b[0;34m[\u001b[0m\u001b[0;34m~\u001b[0m\u001b[0mmask\u001b[0m\u001b[0;34m]\u001b[0m\u001b[0;34m\u001b[0m\u001b[0;34m\u001b[0m\u001b[0m\n\u001b[1;32m   6019\u001b[0m         \u001b[0;32mreturn\u001b[0m \u001b[0mself\u001b[0m\u001b[0;34m.\u001b[0m\u001b[0mdelete\u001b[0m\u001b[0;34m(\u001b[0m\u001b[0mindexer\u001b[0m\u001b[0;34m)\u001b[0m\u001b[0;34m\u001b[0m\u001b[0;34m\u001b[0m\u001b[0m\n",
      "\u001b[0;31mKeyError\u001b[0m: \"['bh'] not found in axis\""
     ]
    }
   ],
   "source": [
    "features_embed = features_embed.drop(columns=['bh'])"
   ]
  },
  {
   "cell_type": "code",
   "execution_count": 360,
   "id": "23372463",
   "metadata": {
    "collapsed": true
   },
   "outputs": [
    {
     "data": {
      "text/html": [
       "<div>\n",
       "<style scoped>\n",
       "    .dataframe tbody tr th:only-of-type {\n",
       "        vertical-align: middle;\n",
       "    }\n",
       "\n",
       "    .dataframe tbody tr th {\n",
       "        vertical-align: top;\n",
       "    }\n",
       "\n",
       "    .dataframe thead th {\n",
       "        text-align: right;\n",
       "    }\n",
       "</style>\n",
       "<table border=\"1\" class=\"dataframe\">\n",
       "  <thead>\n",
       "    <tr style=\"text-align: right;\">\n",
       "      <th></th>\n",
       "      <th>area</th>\n",
       "      <th>compactness</th>\n",
       "      <th>length</th>\n",
       "      <th>slimness</th>\n",
       "      <th>construction_year</th>\n",
       "    </tr>\n",
       "  </thead>\n",
       "  <tbody>\n",
       "    <tr>\n",
       "      <th>0</th>\n",
       "      <td>6592.779885</td>\n",
       "      <td>0.691192</td>\n",
       "      <td>102.603770</td>\n",
       "      <td>1.023658</td>\n",
       "      <td>1980</td>\n",
       "    </tr>\n",
       "    <tr>\n",
       "      <th>1</th>\n",
       "      <td>35.465523</td>\n",
       "      <td>0.841006</td>\n",
       "      <td>8.253281</td>\n",
       "      <td>1.919040</td>\n",
       "      <td>1965</td>\n",
       "    </tr>\n",
       "    <tr>\n",
       "      <th>2</th>\n",
       "      <td>34.741311</td>\n",
       "      <td>0.838316</td>\n",
       "      <td>8.253314</td>\n",
       "      <td>1.942397</td>\n",
       "      <td>1965</td>\n",
       "    </tr>\n",
       "    <tr>\n",
       "      <th>3</th>\n",
       "      <td>36.157559</td>\n",
       "      <td>0.843300</td>\n",
       "      <td>8.253614</td>\n",
       "      <td>1.868211</td>\n",
       "      <td>1965</td>\n",
       "    </tr>\n",
       "    <tr>\n",
       "      <th>4</th>\n",
       "      <td>35.491882</td>\n",
       "      <td>0.841116</td>\n",
       "      <td>8.255285</td>\n",
       "      <td>1.919815</td>\n",
       "      <td>1965</td>\n",
       "    </tr>\n",
       "    <tr>\n",
       "      <th>...</th>\n",
       "      <td>...</td>\n",
       "      <td>...</td>\n",
       "      <td>...</td>\n",
       "      <td>...</td>\n",
       "      <td>...</td>\n",
       "    </tr>\n",
       "    <tr>\n",
       "      <th>68</th>\n",
       "      <td>842.878881</td>\n",
       "      <td>0.854748</td>\n",
       "      <td>30.118188</td>\n",
       "      <td>1.002496</td>\n",
       "      <td>2007</td>\n",
       "    </tr>\n",
       "    <tr>\n",
       "      <th>69</th>\n",
       "      <td>18.082515</td>\n",
       "      <td>0.839453</td>\n",
       "      <td>5.931086</td>\n",
       "      <td>1.945130</td>\n",
       "      <td>1967</td>\n",
       "    </tr>\n",
       "    <tr>\n",
       "      <th>70</th>\n",
       "      <td>18.795591</td>\n",
       "      <td>0.844834</td>\n",
       "      <td>5.921485</td>\n",
       "      <td>1.865137</td>\n",
       "      <td>1968</td>\n",
       "    </tr>\n",
       "    <tr>\n",
       "      <th>71</th>\n",
       "      <td>1364.665578</td>\n",
       "      <td>0.683453</td>\n",
       "      <td>78.884657</td>\n",
       "      <td>4.374926</td>\n",
       "      <td>1980</td>\n",
       "    </tr>\n",
       "    <tr>\n",
       "      <th>72</th>\n",
       "      <td>1357.504121</td>\n",
       "      <td>0.872147</td>\n",
       "      <td>44.086741</td>\n",
       "      <td>1.431760</td>\n",
       "      <td>2011</td>\n",
       "    </tr>\n",
       "  </tbody>\n",
       "</table>\n",
       "<p>2238 rows × 5 columns</p>\n",
       "</div>"
      ],
      "text/plain": [
       "           area  compactness      length  slimness  construction_year\n",
       "0   6592.779885     0.691192  102.603770  1.023658               1980\n",
       "1     35.465523     0.841006    8.253281  1.919040               1965\n",
       "2     34.741311     0.838316    8.253314  1.942397               1965\n",
       "3     36.157559     0.843300    8.253614  1.868211               1965\n",
       "4     35.491882     0.841116    8.255285  1.919815               1965\n",
       "..          ...          ...         ...       ...                ...\n",
       "68   842.878881     0.854748   30.118188  1.002496               2007\n",
       "69    18.082515     0.839453    5.931086  1.945130               1967\n",
       "70    18.795591     0.844834    5.921485  1.865137               1968\n",
       "71  1364.665578     0.683453   78.884657  4.374926               1980\n",
       "72  1357.504121     0.872147   44.086741  1.431760               2011\n",
       "\n",
       "[2238 rows x 5 columns]"
      ]
     },
     "execution_count": 360,
     "metadata": {},
     "output_type": "execute_result"
    }
   ],
   "source": [
    "features_embed"
   ]
  },
  {
   "cell_type": "code",
   "execution_count": 35,
   "id": "e033ba78",
   "metadata": {},
   "outputs": [
    {
     "name": "stderr",
     "output_type": "stream",
     "text": [
      "/var/folders/f7/jn5r2ytj4t3bdgv4dbms_pbw0000gn/T/ipykernel_15256/3266694186.py:4: SettingWithCopyWarning: \n",
      "A value is trying to be set on a copy of a slice from a DataFrame.\n",
      "Try using .loc[row_indexer,col_indexer] = value instead\n",
      "\n",
      "See the caveats in the documentation: https://pandas.pydata.org/pandas-docs/stable/user_guide/indexing.html#returning-a-view-versus-a-copy\n",
      "  features_embed2['bh'] = df['bh']\n"
     ]
    },
    {
     "data": {
      "text/plain": [
       "bh                   1.000000\n",
       "length               0.083173\n",
       "area                 0.043028\n",
       "slimness             0.038971\n",
       "compactness         -0.073717\n",
       "construction_year   -0.087095\n",
       "Name: bh, dtype: float64"
      ]
     },
     "execution_count": 35,
     "metadata": {},
     "output_type": "execute_result"
    }
   ],
   "source": [
    "# features_embed\n",
    "# XY = df[['perimeter',\"area\",\"slimness\",'construction_year','neighbour', 'bh']]\n",
    "features_embed2 = features_embed\n",
    "features_embed2['bh'] = df['bh']\n",
    "corr = features_embed2.corr()\n",
    "corr.sort_values(by=['bh'],ascending=False)['bh']"
   ]
  },
  {
   "cell_type": "code",
   "execution_count": 33,
   "id": "877cb78b",
   "metadata": {},
   "outputs": [
    {
     "data": {
      "image/png": "[encoded data removed]",
      "text/plain": [
       "<Figure size 504x360 with 2 Axes>"
      ]
     },
     "metadata": {},
     "output_type": "display_data"
    }
   ],
   "source": [
    "# corr = XY.corr()\n",
    "mask = np.zeros_like(corr)\n",
    "mask[np.triu_indices_from(mask)] = True\n",
    "\n",
    "# adjust mask and df\n",
    "mask = mask[1:, :-1]\n",
    "corr = corr.iloc[1:,:-1].copy()\n",
    "\n",
    "# color map\n",
    "cmap = sns.diverging_palette(0, 230, 90, 60, as_cmap=True)\n",
    "\n",
    "with sns.axes_style(\"white\"):\n",
    "    f, ax = plt.subplots(figsize=(7, 5))\n",
    "    ax = sns.heatmap(corr, mask=mask, square=True,linewidths=.5,cmap=cmap,robust=True,\n",
    "                     vmin=-1,vmax=1, annot=True,fmt=\".2f\",annot_kws={'size':11},\n",
    "                    cbar_kws={\"shrink\": .8})\n",
    "plt.savefig('for_report/'+ 'coor_embed', dpi=500, bbox_inches='tight')\n",
    "\n",
    "# sns.heatmap(features.corr(),linewidths=.5, annot=True,cmap=\"YlGnBu\")cmap='coolwarm'"
   ]
  },
  {
   "cell_type": "code",
   "execution_count": null,
   "id": "878770b4",
   "metadata": {},
   "outputs": [],
   "source": []
  },
  {
   "cell_type": "code",
   "execution_count": null,
   "id": "496d7f72",
   "metadata": {},
   "outputs": [],
   "source": [
    "#定义数据集的特征值\n",
    "# features = df.loc[:,'area':'neighbour']\n",
    "XY = df[['perimeter',\"area\",\"compactness\",'complexity','length','width',\"slimness\",\n",
    "         \"adjacent_buildings\",'construction_year','vertices','neighbour', 'bh']]\n",
    "\n",
    "# after confidence corr\n",
    "# XY = df[[\"compactness\",'complexity','length','width','vertices','construction_year','bh']]"
   ]
  },
  {
   "cell_type": "markdown",
   "id": "fd0bd402",
   "metadata": {},
   "source": [
    "## corr"
   ]
  },
  {
   "cell_type": "code",
   "execution_count": null,
   "id": "987d084d",
   "metadata": {},
   "outputs": [],
   "source": [
    "bh_corr = XY.corr()\n",
    "bh_corr.sort_values(by=['bh'],ascending=False)['bh']"
   ]
  },
  {
   "cell_type": "code",
   "execution_count": null,
   "id": "88406556",
   "metadata": {},
   "outputs": [],
   "source": [
    "corr = XY.corr()\n",
    "mask = np.zeros_like(corr)\n",
    "mask[np.triu_indices_from(mask)] = True\n",
    "\n",
    "# adjust mask and df\n",
    "mask = mask[1:, :-1]\n",
    "corr = corr.iloc[1:,:-1].copy()\n",
    "\n",
    "# color map\n",
    "cmap = sns.diverging_palette(0, 230, 90, 60, as_cmap=True)\n",
    "\n",
    "with sns.axes_style(\"white\"):\n",
    "    f, ax = plt.subplots(figsize=(7, 5))\n",
    "    ax = sns.heatmap(corr, mask=mask, square=True,linewidths=.5,cmap=cmap,robust=True,\n",
    "                     vmin=-1,vmax=1, annot=True,fmt=\".2f\",annot_kws={'size':11},\n",
    "                    cbar_kws={\"shrink\": .8})\n",
    "\n",
    "# sns.heatmap(features.corr(),linewidths=.5, annot=True,cmap=\"YlGnBu\")cmap='coolwarm'"
   ]
  },
  {
   "cell_type": "markdown",
   "id": "565df744",
   "metadata": {},
   "source": [
    "## VIF"
   ]
  },
  {
   "cell_type": "code",
   "execution_count": null,
   "id": "58eb3575",
   "metadata": {},
   "outputs": [],
   "source": [
    "#定义数据集的特征值\n",
    "# features = df.loc[:,'area':'adjacent_buildings']\n",
    "# features = df[[\"area\",\"compactness\",'complexity','length','width',\"slimness\",\n",
    "#                \"adjacent_buildings\",'construction_year','vertices']]\n",
    "\n",
    "# features = XY.drop(columns=['bh'])\n",
    "features = df[[\"compactness\",'complexity','length','width',\n",
    "               'construction_year','vertices']]\n",
    "\n",
    "features = df[[\"area\",'perimeter','neighbour','slimness',\n",
    "               'construction_year']]"
   ]
  },
  {
   "cell_type": "code",
   "execution_count": null,
   "id": "26a3cfff",
   "metadata": {},
   "outputs": [],
   "source": [
    "# For each X, calculate VIF and save in dataframe\n",
    "vif = pd.DataFrame()\n",
    "vif[\"features\"] = features.columns\n",
    "vif[\"VIF Factor\"] = [variance_inflation_factor(features.values, i) for i in range(features.shape[1])]\n",
    "vif"
   ]
  },
  {
   "cell_type": "code",
   "execution_count": null,
   "id": "468c3117",
   "metadata": {},
   "outputs": [],
   "source": []
  },
  {
   "cell_type": "code",
   "execution_count": null,
   "id": "ac2fea9c",
   "metadata": {},
   "outputs": [],
   "source": []
  },
  {
   "cell_type": "markdown",
   "id": "c8fe7aff",
   "metadata": {},
   "source": [
    "## 准备训练测试集"
   ]
  },
  {
   "cell_type": "code",
   "execution_count": null,
   "id": "85116f9b",
   "metadata": {},
   "outputs": [],
   "source": [
    "#将特征数值赋值为X\n",
    "X = features.values\n",
    "\n",
    "Y = df['bh'].values\n",
    "# lab_enc = preprocessing.LabelEncoder()\n",
    "# Y = lab_enc.fit_transform(y)\n",
    "\n",
    "#打印数据形态\n",
    "print('特征形态:{} 标签形态:{}'.format(X.shape,y.shape))"
   ]
  },
  {
   "cell_type": "code",
   "execution_count": null,
   "id": "21d1215c",
   "metadata": {},
   "outputs": [],
   "source": []
  },
  {
   "cell_type": "code",
   "execution_count": null,
   "id": "6fcda2e0",
   "metadata": {},
   "outputs": [],
   "source": [
    "seed=6\n",
    "xtrain, xtest, ytrain, ytest = train_test_split(X, Y, test_size=0.2, random_state=seed)"
   ]
  },
  {
   "cell_type": "code",
   "execution_count": 68,
   "id": "ccc8997d",
   "metadata": {},
   "outputs": [
    {
     "data": {
      "text/plain": [
       "(2238, 11)"
      ]
     },
     "execution_count": 68,
     "metadata": {},
     "output_type": "execute_result"
    }
   ],
   "source": [
    "X.shape"
   ]
  },
  {
   "cell_type": "code",
   "execution_count": 67,
   "id": "688e92ec",
   "metadata": {},
   "outputs": [
    {
     "data": {
      "text/plain": [
       "(2238,)"
      ]
     },
     "execution_count": 67,
     "metadata": {},
     "output_type": "execute_result"
    }
   ],
   "source": [
    "Y.shape"
   ]
  },
  {
   "cell_type": "markdown",
   "id": "23d81716",
   "metadata": {},
   "source": [
    "## 超参数"
   ]
  },
  {
   "cell_type": "code",
   "execution_count": 309,
   "id": "899086c4",
   "metadata": {},
   "outputs": [
    {
     "data": {
      "text/plain": [
       "(2238, 11)"
      ]
     },
     "execution_count": 309,
     "metadata": {},
     "output_type": "execute_result"
    }
   ],
   "source": [
    "X.shape"
   ]
  },
  {
   "cell_type": "code",
   "execution_count": 311,
   "id": "c3a57697",
   "metadata": {},
   "outputs": [
    {
     "data": {
      "text/plain": [
       "(2238,)"
      ]
     },
     "execution_count": 311,
     "metadata": {},
     "output_type": "execute_result"
    }
   ],
   "source": [
    "Y.shape"
   ]
  },
  {
   "cell_type": "code",
   "execution_count": 36,
   "id": "9747221e",
   "metadata": {},
   "outputs": [],
   "source": [
    "# train_data_path='G:/CropYield/03_DL/00_Data/AllDataAll_Train.csv'\n",
    "# test_data_path='G:/CropYield/03_DL/00_Data/AllDataAll_Test.csv'\n",
    "# write_excel_path='G:/CropYield/03_DL/05_NewML/ParameterResult_ML.xlsx'\n",
    "# tree_graph_dot_path='G:/CropYield/03_DL/05_NewML/tree.dot'\n",
    "# tree_graph_png_path='G:/CropYield/03_DL/05_NewML/tree.png'\n",
    "\n",
    "random_seed=44\n",
    "random_forest_seed=np.random.randint(low=1,high=230)"
   ]
  },
  {
   "cell_type": "code",
   "execution_count": 231,
   "id": "0ba8e21b",
   "metadata": {},
   "outputs": [
    {
     "name": "stdout",
     "output_type": "stream",
     "text": [
      "{'n_estimators': [1, 20, 40, 60, 80, 100, 120, 140, 160, 180, 200], 'max_features': ['auto', 'sqrt'], 'max_depth': [1, 20, 40, 60, 80, 100, 120, 140, 160, 180, 200, None], 'min_samples_split': [2, 21, 41, 61, 81, 101, 120, 140, 160, 180, 200], 'min_samples_leaf': [1, 20, 40, 60, 80, 100, 120, 140, 160, 180, 200]}\n"
     ]
    }
   ],
   "source": [
    "# Search optimal hyperparameter\n",
    "n_estimators_range=[int(x) for x in np.linspace(start=1,stop=200,num=11)]\n",
    "max_features_range=['auto','sqrt']\n",
    "max_depth_range=[int(x) for x in np.linspace(start=1,stop=200,num=11)]\n",
    "max_depth_range.append(None)\n",
    "min_samples_split_range=[int(x) for x in np.linspace(start=2,stop=200,num=11)]\n",
    "min_samples_leaf_range=[int(x) for x in np.linspace(start=1,stop=200,num=11)]\n",
    "# bootstrap_range=[True,False]\n",
    "\n",
    "random_forest_hp_range={'n_estimators':n_estimators_range,\n",
    "                        'max_features':max_features_range,\n",
    "                        'max_depth':max_depth_range,\n",
    "                        'min_samples_split':min_samples_split_range,\n",
    "                        'min_samples_leaf':min_samples_leaf_range\n",
    "                        # 'bootstrap':bootstrap_range\n",
    "                        }\n",
    "print(random_forest_hp_range)"
   ]
  },
  {
   "cell_type": "code",
   "execution_count": 232,
   "id": "9ecbe772",
   "metadata": {},
   "outputs": [
    {
     "data": {
      "text/plain": [
       "{'n_estimators': [1, 20, 40, 60, 80, 100, 120, 140, 160, 180, 200],\n",
       " 'max_features': ['auto', 'sqrt'],\n",
       " 'max_depth': [1, 20, 40, 60, 80, 100, 120, 140, 160, 180, 200, None],\n",
       " 'min_samples_split': [2, 21, 41, 61, 81, 101, 120, 140, 160, 180, 200],\n",
       " 'min_samples_leaf': [1, 20, 40, 60, 80, 100, 120, 140, 160, 180, 200]}"
      ]
     },
     "execution_count": 232,
     "metadata": {},
     "output_type": "execute_result"
    }
   ],
   "source": [
    "random_forest_hp_range"
   ]
  },
  {
   "cell_type": "markdown",
   "id": "a2cebd37",
   "metadata": {},
   "source": [
    "## validation curve"
   ]
  },
  {
   "cell_type": "code",
   "execution_count": 201,
   "id": "192b4022",
   "metadata": {},
   "outputs": [],
   "source": [
    "lw = 1.5"
   ]
  },
  {
   "cell_type": "markdown",
   "id": "50966dda",
   "metadata": {},
   "source": [
    "### n_estimators"
   ]
  },
  {
   "cell_type": "code",
   "execution_count": 223,
   "id": "cfd9badb",
   "metadata": {},
   "outputs": [],
   "source": [
    "train_scores, test_scores = validation_curve(RandomForestRegressor(max_depth=5, random_state=3), X, Y, \n",
    "                                             param_name=\"n_estimators\", \n",
    "                                             param_range=n_estimators_range,cv=10, scoring=\"r2\", n_jobs=1)"
   ]
  },
  {
   "cell_type": "code",
   "execution_count": 224,
   "id": "3f3051c7",
   "metadata": {},
   "outputs": [
    {
     "data": {
      "image/png": "[encoded data removed]",
      "text/plain": [
       "<Figure size 432x288 with 1 Axes>"
      ]
     },
     "metadata": {
      "needs_background": "light"
     },
     "output_type": "display_data"
    }
   ],
   "source": [
    "train_score_mean = np.mean(train_scores, axis=1)\n",
    "train_score_std = np.std(train_scores, axis=1)\n",
    "test_score_mean = np.mean(test_scores, axis=1)\n",
    "test_score_std = np.std(test_scores, axis=1)\n",
    "\n",
    "plt.plot(n_estimators_range, train_score_mean,label=\"Training score\", color=\"darkorange\", lw=lw)\n",
    "# plt.fill_between(n_estimators_range, train_score_mean-train_score_std, train_score_mean+train_score_std, alpha=0.2, color=\"navy\", lw=lw)\n",
    "\n",
    "plt.plot(n_estimators_range, test_score_mean,label=\"Cross-validation score\", color=\"blue\", lw=lw)\n",
    "# plt.fill_between(n_estimators_range, test_score_mean-test_score_std, test_score_mean+test_score_std, alpha=0.2, color=\"navy\", lw=lw)\n",
    "# plt.ylim(0,1)\n",
    "plt.xlabel('n_estimators')\n",
    "plt.ylabel('R2 Score')\n",
    "plt.legend()\n",
    "plt.savefig('for_report/'+ 'n_estimators', dpi=500, bbox_inches='tight')\n",
    "\n"
   ]
  },
  {
   "cell_type": "markdown",
   "id": "1fd2242c",
   "metadata": {},
   "source": [
    "### max_depth"
   ]
  },
  {
   "cell_type": "code",
   "execution_count": 233,
   "id": "c5442318",
   "metadata": {},
   "outputs": [
    {
     "data": {
      "text/plain": [
       "[1, 20, 40, 60, 80, 100, 120, 140, 160, 180, 200, None]"
      ]
     },
     "execution_count": 233,
     "metadata": {},
     "output_type": "execute_result"
    }
   ],
   "source": [
    "max_depth_range"
   ]
  },
  {
   "cell_type": "code",
   "execution_count": 234,
   "id": "d574c79d",
   "metadata": {},
   "outputs": [],
   "source": [
    "train_scores, test_scores = validation_curve(RandomForestRegressor(random_state=3), X, Y, \n",
    "                                             param_name=\"max_depth\", \n",
    "                                             param_range=max_depth_range,cv=10, scoring=\"r2\", n_jobs=1)"
   ]
  },
  {
   "cell_type": "code",
   "execution_count": 235,
   "id": "bc0d1871",
   "metadata": {},
   "outputs": [
    {
     "data": {
      "image/png": "[encoded data removed]",
      "text/plain": [
       "<Figure size 432x288 with 1 Axes>"
      ]
     },
     "metadata": {
      "needs_background": "light"
     },
     "output_type": "display_data"
    }
   ],
   "source": [
    "train_score_mean = np.mean(train_scores, axis=1)\n",
    "train_score_std = np.std(train_scores, axis=1)\n",
    "test_score_mean = np.mean(test_scores, axis=1)\n",
    "test_score_std = np.std(test_scores, axis=1)\n",
    "\n",
    "plt.plot(max_depth_range, train_score_mean,label=\"Training score\", color=\"darkorange\", lw=lw)\n",
    "# plt.fill_between(n_estimators_range, train_score_mean-train_score_std, train_score_mean+train_score_std, alpha=0.2, color=\"navy\", lw=lw)\n",
    "\n",
    "plt.plot(max_depth_range, test_score_mean,label=\"Cross-validation score\", color=\"blue\", lw=lw)\n",
    "# plt.fill_between(n_estimators_range, test_score_mean-test_score_std, test_score_mean+test_score_std, alpha=0.2, color=\"navy\", lw=lw)\n",
    "\n",
    "# plt.xlim(0,30)\n",
    "plt.xlabel('max_depth')\n",
    "plt.ylabel('R2 Score')\n",
    "plt.legend()\n",
    "plt.savefig('for_report/'+ 'max_depth', dpi=500, bbox_inches='tight')\n",
    "\n",
    "\n"
   ]
  },
  {
   "cell_type": "markdown",
   "id": "d797ad62",
   "metadata": {},
   "source": [
    "### min_samples_split"
   ]
  },
  {
   "cell_type": "code",
   "execution_count": 236,
   "id": "da2de761",
   "metadata": {},
   "outputs": [
    {
     "data": {
      "text/plain": [
       "[2, 21, 41, 61, 81, 101, 120, 140, 160, 180, 200]"
      ]
     },
     "execution_count": 236,
     "metadata": {},
     "output_type": "execute_result"
    }
   ],
   "source": [
    "min_samples_split_range"
   ]
  },
  {
   "cell_type": "code",
   "execution_count": 237,
   "id": "ca0083c8",
   "metadata": {},
   "outputs": [],
   "source": [
    "train_scores, test_scores = validation_curve(RandomForestRegressor(max_depth=5, random_state=3), X, Y, \n",
    "                                             param_name=\"min_samples_split\", \n",
    "                                             param_range=min_samples_split_range,cv=10, scoring=\"r2\", n_jobs=1)"
   ]
  },
  {
   "cell_type": "code",
   "execution_count": 238,
   "id": "00bfab89",
   "metadata": {},
   "outputs": [
    {
     "data": {
      "image/png": "[encoded data removed]",
      "text/plain": [
       "<Figure size 432x288 with 1 Axes>"
      ]
     },
     "metadata": {
      "needs_background": "light"
     },
     "output_type": "display_data"
    }
   ],
   "source": [
    "train_score_mean = np.mean(train_scores, axis=1)\n",
    "train_score_std = np.std(train_scores, axis=1)\n",
    "test_score_mean = np.mean(test_scores, axis=1)\n",
    "test_score_std = np.std(test_scores, axis=1)\n",
    "\n",
    "plt.plot(min_samples_split_range, train_score_mean,label=\"Training score\", color=\"darkorange\", lw=lw)\n",
    "# plt.fill_between(n_estimators_range, train_score_mean-train_score_std, train_score_mean+train_score_std, alpha=0.2, color=\"navy\", lw=lw)\n",
    "\n",
    "plt.plot(min_samples_split_range, test_score_mean,label=\"Cross-validation score\", color=\"blue\", lw=lw)\n",
    "# plt.fill_between(n_estimators_range, test_score_mean-test_score_std, test_score_mean+test_score_std, alpha=0.2, color=\"navy\", lw=lw)\n",
    "plt.xlabel('min_samples_split')\n",
    "plt.ylabel('R2 Score')\n",
    "\n",
    "plt.legend()\n",
    "plt.savefig('for_report/'+ 'min_samples_split', dpi=500, bbox_inches='tight')\n",
    "\n"
   ]
  },
  {
   "cell_type": "markdown",
   "id": "7cbcb640",
   "metadata": {},
   "source": [
    "### min_samples_leaf"
   ]
  },
  {
   "cell_type": "code",
   "execution_count": 239,
   "id": "bdbc50de",
   "metadata": {},
   "outputs": [
    {
     "data": {
      "text/plain": [
       "[1, 20, 40, 60, 80, 100, 120, 140, 160, 180, 200]"
      ]
     },
     "execution_count": 239,
     "metadata": {},
     "output_type": "execute_result"
    }
   ],
   "source": [
    "min_samples_leaf_range"
   ]
  },
  {
   "cell_type": "code",
   "execution_count": 240,
   "id": "4aba2de8",
   "metadata": {},
   "outputs": [],
   "source": [
    "train_scores, test_scores = validation_curve(RandomForestRegressor(max_depth=5, random_state=3), X, Y, \n",
    "                                             param_name=\"min_samples_leaf\", \n",
    "                                             param_range=min_samples_leaf_range,cv=10, scoring=\"r2\", n_jobs=1)"
   ]
  },
  {
   "cell_type": "code",
   "execution_count": 241,
   "id": "8aa6aef8",
   "metadata": {},
   "outputs": [
    {
     "data": {
      "image/png": "[encoded data removed]",
      "text/plain": [
       "<Figure size 432x288 with 1 Axes>"
      ]
     },
     "metadata": {
      "needs_background": "light"
     },
     "output_type": "display_data"
    }
   ],
   "source": [
    "train_score_mean = np.mean(train_scores, axis=1)\n",
    "train_score_std = np.std(train_scores, axis=1)\n",
    "test_score_mean = np.mean(test_scores, axis=1)\n",
    "test_score_std = np.std(test_scores, axis=1)\n",
    "\n",
    "plt.plot(min_samples_leaf_range, train_score_mean,label=\"Training score\", color=\"darkorange\", lw=lw)\n",
    "# plt.fill_between(n_estimators_range, train_score_mean-train_score_std, train_score_mean+train_score_std, alpha=0.2, color=\"navy\", lw=lw)\n",
    "\n",
    "plt.plot(min_samples_leaf_range, test_score_mean,label=\"Cross-validation score\", color=\"blue\", lw=lw)\n",
    "# plt.fill_between(n_estimators_range, test_score_mean-test_score_std, test_score_mean+test_score_std, alpha=0.2, color=\"navy\", lw=lw)\n",
    "plt.xlabel('min_samples_leaf')\n",
    "plt.ylabel('R2 Score')\n",
    "\n",
    "plt.legend()\n",
    "plt.savefig('for_report/'+ 'min_samples_leaf', dpi=500, bbox_inches='tight')\n",
    "\n",
    "\n"
   ]
  },
  {
   "cell_type": "code",
   "execution_count": null,
   "id": "dbfe20e4",
   "metadata": {},
   "outputs": [],
   "source": []
  },
  {
   "cell_type": "code",
   "execution_count": null,
   "id": "d416b134",
   "metadata": {},
   "outputs": [],
   "source": []
  },
  {
   "cell_type": "code",
   "execution_count": null,
   "id": "fc566b75",
   "metadata": {},
   "outputs": [],
   "source": []
  },
  {
   "cell_type": "code",
   "execution_count": 213,
   "id": "ea359570",
   "metadata": {},
   "outputs": [
    {
     "data": {
      "text/plain": [
       "[<matplotlib.lines.Line2D at 0x294420a90>]"
      ]
     },
     "execution_count": 213,
     "metadata": {},
     "output_type": "execute_result"
    },
    {
     "data": {
      "image/png": "[encoded data removed]",
      "text/plain": [
       "<Figure size 432x288 with 1 Axes>"
      ]
     },
     "metadata": {
      "needs_background": "light"
     },
     "output_type": "display_data"
    }
   ],
   "source": [
    "score = []\n",
    "for estimators in n_estimators_range:\n",
    "    rfr = RandomForestRegressor(n_estimators = estimators, max_depth=5, random_state=3)\n",
    "    rfr.fit(X,Y)\n",
    "    once = cross_val_score(rfr, X, Y, cv=5).mean()\n",
    "    score.append(once)\n",
    "# plt.figure(figsize=[20,5])\n",
    "plt.plot(n_estimators_range,score)"
   ]
  },
  {
   "cell_type": "code",
   "execution_count": 214,
   "id": "5554201f",
   "metadata": {},
   "outputs": [
    {
     "data": {
      "text/plain": [
       "[<matplotlib.lines.Line2D at 0x29447f490>]"
      ]
     },
     "execution_count": 214,
     "metadata": {},
     "output_type": "execute_result"
    },
    {
     "data": {
      "image/png": "[encoded data removed]",
      "text/plain": [
       "<Figure size 432x288 with 1 Axes>"
      ]
     },
     "metadata": {
      "needs_background": "light"
     },
     "output_type": "display_data"
    }
   ],
   "source": [
    "plt.plot(n_estimators_range,score)"
   ]
  },
  {
   "cell_type": "code",
   "execution_count": 81,
   "id": "d6d5b62c",
   "metadata": {},
   "outputs": [
    {
     "data": {
      "text/plain": [
       "Text(0, 0.5, 'Accuracy')"
      ]
     },
     "execution_count": 81,
     "metadata": {},
     "output_type": "execute_result"
    },
    {
     "data": {
      "image/png": "[encoded data removed]",
      "text/plain": [
       "<Figure size 432x288 with 1 Axes>"
      ]
     },
     "metadata": {
      "needs_background": "light"
     },
     "output_type": "display_data"
    }
   ],
   "source": [
    "acc_estimators=[]\n",
    "acc_depth=[]\n",
    "acc_k=[]\n",
    "train_score = []\n",
    "\n",
    "X_train, _X, Y_train, _Y = train_test_split(X, Y, train_size=0.7)\n",
    "X_validate, X_test, Y_validate, Y_test = train_test_split(_X, _Y, train_size=2/3)\n",
    "\n",
    "for i in n_estimators_range:\n",
    "    rf = RandomForestRegressor(n_estimators=i, max_depth=100, random_state=0,n_jobs=-1)\n",
    "    rf.fit(X_train, Y_train)\n",
    "    train_score.append(rf.score(X_test,Y_test))\n",
    "    \n",
    "    y_pred = rf.predict(X_test)\n",
    "    accuracy =r2_score(Y_test, y_pred)\n",
    "    acc_estimators.append(accuracy)\n",
    "\n",
    "\n",
    "plt.plot(n_estimators_range,acc_estimators)\n",
    "\n",
    "\n",
    "plt.xlabel('Number of estimators')\n",
    "plt.ylabel('Accuracy')\n",
    "\n",
    "# for i in range(100):\n",
    "#     rf = RandomForestRegressor(n_estimators=100, max_depth=i+1, random_state=0,n_jobs=-1)\n",
    "#     rf.fit(X_train, Y_train)\n",
    "#     y_pred = rf.predict(X_test)\n",
    "#     accuracy =accuracy_score(Y_test, y_pred)\n",
    "#     acc_depth.append(accuracy)"
   ]
  },
  {
   "cell_type": "code",
   "execution_count": 82,
   "id": "4fe42d01",
   "metadata": {},
   "outputs": [
    {
     "data": {
      "text/plain": [
       "[<matplotlib.lines.Line2D at 0x28f9b8250>]"
      ]
     },
     "execution_count": 82,
     "metadata": {},
     "output_type": "execute_result"
    },
    {
     "data": {
      "image/png": "[encoded data removed]",
      "text/plain": [
       "<Figure size 432x288 with 1 Axes>"
      ]
     },
     "metadata": {
      "needs_background": "light"
     },
     "output_type": "display_data"
    }
   ],
   "source": [
    "plt.plot(n_estimators_range,train_score)"
   ]
  },
  {
   "cell_type": "code",
   "execution_count": null,
   "id": "877d990a",
   "metadata": {},
   "outputs": [],
   "source": []
  },
  {
   "cell_type": "code",
   "execution_count": null,
   "id": "1439a630",
   "metadata": {},
   "outputs": [],
   "source": []
  },
  {
   "cell_type": "code",
   "execution_count": null,
   "id": "558027d5",
   "metadata": {},
   "outputs": [],
   "source": []
  },
  {
   "cell_type": "code",
   "execution_count": null,
   "id": "8046052d",
   "metadata": {},
   "outputs": [],
   "source": []
  },
  {
   "cell_type": "markdown",
   "id": "71dec899",
   "metadata": {},
   "source": [
    "# BUILD"
   ]
  },
  {
   "cell_type": "markdown",
   "id": "09251d4a",
   "metadata": {},
   "source": [
    "## prepare parameters"
   ]
  },
  {
   "cell_type": "code",
   "execution_count": 775,
   "id": "8d5bfa2c",
   "metadata": {},
   "outputs": [
    {
     "name": "stdout",
     "output_type": "stream",
     "text": [
      "{'n_estimators': [1, 20, 40, 60, 80, 100, 120, 140, 160, 180, 200], 'max_features': [1, 2, 3, 4, 5, 6, 7, 8, 9, 10], 'max_depth': [1, 20, 40, 60, 80, 100, 120, 140, 160, 180, 200, None], 'min_samples_split': [2, 21, 41, 61, 81, 101, 120, 140, 160, 180, 200], 'min_samples_leaf': [1, 20, 40, 60, 80, 100, 120, 140, 160, 180, 200], 'bootstrap': [True, False]}\n"
     ]
    }
   ],
   "source": [
    "# Search optimal hyperparameter\n",
    "n_estimators_range=[int(x) for x in np.linspace(start=1,stop=200,num=11)]\n",
    "# max_features_range=['auto','sqrt']\n",
    "max_features_range=[int(x) for x in np.linspace(start=1,stop=10,num=10)]\n",
    "max_depth_range=[int(x) for x in np.linspace(start=1,stop=200,num=11)]\n",
    "max_depth_range.append(None)\n",
    "min_samples_split_range=[int(x) for x in np.linspace(start=2,stop=200,num=11)]\n",
    "min_samples_leaf_range=[int(x) for x in np.linspace(start=1,stop=200,num=11)]\n",
    "bootstrap_range=[True,False]\n",
    "\n",
    "random_forest_hp_range={'n_estimators':n_estimators_range,\n",
    "                        'max_features':max_features_range,\n",
    "                        'max_depth':max_depth_range,\n",
    "                        'min_samples_split':min_samples_split_range,\n",
    "                        'min_samples_leaf':min_samples_leaf_range,\n",
    "                        'bootstrap':bootstrap_range\n",
    "                        }\n",
    "print(random_forest_hp_range)"
   ]
  },
  {
   "cell_type": "code",
   "execution_count": 751,
   "id": "00045a22",
   "metadata": {},
   "outputs": [
    {
     "data": {
      "text/plain": [
       "{'n_estimators': [1, 20, 40, 60, 80, 100, 120, 140, 160, 180, 200],\n",
       " 'max_features': [1, 1, 2, 3, 4, 5, 6, 7, 8, 9, 10],\n",
       " 'max_depth': [1, 20, 40, 60, 80, 100, 120, 140, 160, 180, 200, None],\n",
       " 'min_samples_split': [2, 21, 41, 61, 81, 101, 120, 140, 160, 180, 200],\n",
       " 'min_samples_leaf': [1, 20, 40, 60, 80, 100, 120, 140, 160, 180, 200],\n",
       " 'bootstrap': [True, False]}"
      ]
     },
     "execution_count": 751,
     "metadata": {},
     "output_type": "execute_result"
    }
   ],
   "source": [
    "random_forest_hp_range"
   ]
  },
  {
   "cell_type": "code",
   "execution_count": null,
   "id": "f0b677bc",
   "metadata": {},
   "outputs": [],
   "source": []
  },
  {
   "cell_type": "code",
   "execution_count": null,
   "id": "d44de406",
   "metadata": {},
   "outputs": [],
   "source": [
    "seed=3"
   ]
  },
  {
   "cell_type": "markdown",
   "id": "69526a9c",
   "metadata": {},
   "source": [
    "## All features"
   ]
  },
  {
   "cell_type": "code",
   "execution_count": 856,
   "id": "0535d25e",
   "metadata": {
    "collapsed": true
   },
   "outputs": [
    {
     "data": {
      "text/html": [
       "<div>\n",
       "<style scoped>\n",
       "    .dataframe tbody tr th:only-of-type {\n",
       "        vertical-align: middle;\n",
       "    }\n",
       "\n",
       "    .dataframe tbody tr th {\n",
       "        vertical-align: top;\n",
       "    }\n",
       "\n",
       "    .dataframe thead th {\n",
       "        text-align: right;\n",
       "    }\n",
       "</style>\n",
       "<table border=\"1\" class=\"dataframe\">\n",
       "  <thead>\n",
       "    <tr style=\"text-align: right;\">\n",
       "      <th></th>\n",
       "      <th>perimeter</th>\n",
       "      <th>area</th>\n",
       "      <th>vertices</th>\n",
       "      <th>compactness</th>\n",
       "      <th>complexity</th>\n",
       "      <th>length</th>\n",
       "      <th>width</th>\n",
       "      <th>slimness</th>\n",
       "      <th>adjacent_buildings</th>\n",
       "      <th>neighbour</th>\n",
       "      <th>construction_year</th>\n",
       "    </tr>\n",
       "  </thead>\n",
       "  <tbody>\n",
       "    <tr>\n",
       "      <th>0</th>\n",
       "      <td>416.428779</td>\n",
       "      <td>6592.779885</td>\n",
       "      <td>23</td>\n",
       "      <td>0.691192</td>\n",
       "      <td>46.214003</td>\n",
       "      <td>102.603770</td>\n",
       "      <td>100.232475</td>\n",
       "      <td>1.023658</td>\n",
       "      <td>1</td>\n",
       "      <td>1</td>\n",
       "      <td>1980</td>\n",
       "    </tr>\n",
       "    <tr>\n",
       "      <th>1</th>\n",
       "      <td>25.102037</td>\n",
       "      <td>35.465523</td>\n",
       "      <td>4</td>\n",
       "      <td>0.841006</td>\n",
       "      <td>10.286257</td>\n",
       "      <td>8.253281</td>\n",
       "      <td>4.300733</td>\n",
       "      <td>1.919040</td>\n",
       "      <td>2</td>\n",
       "      <td>7</td>\n",
       "      <td>1965</td>\n",
       "    </tr>\n",
       "    <tr>\n",
       "      <th>2</th>\n",
       "      <td>24.924155</td>\n",
       "      <td>34.741311</td>\n",
       "      <td>4</td>\n",
       "      <td>0.838316</td>\n",
       "      <td>10.266181</td>\n",
       "      <td>8.253314</td>\n",
       "      <td>4.249036</td>\n",
       "      <td>1.942397</td>\n",
       "      <td>3</td>\n",
       "      <td>8</td>\n",
       "      <td>1965</td>\n",
       "    </tr>\n",
       "    <tr>\n",
       "      <th>3</th>\n",
       "      <td>25.276817</td>\n",
       "      <td>36.157559</td>\n",
       "      <td>4</td>\n",
       "      <td>0.843300</td>\n",
       "      <td>10.307957</td>\n",
       "      <td>8.253614</td>\n",
       "      <td>4.417923</td>\n",
       "      <td>1.868211</td>\n",
       "      <td>3</td>\n",
       "      <td>8</td>\n",
       "      <td>1965</td>\n",
       "    </tr>\n",
       "    <tr>\n",
       "      <th>4</th>\n",
       "      <td>25.108081</td>\n",
       "      <td>35.491882</td>\n",
       "      <td>4</td>\n",
       "      <td>0.841116</td>\n",
       "      <td>10.286823</td>\n",
       "      <td>8.255285</td>\n",
       "      <td>4.300042</td>\n",
       "      <td>1.919815</td>\n",
       "      <td>3</td>\n",
       "      <td>9</td>\n",
       "      <td>1965</td>\n",
       "    </tr>\n",
       "    <tr>\n",
       "      <th>...</th>\n",
       "      <td>...</td>\n",
       "      <td>...</td>\n",
       "      <td>...</td>\n",
       "      <td>...</td>\n",
       "      <td>...</td>\n",
       "      <td>...</td>\n",
       "      <td>...</td>\n",
       "      <td>...</td>\n",
       "      <td>...</td>\n",
       "      <td>...</td>\n",
       "      <td>...</td>\n",
       "    </tr>\n",
       "    <tr>\n",
       "      <th>68</th>\n",
       "      <td>120.406290</td>\n",
       "      <td>842.878881</td>\n",
       "      <td>9</td>\n",
       "      <td>0.854748</td>\n",
       "      <td>22.346416</td>\n",
       "      <td>30.118188</td>\n",
       "      <td>30.043193</td>\n",
       "      <td>1.002496</td>\n",
       "      <td>1</td>\n",
       "      <td>5</td>\n",
       "      <td>2007</td>\n",
       "    </tr>\n",
       "    <tr>\n",
       "      <th>69</th>\n",
       "      <td>17.957165</td>\n",
       "      <td>18.082515</td>\n",
       "      <td>4</td>\n",
       "      <td>0.839453</td>\n",
       "      <td>8.708093</td>\n",
       "      <td>5.931086</td>\n",
       "      <td>3.049197</td>\n",
       "      <td>1.945130</td>\n",
       "      <td>1</td>\n",
       "      <td>14</td>\n",
       "      <td>1967</td>\n",
       "    </tr>\n",
       "    <tr>\n",
       "      <th>70</th>\n",
       "      <td>18.191210</td>\n",
       "      <td>18.795591</td>\n",
       "      <td>5</td>\n",
       "      <td>0.844834</td>\n",
       "      <td>8.736703</td>\n",
       "      <td>5.921485</td>\n",
       "      <td>3.174825</td>\n",
       "      <td>1.865137</td>\n",
       "      <td>1</td>\n",
       "      <td>7</td>\n",
       "      <td>1968</td>\n",
       "    </tr>\n",
       "    <tr>\n",
       "      <th>71</th>\n",
       "      <td>191.606203</td>\n",
       "      <td>1364.665578</td>\n",
       "      <td>5</td>\n",
       "      <td>0.683453</td>\n",
       "      <td>31.524848</td>\n",
       "      <td>78.884657</td>\n",
       "      <td>18.031082</td>\n",
       "      <td>4.374926</td>\n",
       "      <td>2</td>\n",
       "      <td>2</td>\n",
       "      <td>1980</td>\n",
       "    </tr>\n",
       "    <tr>\n",
       "      <th>72</th>\n",
       "      <td>149.756631</td>\n",
       "      <td>1357.504121</td>\n",
       "      <td>4</td>\n",
       "      <td>0.872147</td>\n",
       "      <td>24.671796</td>\n",
       "      <td>44.086741</td>\n",
       "      <td>30.791992</td>\n",
       "      <td>1.431760</td>\n",
       "      <td>1</td>\n",
       "      <td>1</td>\n",
       "      <td>2011</td>\n",
       "    </tr>\n",
       "  </tbody>\n",
       "</table>\n",
       "<p>2236 rows × 11 columns</p>\n",
       "</div>"
      ],
      "text/plain": [
       "     perimeter         area  vertices  compactness  complexity      length  \\\n",
       "0   416.428779  6592.779885        23     0.691192   46.214003  102.603770   \n",
       "1    25.102037    35.465523         4     0.841006   10.286257    8.253281   \n",
       "2    24.924155    34.741311         4     0.838316   10.266181    8.253314   \n",
       "3    25.276817    36.157559         4     0.843300   10.307957    8.253614   \n",
       "4    25.108081    35.491882         4     0.841116   10.286823    8.255285   \n",
       "..         ...          ...       ...          ...         ...         ...   \n",
       "68  120.406290   842.878881         9     0.854748   22.346416   30.118188   \n",
       "69   17.957165    18.082515         4     0.839453    8.708093    5.931086   \n",
       "70   18.191210    18.795591         5     0.844834    8.736703    5.921485   \n",
       "71  191.606203  1364.665578         5     0.683453   31.524848   78.884657   \n",
       "72  149.756631  1357.504121         4     0.872147   24.671796   44.086741   \n",
       "\n",
       "         width  slimness  adjacent_buildings  neighbour  construction_year  \n",
       "0   100.232475  1.023658                   1          1               1980  \n",
       "1     4.300733  1.919040                   2          7               1965  \n",
       "2     4.249036  1.942397                   3          8               1965  \n",
       "3     4.417923  1.868211                   3          8               1965  \n",
       "4     4.300042  1.919815                   3          9               1965  \n",
       "..         ...       ...                 ...        ...                ...  \n",
       "68   30.043193  1.002496                   1          5               2007  \n",
       "69    3.049197  1.945130                   1         14               1967  \n",
       "70    3.174825  1.865137                   1          7               1968  \n",
       "71   18.031082  4.374926                   2          2               1980  \n",
       "72   30.791992  1.431760                   1          1               2011  \n",
       "\n",
       "[2236 rows x 11 columns]"
      ]
     },
     "execution_count": 856,
     "metadata": {},
     "output_type": "execute_result"
    }
   ],
   "source": [
    "features"
   ]
  },
  {
   "cell_type": "code",
   "execution_count": 12,
   "id": "1a084360",
   "metadata": {},
   "outputs": [],
   "source": [
    "seed=3\n",
    "xtrain, xtest, ytrain, ytest = train_test_split(features.values, Y, test_size=0.2, random_state=seed)"
   ]
  },
  {
   "cell_type": "code",
   "execution_count": 858,
   "id": "4422a4cc",
   "metadata": {
    "scrolled": true
   },
   "outputs": [
    {
     "name": "stdout",
     "output_type": "stream",
     "text": [
      "Fitting 5 folds for each of 200 candidates, totalling 1000 fits\n",
      "{'n_estimators': 80, 'min_samples_split': 21, 'min_samples_leaf': 1, 'max_features': 1, 'max_depth': 80, 'bootstrap': True}\n"
     ]
    }
   ],
   "source": [
    "random_forest_model_test_base=RandomForestRegressor()\n",
    "random_forest_model_test_random=RandomizedSearchCV(estimator=random_forest_model_test_base,\n",
    "                                                   param_distributions=random_forest_hp_range,\n",
    "                                                   n_iter=200,\n",
    "                                                   n_jobs=-1,\n",
    "                                                   cv=5,\n",
    "                                                   verbose=1,\n",
    "                                                   random_state=random_forest_seed\n",
    "                                                   )\n",
    "random_forest_model_test_random.fit(xtrain,ytrain)\n",
    "\n",
    "best_hp_now=random_forest_model_test_random.best_params_\n",
    "print(best_hp_now)\n"
   ]
  },
  {
   "cell_type": "code",
   "execution_count": 13,
   "id": "20f3b105",
   "metadata": {},
   "outputs": [
    {
     "data": {
      "text/plain": [
       "0.16383226331480893"
      ]
     },
     "execution_count": 13,
     "metadata": {},
     "output_type": "execute_result"
    }
   ],
   "source": [
    "rfc_base = RandomForestRegressor(n_estimators=80, max_depth=80, random_state=3,n_jobs=-1, \n",
    "                                min_samples_split=21, min_samples_leaf=1, max_features=1,bootstrap=True)     \n",
    "#实例化 \n",
    "rfc_base = rfc_base.fit(xtrain,ytrain)       #用训练集数据训练模型 \n",
    "\n",
    "result = rfc_base.score(xtest,ytest)    #导入测试集，rfc的接口score计算的是模型准确率accuracy\n",
    "result"
   ]
  },
  {
   "cell_type": "code",
   "execution_count": 864,
   "id": "eea2d7ec",
   "metadata": {},
   "outputs": [
    {
     "data": {
      "text/plain": [
       "0.006413951990690725"
      ]
     },
     "execution_count": 864,
     "metadata": {},
     "output_type": "execute_result"
    }
   ],
   "source": [
    "# rfc_base1 = RandomForestRegressor()     \n",
    "# #实例化 \n",
    "# rfc_base1 = rfc_base1.fit(xtrain,ytrain)       #用训练集数据训练模型 \n",
    "\n",
    "# result = rfc_base1.score(xtest,ytest)    #导入测试集，rfc的接口score计算的是模型准确率accuracy\n",
    "# result"
   ]
  },
  {
   "cell_type": "code",
   "execution_count": 15,
   "id": "a2eab16c",
   "metadata": {},
   "outputs": [
    {
     "name": "stdout",
     "output_type": "stream",
     "text": [
      "Mean Absolute Error(MAE): 2.1305283204748373\n",
      "Median_Absolute_Error(MedAE): 1.6290632612028775\n",
      "Mean Squared Error(MSE): 11.552641386168375\n",
      "Root Mean Squared Error(RMSE): 3.3989176786395365\n",
      "r2_score Error(R2): 0.16383226331480893\n",
      "mean_absolute_percentage_error(MAPE): 0.3668858437020242\n",
      "max_error: 27.09062851341565\n",
      "mape%: 36.68858437020242\n",
      "smape%: 30.367181112074643\n"
     ]
    }
   ],
   "source": [
    "y_pred = rfc_base.predict(xtest)\n",
    "\n",
    "# 评估回归性能\n",
    "print('Mean Absolute Error(MAE):', metrics.mean_absolute_error(ytest, y_pred))\n",
    "print(\"Median_Absolute_Error(MedAE):\", metrics.median_absolute_error(y_pred, ytest))\n",
    "print('Mean Squared Error(MSE):', metrics.mean_squared_error(ytest, y_pred))\n",
    "print('Root Mean Squared Error(RMSE):',np.sqrt(metrics.mean_squared_error(ytest, y_pred)))\n",
    "print('r2_score Error(R2):', metrics.r2_score(ytest,y_pred)) # 0-1\n",
    "print(\"mean_absolute_percentage_error(MAPE):\", mean_absolute_percentage_error(ytest,y_pred))\n",
    "print(\"max_error:\", metrics.max_error(ytest, y_pred))\n",
    "print(\"mape%:\", mape(ytest, y_pred))\n",
    "print(\"smape%:\", smape(ytest, y_pred))"
   ]
  },
  {
   "cell_type": "code",
   "execution_count": 17,
   "id": "c727b4a0",
   "metadata": {},
   "outputs": [
    {
     "data": {
      "image/png": "[encoded data removed]",
      "text/plain": [
       "<Figure size 288x288 with 1 Axes>"
      ]
     },
     "metadata": {
      "needs_background": "light"
     },
     "output_type": "display_data"
    }
   ],
   "source": [
    "plt.figure(figsize=(4,4))\n",
    "sns.kdeplot(ytest, label='true value')\n",
    "sns.kdeplot(y_pred, label='predict value')\n",
    "\n",
    "plt.xlim([-10,70])\n",
    "plt.ylim([-0.01,0.4])\n",
    "plt.xticks([0,3,5,10,15,20,30,40,50,60,70])\n",
    "plt.xlabel('Elevation (m)')\n",
    "plt.title('Base model R^2: %.4f'%metrics.r2_score(ytest,y_pred))\n",
    "plt.legend() \n",
    "# plt.savefig('for_report/'+ 'base_tp2', dpi=500,bbox_inches='tight') # ,dpi=600"
   ]
  },
  {
   "cell_type": "code",
   "execution_count": 1077,
   "id": "4f5cbc6a",
   "metadata": {},
   "outputs": [],
   "source": [
    "list_tuple = list(zip(ytest,y_pred))"
   ]
  },
  {
   "cell_type": "code",
   "execution_count": 1079,
   "id": "f748619e",
   "metadata": {},
   "outputs": [],
   "source": [
    "ddddf = pd.DataFrame(list_tuple, columns=['true', 'pred'])"
   ]
  },
  {
   "cell_type": "code",
   "execution_count": 1081,
   "id": "a826a752",
   "metadata": {},
   "outputs": [],
   "source": [
    "ddddf['error'] = abs(ddddf['true'] - ddddf['pred'])"
   ]
  },
  {
   "cell_type": "code",
   "execution_count": 1082,
   "id": "7ce604a3",
   "metadata": {},
   "outputs": [
    {
     "data": {
      "text/html": [
       "<div>\n",
       "<style scoped>\n",
       "    .dataframe tbody tr th:only-of-type {\n",
       "        vertical-align: middle;\n",
       "    }\n",
       "\n",
       "    .dataframe tbody tr th {\n",
       "        vertical-align: top;\n",
       "    }\n",
       "\n",
       "    .dataframe thead th {\n",
       "        text-align: right;\n",
       "    }\n",
       "</style>\n",
       "<table border=\"1\" class=\"dataframe\">\n",
       "  <thead>\n",
       "    <tr style=\"text-align: right;\">\n",
       "      <th></th>\n",
       "      <th>true</th>\n",
       "      <th>pred</th>\n",
       "      <th>error</th>\n",
       "    </tr>\n",
       "  </thead>\n",
       "  <tbody>\n",
       "    <tr>\n",
       "      <th>0</th>\n",
       "      <td>3.2984</td>\n",
       "      <td>6.201239</td>\n",
       "      <td>2.902839</td>\n",
       "    </tr>\n",
       "    <tr>\n",
       "      <th>1</th>\n",
       "      <td>7.8139</td>\n",
       "      <td>8.210070</td>\n",
       "      <td>0.396170</td>\n",
       "    </tr>\n",
       "    <tr>\n",
       "      <th>2</th>\n",
       "      <td>6.4680</td>\n",
       "      <td>6.134400</td>\n",
       "      <td>0.333600</td>\n",
       "    </tr>\n",
       "    <tr>\n",
       "      <th>3</th>\n",
       "      <td>5.3329</td>\n",
       "      <td>5.506459</td>\n",
       "      <td>0.173559</td>\n",
       "    </tr>\n",
       "    <tr>\n",
       "      <th>4</th>\n",
       "      <td>7.6958</td>\n",
       "      <td>6.009731</td>\n",
       "      <td>1.686069</td>\n",
       "    </tr>\n",
       "    <tr>\n",
       "      <th>...</th>\n",
       "      <td>...</td>\n",
       "      <td>...</td>\n",
       "      <td>...</td>\n",
       "    </tr>\n",
       "    <tr>\n",
       "      <th>443</th>\n",
       "      <td>6.9630</td>\n",
       "      <td>6.445103</td>\n",
       "      <td>0.517897</td>\n",
       "    </tr>\n",
       "    <tr>\n",
       "      <th>444</th>\n",
       "      <td>7.4444</td>\n",
       "      <td>5.454854</td>\n",
       "      <td>1.989546</td>\n",
       "    </tr>\n",
       "    <tr>\n",
       "      <th>445</th>\n",
       "      <td>4.2895</td>\n",
       "      <td>8.587136</td>\n",
       "      <td>4.297636</td>\n",
       "    </tr>\n",
       "    <tr>\n",
       "      <th>446</th>\n",
       "      <td>8.3787</td>\n",
       "      <td>6.083389</td>\n",
       "      <td>2.295311</td>\n",
       "    </tr>\n",
       "    <tr>\n",
       "      <th>447</th>\n",
       "      <td>4.6493</td>\n",
       "      <td>5.726062</td>\n",
       "      <td>1.076762</td>\n",
       "    </tr>\n",
       "  </tbody>\n",
       "</table>\n",
       "<p>448 rows × 3 columns</p>\n",
       "</div>"
      ],
      "text/plain": [
       "       true      pred     error\n",
       "0    3.2984  6.201239  2.902839\n",
       "1    7.8139  8.210070  0.396170\n",
       "2    6.4680  6.134400  0.333600\n",
       "3    5.3329  5.506459  0.173559\n",
       "4    7.6958  6.009731  1.686069\n",
       "..      ...       ...       ...\n",
       "443  6.9630  6.445103  0.517897\n",
       "444  7.4444  5.454854  1.989546\n",
       "445  4.2895  8.587136  4.297636\n",
       "446  8.3787  6.083389  2.295311\n",
       "447  4.6493  5.726062  1.076762\n",
       "\n",
       "[448 rows x 3 columns]"
      ]
     },
     "execution_count": 1082,
     "metadata": {},
     "output_type": "execute_result"
    }
   ],
   "source": [
    "ddddf"
   ]
  },
  {
   "cell_type": "code",
   "execution_count": 1084,
   "id": "4f5e9f7d",
   "metadata": {},
   "outputs": [],
   "source": [
    "bh_bins = [0, 5, 10, 15, 20, 35, 40, float('inf')]\n",
    "bh_group = pd.cut(ddddf['true'], bh_bins)"
   ]
  },
  {
   "cell_type": "code",
   "execution_count": 1087,
   "id": "7c77cf1d",
   "metadata": {},
   "outputs": [
    {
     "data": {
      "text/html": [
       "<div>\n",
       "<style scoped>\n",
       "    .dataframe tbody tr th:only-of-type {\n",
       "        vertical-align: middle;\n",
       "    }\n",
       "\n",
       "    .dataframe tbody tr th {\n",
       "        vertical-align: top;\n",
       "    }\n",
       "\n",
       "    .dataframe thead tr th {\n",
       "        text-align: left;\n",
       "    }\n",
       "\n",
       "    .dataframe thead tr:last-of-type th {\n",
       "        text-align: right;\n",
       "    }\n",
       "</style>\n",
       "<table border=\"1\" class=\"dataframe\">\n",
       "  <thead>\n",
       "    <tr>\n",
       "      <th></th>\n",
       "      <th colspan=\"5\" halign=\"left\">error</th>\n",
       "    </tr>\n",
       "    <tr>\n",
       "      <th></th>\n",
       "      <th>count</th>\n",
       "      <th>mean</th>\n",
       "      <th>median</th>\n",
       "      <th>max</th>\n",
       "      <th>min</th>\n",
       "    </tr>\n",
       "    <tr>\n",
       "      <th>true</th>\n",
       "      <th></th>\n",
       "      <th></th>\n",
       "      <th></th>\n",
       "      <th></th>\n",
       "      <th></th>\n",
       "    </tr>\n",
       "  </thead>\n",
       "  <tbody>\n",
       "    <tr>\n",
       "      <th>(0.0, 5.0]</th>\n",
       "      <td>175</td>\n",
       "      <td>2.424301</td>\n",
       "      <td>2.198502</td>\n",
       "      <td>7.716256</td>\n",
       "      <td>0.105224</td>\n",
       "    </tr>\n",
       "    <tr>\n",
       "      <th>(5.0, 10.0]</th>\n",
       "      <td>232</td>\n",
       "      <td>1.126729</td>\n",
       "      <td>0.853404</td>\n",
       "      <td>4.631425</td>\n",
       "      <td>0.004302</td>\n",
       "    </tr>\n",
       "    <tr>\n",
       "      <th>(10.0, 15.0]</th>\n",
       "      <td>28</td>\n",
       "      <td>3.488452</td>\n",
       "      <td>3.371841</td>\n",
       "      <td>6.516312</td>\n",
       "      <td>0.957918</td>\n",
       "    </tr>\n",
       "    <tr>\n",
       "      <th>(15.0, 20.0]</th>\n",
       "      <td>7</td>\n",
       "      <td>7.856573</td>\n",
       "      <td>7.965960</td>\n",
       "      <td>11.142793</td>\n",
       "      <td>5.187271</td>\n",
       "    </tr>\n",
       "    <tr>\n",
       "      <th>(20.0, 35.0]</th>\n",
       "      <td>5</td>\n",
       "      <td>17.811923</td>\n",
       "      <td>18.006745</td>\n",
       "      <td>24.722529</td>\n",
       "      <td>10.090686</td>\n",
       "    </tr>\n",
       "    <tr>\n",
       "      <th>(35.0, 40.0]</th>\n",
       "      <td>1</td>\n",
       "      <td>27.090629</td>\n",
       "      <td>27.090629</td>\n",
       "      <td>27.090629</td>\n",
       "      <td>27.090629</td>\n",
       "    </tr>\n",
       "    <tr>\n",
       "      <th>(40.0, inf]</th>\n",
       "      <td>0</td>\n",
       "      <td>NaN</td>\n",
       "      <td>NaN</td>\n",
       "      <td>NaN</td>\n",
       "      <td>NaN</td>\n",
       "    </tr>\n",
       "  </tbody>\n",
       "</table>\n",
       "</div>"
      ],
      "text/plain": [
       "             error                                            \n",
       "             count       mean     median        max        min\n",
       "true                                                          \n",
       "(0.0, 5.0]     175   2.424301   2.198502   7.716256   0.105224\n",
       "(5.0, 10.0]    232   1.126729   0.853404   4.631425   0.004302\n",
       "(10.0, 15.0]    28   3.488452   3.371841   6.516312   0.957918\n",
       "(15.0, 20.0]     7   7.856573   7.965960  11.142793   5.187271\n",
       "(20.0, 35.0]     5  17.811923  18.006745  24.722529  10.090686\n",
       "(35.0, 40.0]     1  27.090629  27.090629  27.090629  27.090629\n",
       "(40.0, inf]      0        NaN        NaN        NaN        NaN"
      ]
     },
     "execution_count": 1087,
     "metadata": {},
     "output_type": "execute_result"
    }
   ],
   "source": [
    "ddddf[['error']].groupby(bh_group).agg([\"count\",\"mean\", \"median\",\"max\", \"min\"])"
   ]
  },
  {
   "cell_type": "code",
   "execution_count": 1141,
   "id": "5b00c582",
   "metadata": {},
   "outputs": [
    {
     "data": {
      "text/plain": [
       "<matplotlib.legend.Legend at 0x15c6aeb50>"
      ]
     },
     "execution_count": 1141,
     "metadata": {},
     "output_type": "execute_result"
    },
    {
     "data": {
      "text/plain": [
       "<Figure size 360x360 with 0 Axes>"
      ]
     },
     "metadata": {},
     "output_type": "display_data"
    },
    {
     "data": {
      "image/png": "[encoded data removed]",
      "text/plain": [
       "<Figure size 432x288 with 1 Axes>"
      ]
     },
     "metadata": {
      "needs_background": "light"
     },
     "output_type": "display_data"
    }
   ],
   "source": [
    "plt.figure(figsize=(5,5))\n",
    "\n",
    "# fig,ax1 = plt.subplots()\n",
    "# ax2 = ax1.twinx() \n",
    "\n",
    "ddddf[['error']].groupby(bh_group).agg([\"count\"]).plot(kind='bar',label='count')\n",
    "# ddddf[['error']].groupby(bh_group).agg([\"count\"]).plot(ax=ax2, kind='density',label='count')\n",
    "\n",
    "plt.ylim([0,250])\n",
    "\n",
    "# ax1.set_xlabel(\"Building height(m) groups\")   #设置x轴标题\n",
    "# ax1.set_ylabel('total_count')   #设置Y1轴标题\n",
    "# ax2.set_ylabel('bad_rate')   #设置Y2轴标题\n",
    "\n",
    "plt.grid(axis=\"y\")\n",
    "plt.ylabel(\"Count\")\n",
    "plt.xlabel(\"Building height(m) groups\")\n",
    "\n",
    "plt.legend()\n",
    "# plt.savefig('for_report/'+ 'test_count', dpi=500,bbox_inches='tight') # ,dpi=600"
   ]
  },
  {
   "cell_type": "code",
   "execution_count": 1112,
   "id": "49665acb",
   "metadata": {},
   "outputs": [
    {
     "data": {
      "text/plain": [
       "<Figure size 360x360 with 0 Axes>"
      ]
     },
     "metadata": {},
     "output_type": "display_data"
    },
    {
     "data": {
      "image/png": "[encoded data removed]",
      "text/plain": [
       "<Figure size 432x288 with 1 Axes>"
      ]
     },
     "metadata": {
      "needs_background": "light"
     },
     "output_type": "display_data"
    }
   ],
   "source": [
    "plt.figure(figsize=(5,5))\n",
    "ddddf[['error']].groupby(bh_group).agg([\"mean\", \"median\",\"max\", \"min\"]).plot(kind='bar')\n",
    "plt.ylim([0,30])\n",
    "\n",
    "plt.grid(axis=\"y\")\n",
    "plt.ylabel(\"Error (m)\")\n",
    "plt.xlabel(\"Building height(m) groups\")\n",
    "plt.legend()\n",
    "\n",
    "plt.savefig('for_report/'+ 'test_error', dpi=500,bbox_inches='tight') # ,dpi=600"
   ]
  },
  {
   "cell_type": "code",
   "execution_count": null,
   "id": "ca2da265",
   "metadata": {},
   "outputs": [],
   "source": []
  },
  {
   "cell_type": "code",
   "execution_count": null,
   "id": "596907b5",
   "metadata": {},
   "outputs": [],
   "source": []
  },
  {
   "cell_type": "code",
   "execution_count": null,
   "id": "ee7c01bb",
   "metadata": {},
   "outputs": [],
   "source": []
  },
  {
   "cell_type": "code",
   "execution_count": 966,
   "id": "39551fcb",
   "metadata": {},
   "outputs": [
    {
     "name": "stdout",
     "output_type": "stream",
     "text": [
      "各feature的重要性：[0.0932 0.1040 0.0708 0.1019 0.0898 0.1037 0.0996 0.1416 0.0335 0.0600\n",
      " 0.1020]\n"
     ]
    },
    {
     "data": {
      "image/png": "[encoded data removed]",
      "text/plain": [
       "<Figure size 288x288 with 1 Axes>"
      ]
     },
     "metadata": {
      "needs_background": "light"
     },
     "output_type": "display_data"
    }
   ],
   "source": [
    "print ('各feature的重要性：%s' % rfc_base.feature_importances_)\n",
    "# 得到特征重要度分数\n",
    "importances_values = rfc_base.feature_importances_\n",
    "importances = pd.DataFrame(importances_values, columns=[\"importance\"])\n",
    "\n",
    "feature_data = pd.DataFrame(features.columns, columns=[\"feature\"])\n",
    "importance = pd.concat([feature_data, importances], axis=1)\n",
    "# 倒叙排序\n",
    "importance = importance.sort_values([\"importance\"], ascending=True)\n",
    "# importance[\"importance\"] = (importance[\"importance\"] * 1000).astype(int)\n",
    "importance = importance.sort_values([\"importance\"])\n",
    "importance.set_index('feature', inplace=True)\n",
    "importance.plot.barh(color='b', alpha=0.7, rot=0,figsize=(4, 4)) #figsize=(8, 8)\n",
    "\n",
    "plt.xlim([0, 0.2])\n",
    "plt.xlabel('Importance')\n",
    "plt.title('Base model R^2: %.4f'%metrics.r2_score(ytest,y_pred))\n",
    "\n",
    "# plt.ylabel('Variable');\n",
    "\n",
    "plt.savefig('for_report/'+ 'base2_import', dpi=500, bbox_inches='tight')\n",
    "plt.show()"
   ]
  },
  {
   "cell_type": "code",
   "execution_count": null,
   "id": "b84fdd27",
   "metadata": {},
   "outputs": [],
   "source": []
  },
  {
   "cell_type": "code",
   "execution_count": null,
   "id": "b6d175c4",
   "metadata": {},
   "outputs": [],
   "source": []
  },
  {
   "cell_type": "markdown",
   "id": "b85c2d28",
   "metadata": {},
   "source": [
    "## Filter"
   ]
  },
  {
   "cell_type": "code",
   "execution_count": 930,
   "id": "3b85a688",
   "metadata": {
    "collapsed": true
   },
   "outputs": [
    {
     "data": {
      "text/html": [
       "<div>\n",
       "<style scoped>\n",
       "    .dataframe tbody tr th:only-of-type {\n",
       "        vertical-align: middle;\n",
       "    }\n",
       "\n",
       "    .dataframe tbody tr th {\n",
       "        vertical-align: top;\n",
       "    }\n",
       "\n",
       "    .dataframe thead th {\n",
       "        text-align: right;\n",
       "    }\n",
       "</style>\n",
       "<table border=\"1\" class=\"dataframe\">\n",
       "  <thead>\n",
       "    <tr style=\"text-align: right;\">\n",
       "      <th></th>\n",
       "      <th>perimeter</th>\n",
       "      <th>area</th>\n",
       "      <th>vertices</th>\n",
       "      <th>compactness</th>\n",
       "      <th>complexity</th>\n",
       "      <th>length</th>\n",
       "      <th>width</th>\n",
       "      <th>slimness</th>\n",
       "      <th>neighbour</th>\n",
       "      <th>construction_year</th>\n",
       "    </tr>\n",
       "  </thead>\n",
       "  <tbody>\n",
       "    <tr>\n",
       "      <th>0</th>\n",
       "      <td>416.428779</td>\n",
       "      <td>6592.779885</td>\n",
       "      <td>23</td>\n",
       "      <td>0.691192</td>\n",
       "      <td>46.214003</td>\n",
       "      <td>102.603770</td>\n",
       "      <td>100.232475</td>\n",
       "      <td>1.023658</td>\n",
       "      <td>1</td>\n",
       "      <td>1980</td>\n",
       "    </tr>\n",
       "    <tr>\n",
       "      <th>1</th>\n",
       "      <td>25.102037</td>\n",
       "      <td>35.465523</td>\n",
       "      <td>4</td>\n",
       "      <td>0.841006</td>\n",
       "      <td>10.286257</td>\n",
       "      <td>8.253281</td>\n",
       "      <td>4.300733</td>\n",
       "      <td>1.919040</td>\n",
       "      <td>7</td>\n",
       "      <td>1965</td>\n",
       "    </tr>\n",
       "    <tr>\n",
       "      <th>2</th>\n",
       "      <td>24.924155</td>\n",
       "      <td>34.741311</td>\n",
       "      <td>4</td>\n",
       "      <td>0.838316</td>\n",
       "      <td>10.266181</td>\n",
       "      <td>8.253314</td>\n",
       "      <td>4.249036</td>\n",
       "      <td>1.942397</td>\n",
       "      <td>8</td>\n",
       "      <td>1965</td>\n",
       "    </tr>\n",
       "    <tr>\n",
       "      <th>3</th>\n",
       "      <td>25.276817</td>\n",
       "      <td>36.157559</td>\n",
       "      <td>4</td>\n",
       "      <td>0.843300</td>\n",
       "      <td>10.307957</td>\n",
       "      <td>8.253614</td>\n",
       "      <td>4.417923</td>\n",
       "      <td>1.868211</td>\n",
       "      <td>8</td>\n",
       "      <td>1965</td>\n",
       "    </tr>\n",
       "    <tr>\n",
       "      <th>4</th>\n",
       "      <td>25.108081</td>\n",
       "      <td>35.491882</td>\n",
       "      <td>4</td>\n",
       "      <td>0.841116</td>\n",
       "      <td>10.286823</td>\n",
       "      <td>8.255285</td>\n",
       "      <td>4.300042</td>\n",
       "      <td>1.919815</td>\n",
       "      <td>9</td>\n",
       "      <td>1965</td>\n",
       "    </tr>\n",
       "    <tr>\n",
       "      <th>...</th>\n",
       "      <td>...</td>\n",
       "      <td>...</td>\n",
       "      <td>...</td>\n",
       "      <td>...</td>\n",
       "      <td>...</td>\n",
       "      <td>...</td>\n",
       "      <td>...</td>\n",
       "      <td>...</td>\n",
       "      <td>...</td>\n",
       "      <td>...</td>\n",
       "    </tr>\n",
       "    <tr>\n",
       "      <th>68</th>\n",
       "      <td>120.406290</td>\n",
       "      <td>842.878881</td>\n",
       "      <td>9</td>\n",
       "      <td>0.854748</td>\n",
       "      <td>22.346416</td>\n",
       "      <td>30.118188</td>\n",
       "      <td>30.043193</td>\n",
       "      <td>1.002496</td>\n",
       "      <td>5</td>\n",
       "      <td>2007</td>\n",
       "    </tr>\n",
       "    <tr>\n",
       "      <th>69</th>\n",
       "      <td>17.957165</td>\n",
       "      <td>18.082515</td>\n",
       "      <td>4</td>\n",
       "      <td>0.839453</td>\n",
       "      <td>8.708093</td>\n",
       "      <td>5.931086</td>\n",
       "      <td>3.049197</td>\n",
       "      <td>1.945130</td>\n",
       "      <td>14</td>\n",
       "      <td>1967</td>\n",
       "    </tr>\n",
       "    <tr>\n",
       "      <th>70</th>\n",
       "      <td>18.191210</td>\n",
       "      <td>18.795591</td>\n",
       "      <td>5</td>\n",
       "      <td>0.844834</td>\n",
       "      <td>8.736703</td>\n",
       "      <td>5.921485</td>\n",
       "      <td>3.174825</td>\n",
       "      <td>1.865137</td>\n",
       "      <td>7</td>\n",
       "      <td>1968</td>\n",
       "    </tr>\n",
       "    <tr>\n",
       "      <th>71</th>\n",
       "      <td>191.606203</td>\n",
       "      <td>1364.665578</td>\n",
       "      <td>5</td>\n",
       "      <td>0.683453</td>\n",
       "      <td>31.524848</td>\n",
       "      <td>78.884657</td>\n",
       "      <td>18.031082</td>\n",
       "      <td>4.374926</td>\n",
       "      <td>2</td>\n",
       "      <td>1980</td>\n",
       "    </tr>\n",
       "    <tr>\n",
       "      <th>72</th>\n",
       "      <td>149.756631</td>\n",
       "      <td>1357.504121</td>\n",
       "      <td>4</td>\n",
       "      <td>0.872147</td>\n",
       "      <td>24.671796</td>\n",
       "      <td>44.086741</td>\n",
       "      <td>30.791992</td>\n",
       "      <td>1.431760</td>\n",
       "      <td>1</td>\n",
       "      <td>2011</td>\n",
       "    </tr>\n",
       "  </tbody>\n",
       "</table>\n",
       "<p>2236 rows × 10 columns</p>\n",
       "</div>"
      ],
      "text/plain": [
       "     perimeter         area  vertices  compactness  complexity      length  \\\n",
       "0   416.428779  6592.779885        23     0.691192   46.214003  102.603770   \n",
       "1    25.102037    35.465523         4     0.841006   10.286257    8.253281   \n",
       "2    24.924155    34.741311         4     0.838316   10.266181    8.253314   \n",
       "3    25.276817    36.157559         4     0.843300   10.307957    8.253614   \n",
       "4    25.108081    35.491882         4     0.841116   10.286823    8.255285   \n",
       "..         ...          ...       ...          ...         ...         ...   \n",
       "68  120.406290   842.878881         9     0.854748   22.346416   30.118188   \n",
       "69   17.957165    18.082515         4     0.839453    8.708093    5.931086   \n",
       "70   18.191210    18.795591         5     0.844834    8.736703    5.921485   \n",
       "71  191.606203  1364.665578         5     0.683453   31.524848   78.884657   \n",
       "72  149.756631  1357.504121         4     0.872147   24.671796   44.086741   \n",
       "\n",
       "         width  slimness  neighbour  construction_year  \n",
       "0   100.232475  1.023658          1               1980  \n",
       "1     4.300733  1.919040          7               1965  \n",
       "2     4.249036  1.942397          8               1965  \n",
       "3     4.417923  1.868211          8               1965  \n",
       "4     4.300042  1.919815          9               1965  \n",
       "..         ...       ...        ...                ...  \n",
       "68   30.043193  1.002496          5               2007  \n",
       "69    3.049197  1.945130         14               1967  \n",
       "70    3.174825  1.865137          7               1968  \n",
       "71   18.031082  4.374926          2               1980  \n",
       "72   30.791992  1.431760          1               2011  \n",
       "\n",
       "[2236 rows x 10 columns]"
      ]
     },
     "execution_count": 930,
     "metadata": {},
     "output_type": "execute_result"
    }
   ],
   "source": [
    "features_filter"
   ]
  },
  {
   "cell_type": "code",
   "execution_count": 929,
   "id": "7573f55d",
   "metadata": {},
   "outputs": [],
   "source": [
    "seed=3\n",
    "xtrain, xtest, ytrain, ytest = train_test_split(features_filter.values, Y, test_size=0.2, random_state=seed)"
   ]
  },
  {
   "cell_type": "code",
   "execution_count": 758,
   "id": "ccdc61da",
   "metadata": {},
   "outputs": [
    {
     "name": "stdout",
     "output_type": "stream",
     "text": [
      "Fitting 5 folds for each of 200 candidates, totalling 1000 fits\n",
      "{'n_estimators': 140, 'min_samples_split': 2, 'min_samples_leaf': 20, 'max_features': 3, 'max_depth': 100, 'bootstrap': True}\n"
     ]
    }
   ],
   "source": [
    "random_forest_model_test_base=RandomForestRegressor()\n",
    "random_forest_model_test_random=RandomizedSearchCV(estimator=random_forest_model_test_base,\n",
    "                                                   param_distributions=random_forest_hp_range,\n",
    "                                                   n_iter=200,\n",
    "                                                   n_jobs=-1,\n",
    "                                                   cv=5,\n",
    "                                                   verbose=1,\n",
    "                                                   random_state=random_forest_seed\n",
    "                                                   )\n",
    "random_forest_model_test_random.fit(xtrain,ytrain)\n",
    "\n",
    "best_hp_now=random_forest_model_test_random.best_params_\n",
    "print(best_hp_now)\n"
   ]
  },
  {
   "cell_type": "code",
   "execution_count": 45,
   "id": "d8be915d",
   "metadata": {},
   "outputs": [],
   "source": [
    "# best_hp_now"
   ]
  },
  {
   "cell_type": "code",
   "execution_count": 741,
   "id": "c3293f53",
   "metadata": {},
   "outputs": [
    {
     "name": "stdout",
     "output_type": "stream",
     "text": [
      "{'n_estimators': [90, 92, 94, 96, 98, 100, 102, 104, 106, 108, 110], 'max_features': [6, 7, 8], 'max_depth': [10, 12, 14, 16, 18, 20, 22, 24, 26, 28, 30], 'min_samples_split': [65, 67, 70, 73, 76, 78, 81, 84, 87, 90], 'min_samples_leaf': [70, 72, 74, 76, 78, 80, 82, 84, 86, 88, 90], 'bootstrap': [False]}\n"
     ]
    }
   ],
   "source": [
    "# Search optimal hyperparameter\n",
    "n_estimators_range=[int(x) for x in np.linspace(start=70,stop=90,num=11)]\n",
    "max_features_range=[3]\n",
    "max_depth_range=[int(x) for x in np.linspace(start=70,stop=90,num=11)]\n",
    "# max_depth_range.append(None)\n",
    "min_samples_split_range=[2]\n",
    "min_samples_leaf_range=[1,2]\n",
    "bootstrap_range=[True]\n",
    "\n",
    "random_forest_hp_range_2={'n_estimators':n_estimators_range,\n",
    "                        'max_features':max_features_range,\n",
    "                        'max_depth':max_depth_range,\n",
    "                        'min_samples_split':min_samples_split_range,\n",
    "                        'min_samples_leaf':min_samples_leaf_range,\n",
    "                        'bootstrap':bootstrap_range\n",
    "                        }\n",
    "print(random_forest_hp_range_2)"
   ]
  },
  {
   "cell_type": "code",
   "execution_count": 742,
   "id": "4adb9e24",
   "metadata": {},
   "outputs": [
    {
     "name": "stdout",
     "output_type": "stream",
     "text": [
      "{'n_estimators': [90, 92, 94, 96, 98, 100, 102, 104, 106, 108, 110], 'max_features': [6, 7, 8], 'max_depth': [10, 12, 14, 16, 18, 20, 22, 24, 26, 28, 30], 'min_samples_split': [65, 67, 70, 73, 76, 78, 81, 84, 87, 90], 'min_samples_leaf': [70, 72, 74, 76, 78, 80, 82, 84, 86, 88, 90], 'bootstrap': [False]}\n"
     ]
    }
   ],
   "source": [
    "# # Search optimal hyperparameter\n",
    "# n_estimators_range=[92]\n",
    "# max_features_range=[7]\n",
    "# max_depth_range=[22]\n",
    "# # max_depth_range.append(None)\n",
    "# min_samples_split_range=[int(x) for x in np.linspace(start=70,stop=90,num=11)]\n",
    "# min_samples_leaf_range=[78]\n",
    "# bootstrap_range=[False]\n",
    "\n",
    "random_forest_hp_range_2={'n_estimators':n_estimators_range,\n",
    "                        'max_features':max_features_range,\n",
    "                        'max_depth':max_depth_range,\n",
    "                        'min_samples_split':min_samples_split_range,\n",
    "                        'min_samples_leaf':min_samples_leaf_range,\n",
    "                        'bootstrap':bootstrap_range\n",
    "                        }\n",
    "print(random_forest_hp_range_2)"
   ]
  },
  {
   "cell_type": "code",
   "execution_count": 743,
   "id": "43eaef6b",
   "metadata": {
    "collapsed": true
   },
   "outputs": [
    {
     "name": "stdout",
     "output_type": "stream",
     "text": [
      "Fitting 3 folds for each of 39930 candidates, totalling 119790 fits\n"
     ]
    },
    {
     "ename": "KeyboardInterrupt",
     "evalue": "",
     "output_type": "error",
     "traceback": [
      "\u001b[0;31m---------------------------------------------------------------------------\u001b[0m",
      "\u001b[0;31mKeyboardInterrupt\u001b[0m                         Traceback (most recent call last)",
      "\u001b[0;32m/var/folders/f7/jn5r2ytj4t3bdgv4dbms_pbw0000gn/T/ipykernel_15256/4230529259.py\u001b[0m in \u001b[0;36m<module>\u001b[0;34m\u001b[0m\n\u001b[1;32m     13\u001b[0m                                                \u001b[0mverbose\u001b[0m\u001b[0;34m=\u001b[0m\u001b[0;36m1\u001b[0m\u001b[0;34m,\u001b[0m\u001b[0;34m\u001b[0m\u001b[0;34m\u001b[0m\u001b[0m\n\u001b[1;32m     14\u001b[0m                                                n_jobs=-1)\n\u001b[0;32m---> 15\u001b[0;31m \u001b[0mrandom_forest_model_test_2_random\u001b[0m\u001b[0;34m.\u001b[0m\u001b[0mfit\u001b[0m\u001b[0;34m(\u001b[0m\u001b[0mxtrain\u001b[0m\u001b[0;34m,\u001b[0m\u001b[0mytrain\u001b[0m\u001b[0;34m)\u001b[0m\u001b[0;34m\u001b[0m\u001b[0;34m\u001b[0m\u001b[0m\n\u001b[0m\u001b[1;32m     16\u001b[0m \u001b[0;34m\u001b[0m\u001b[0m\n\u001b[1;32m     17\u001b[0m \u001b[0mbest_hp_now_2\u001b[0m\u001b[0;34m=\u001b[0m\u001b[0mrandom_forest_model_test_2_random\u001b[0m\u001b[0;34m.\u001b[0m\u001b[0mbest_params_\u001b[0m\u001b[0;34m\u001b[0m\u001b[0;34m\u001b[0m\u001b[0m\n",
      "\u001b[0;32m~/miniconda3/envs/thesis/lib/python3.8/site-packages/sklearn/model_selection/_search.py\u001b[0m in \u001b[0;36mfit\u001b[0;34m(self, X, y, groups, **fit_params)\u001b[0m\n\u001b[1;32m    889\u001b[0m                 \u001b[0;32mreturn\u001b[0m \u001b[0mresults\u001b[0m\u001b[0;34m\u001b[0m\u001b[0;34m\u001b[0m\u001b[0m\n\u001b[1;32m    890\u001b[0m \u001b[0;34m\u001b[0m\u001b[0m\n\u001b[0;32m--> 891\u001b[0;31m             \u001b[0mself\u001b[0m\u001b[0;34m.\u001b[0m\u001b[0m_run_search\u001b[0m\u001b[0;34m(\u001b[0m\u001b[0mevaluate_candidates\u001b[0m\u001b[0;34m)\u001b[0m\u001b[0;34m\u001b[0m\u001b[0;34m\u001b[0m\u001b[0m\n\u001b[0m\u001b[1;32m    892\u001b[0m \u001b[0;34m\u001b[0m\u001b[0m\n\u001b[1;32m    893\u001b[0m             \u001b[0;31m# multimetric is determined here because in the case of a callable\u001b[0m\u001b[0;34m\u001b[0m\u001b[0;34m\u001b[0m\u001b[0;34m\u001b[0m\u001b[0m\n",
      "\u001b[0;32m~/miniconda3/envs/thesis/lib/python3.8/site-packages/sklearn/model_selection/_search.py\u001b[0m in \u001b[0;36m_run_search\u001b[0;34m(self, evaluate_candidates)\u001b[0m\n\u001b[1;32m   1390\u001b[0m     \u001b[0;32mdef\u001b[0m \u001b[0m_run_search\u001b[0m\u001b[0;34m(\u001b[0m\u001b[0mself\u001b[0m\u001b[0;34m,\u001b[0m \u001b[0mevaluate_candidates\u001b[0m\u001b[0;34m)\u001b[0m\u001b[0;34m:\u001b[0m\u001b[0;34m\u001b[0m\u001b[0;34m\u001b[0m\u001b[0m\n\u001b[1;32m   1391\u001b[0m         \u001b[0;34m\"\"\"Search all candidates in param_grid\"\"\"\u001b[0m\u001b[0;34m\u001b[0m\u001b[0;34m\u001b[0m\u001b[0m\n\u001b[0;32m-> 1392\u001b[0;31m         \u001b[0mevaluate_candidates\u001b[0m\u001b[0;34m(\u001b[0m\u001b[0mParameterGrid\u001b[0m\u001b[0;34m(\u001b[0m\u001b[0mself\u001b[0m\u001b[0;34m.\u001b[0m\u001b[0mparam_grid\u001b[0m\u001b[0;34m)\u001b[0m\u001b[0;34m)\u001b[0m\u001b[0;34m\u001b[0m\u001b[0;34m\u001b[0m\u001b[0m\n\u001b[0m\u001b[1;32m   1393\u001b[0m \u001b[0;34m\u001b[0m\u001b[0m\n\u001b[1;32m   1394\u001b[0m \u001b[0;34m\u001b[0m\u001b[0m\n",
      "\u001b[0;32m~/miniconda3/envs/thesis/lib/python3.8/site-packages/sklearn/model_selection/_search.py\u001b[0m in \u001b[0;36mevaluate_candidates\u001b[0;34m(candidate_params, cv, more_results)\u001b[0m\n\u001b[1;32m    836\u001b[0m                     )\n\u001b[1;32m    837\u001b[0m \u001b[0;34m\u001b[0m\u001b[0m\n\u001b[0;32m--> 838\u001b[0;31m                 out = parallel(\n\u001b[0m\u001b[1;32m    839\u001b[0m                     delayed(_fit_and_score)(\n\u001b[1;32m    840\u001b[0m                         \u001b[0mclone\u001b[0m\u001b[0;34m(\u001b[0m\u001b[0mbase_estimator\u001b[0m\u001b[0;34m)\u001b[0m\u001b[0;34m,\u001b[0m\u001b[0;34m\u001b[0m\u001b[0;34m\u001b[0m\u001b[0m\n",
      "\u001b[0;32m~/miniconda3/envs/thesis/lib/python3.8/site-packages/joblib/parallel.py\u001b[0m in \u001b[0;36m__call__\u001b[0;34m(self, iterable)\u001b[0m\n\u001b[1;32m   1054\u001b[0m \u001b[0;34m\u001b[0m\u001b[0m\n\u001b[1;32m   1055\u001b[0m             \u001b[0;32mwith\u001b[0m \u001b[0mself\u001b[0m\u001b[0;34m.\u001b[0m\u001b[0m_backend\u001b[0m\u001b[0;34m.\u001b[0m\u001b[0mretrieval_context\u001b[0m\u001b[0;34m(\u001b[0m\u001b[0;34m)\u001b[0m\u001b[0;34m:\u001b[0m\u001b[0;34m\u001b[0m\u001b[0;34m\u001b[0m\u001b[0m\n\u001b[0;32m-> 1056\u001b[0;31m                 \u001b[0mself\u001b[0m\u001b[0;34m.\u001b[0m\u001b[0mretrieve\u001b[0m\u001b[0;34m(\u001b[0m\u001b[0;34m)\u001b[0m\u001b[0;34m\u001b[0m\u001b[0;34m\u001b[0m\u001b[0m\n\u001b[0m\u001b[1;32m   1057\u001b[0m             \u001b[0;31m# Make sure that we get a last message telling us we are done\u001b[0m\u001b[0;34m\u001b[0m\u001b[0;34m\u001b[0m\u001b[0;34m\u001b[0m\u001b[0m\n\u001b[1;32m   1058\u001b[0m             \u001b[0melapsed_time\u001b[0m \u001b[0;34m=\u001b[0m \u001b[0mtime\u001b[0m\u001b[0;34m.\u001b[0m\u001b[0mtime\u001b[0m\u001b[0;34m(\u001b[0m\u001b[0;34m)\u001b[0m \u001b[0;34m-\u001b[0m \u001b[0mself\u001b[0m\u001b[0;34m.\u001b[0m\u001b[0m_start_time\u001b[0m\u001b[0;34m\u001b[0m\u001b[0;34m\u001b[0m\u001b[0m\n",
      "\u001b[0;32m~/miniconda3/envs/thesis/lib/python3.8/site-packages/joblib/parallel.py\u001b[0m in \u001b[0;36mretrieve\u001b[0;34m(self)\u001b[0m\n\u001b[1;32m    933\u001b[0m             \u001b[0;32mtry\u001b[0m\u001b[0;34m:\u001b[0m\u001b[0;34m\u001b[0m\u001b[0;34m\u001b[0m\u001b[0m\n\u001b[1;32m    934\u001b[0m                 \u001b[0;32mif\u001b[0m \u001b[0mgetattr\u001b[0m\u001b[0;34m(\u001b[0m\u001b[0mself\u001b[0m\u001b[0;34m.\u001b[0m\u001b[0m_backend\u001b[0m\u001b[0;34m,\u001b[0m \u001b[0;34m'supports_timeout'\u001b[0m\u001b[0;34m,\u001b[0m \u001b[0;32mFalse\u001b[0m\u001b[0;34m)\u001b[0m\u001b[0;34m:\u001b[0m\u001b[0;34m\u001b[0m\u001b[0;34m\u001b[0m\u001b[0m\n\u001b[0;32m--> 935\u001b[0;31m                     \u001b[0mself\u001b[0m\u001b[0;34m.\u001b[0m\u001b[0m_output\u001b[0m\u001b[0;34m.\u001b[0m\u001b[0mextend\u001b[0m\u001b[0;34m(\u001b[0m\u001b[0mjob\u001b[0m\u001b[0;34m.\u001b[0m\u001b[0mget\u001b[0m\u001b[0;34m(\u001b[0m\u001b[0mtimeout\u001b[0m\u001b[0;34m=\u001b[0m\u001b[0mself\u001b[0m\u001b[0;34m.\u001b[0m\u001b[0mtimeout\u001b[0m\u001b[0;34m)\u001b[0m\u001b[0;34m)\u001b[0m\u001b[0;34m\u001b[0m\u001b[0;34m\u001b[0m\u001b[0m\n\u001b[0m\u001b[1;32m    936\u001b[0m                 \u001b[0;32melse\u001b[0m\u001b[0;34m:\u001b[0m\u001b[0;34m\u001b[0m\u001b[0;34m\u001b[0m\u001b[0m\n\u001b[1;32m    937\u001b[0m                     \u001b[0mself\u001b[0m\u001b[0;34m.\u001b[0m\u001b[0m_output\u001b[0m\u001b[0;34m.\u001b[0m\u001b[0mextend\u001b[0m\u001b[0;34m(\u001b[0m\u001b[0mjob\u001b[0m\u001b[0;34m.\u001b[0m\u001b[0mget\u001b[0m\u001b[0;34m(\u001b[0m\u001b[0;34m)\u001b[0m\u001b[0;34m)\u001b[0m\u001b[0;34m\u001b[0m\u001b[0;34m\u001b[0m\u001b[0m\n",
      "\u001b[0;32m~/miniconda3/envs/thesis/lib/python3.8/site-packages/joblib/_parallel_backends.py\u001b[0m in \u001b[0;36mwrap_future_result\u001b[0;34m(future, timeout)\u001b[0m\n\u001b[1;32m    540\u001b[0m         AsyncResults.get from multiprocessing.\"\"\"\n\u001b[1;32m    541\u001b[0m         \u001b[0;32mtry\u001b[0m\u001b[0;34m:\u001b[0m\u001b[0;34m\u001b[0m\u001b[0;34m\u001b[0m\u001b[0m\n\u001b[0;32m--> 542\u001b[0;31m             \u001b[0;32mreturn\u001b[0m \u001b[0mfuture\u001b[0m\u001b[0;34m.\u001b[0m\u001b[0mresult\u001b[0m\u001b[0;34m(\u001b[0m\u001b[0mtimeout\u001b[0m\u001b[0;34m=\u001b[0m\u001b[0mtimeout\u001b[0m\u001b[0;34m)\u001b[0m\u001b[0;34m\u001b[0m\u001b[0;34m\u001b[0m\u001b[0m\n\u001b[0m\u001b[1;32m    543\u001b[0m         \u001b[0;32mexcept\u001b[0m \u001b[0mCfTimeoutError\u001b[0m \u001b[0;32mas\u001b[0m \u001b[0me\u001b[0m\u001b[0;34m:\u001b[0m\u001b[0;34m\u001b[0m\u001b[0;34m\u001b[0m\u001b[0m\n\u001b[1;32m    544\u001b[0m             \u001b[0;32mraise\u001b[0m \u001b[0mTimeoutError\u001b[0m \u001b[0;32mfrom\u001b[0m \u001b[0me\u001b[0m\u001b[0;34m\u001b[0m\u001b[0;34m\u001b[0m\u001b[0m\n",
      "\u001b[0;32m~/miniconda3/envs/thesis/lib/python3.8/concurrent/futures/_base.py\u001b[0m in \u001b[0;36mresult\u001b[0;34m(self, timeout)\u001b[0m\n\u001b[1;32m    437\u001b[0m                     \u001b[0;32mreturn\u001b[0m \u001b[0mself\u001b[0m\u001b[0;34m.\u001b[0m\u001b[0m__get_result\u001b[0m\u001b[0;34m(\u001b[0m\u001b[0;34m)\u001b[0m\u001b[0;34m\u001b[0m\u001b[0;34m\u001b[0m\u001b[0m\n\u001b[1;32m    438\u001b[0m \u001b[0;34m\u001b[0m\u001b[0m\n\u001b[0;32m--> 439\u001b[0;31m                 \u001b[0mself\u001b[0m\u001b[0;34m.\u001b[0m\u001b[0m_condition\u001b[0m\u001b[0;34m.\u001b[0m\u001b[0mwait\u001b[0m\u001b[0;34m(\u001b[0m\u001b[0mtimeout\u001b[0m\u001b[0;34m)\u001b[0m\u001b[0;34m\u001b[0m\u001b[0;34m\u001b[0m\u001b[0m\n\u001b[0m\u001b[1;32m    440\u001b[0m \u001b[0;34m\u001b[0m\u001b[0m\n\u001b[1;32m    441\u001b[0m                 \u001b[0;32mif\u001b[0m \u001b[0mself\u001b[0m\u001b[0;34m.\u001b[0m\u001b[0m_state\u001b[0m \u001b[0;32min\u001b[0m \u001b[0;34m[\u001b[0m\u001b[0mCANCELLED\u001b[0m\u001b[0;34m,\u001b[0m \u001b[0mCANCELLED_AND_NOTIFIED\u001b[0m\u001b[0;34m]\u001b[0m\u001b[0;34m:\u001b[0m\u001b[0;34m\u001b[0m\u001b[0;34m\u001b[0m\u001b[0m\n",
      "\u001b[0;32m~/miniconda3/envs/thesis/lib/python3.8/threading.py\u001b[0m in \u001b[0;36mwait\u001b[0;34m(self, timeout)\u001b[0m\n\u001b[1;32m    300\u001b[0m         \u001b[0;32mtry\u001b[0m\u001b[0;34m:\u001b[0m    \u001b[0;31m# restore state no matter what (e.g., KeyboardInterrupt)\u001b[0m\u001b[0;34m\u001b[0m\u001b[0;34m\u001b[0m\u001b[0m\n\u001b[1;32m    301\u001b[0m             \u001b[0;32mif\u001b[0m \u001b[0mtimeout\u001b[0m \u001b[0;32mis\u001b[0m \u001b[0;32mNone\u001b[0m\u001b[0;34m:\u001b[0m\u001b[0;34m\u001b[0m\u001b[0;34m\u001b[0m\u001b[0m\n\u001b[0;32m--> 302\u001b[0;31m                 \u001b[0mwaiter\u001b[0m\u001b[0;34m.\u001b[0m\u001b[0macquire\u001b[0m\u001b[0;34m(\u001b[0m\u001b[0;34m)\u001b[0m\u001b[0;34m\u001b[0m\u001b[0;34m\u001b[0m\u001b[0m\n\u001b[0m\u001b[1;32m    303\u001b[0m                 \u001b[0mgotit\u001b[0m \u001b[0;34m=\u001b[0m \u001b[0;32mTrue\u001b[0m\u001b[0;34m\u001b[0m\u001b[0;34m\u001b[0m\u001b[0m\n\u001b[1;32m    304\u001b[0m             \u001b[0;32melse\u001b[0m\u001b[0;34m:\u001b[0m\u001b[0;34m\u001b[0m\u001b[0;34m\u001b[0m\u001b[0m\n",
      "\u001b[0;31mKeyboardInterrupt\u001b[0m: "
     ]
    }
   ],
   "source": [
    "# Grid Search\n",
    "# random_forest_hp_range_2={'n_estimators':[150,150,170],\n",
    "#                           'max_features':['auto'],\n",
    "#                           'max_depth':[25],\n",
    "#                           'min_samples_split':[35,40,45], # Greater than 1\n",
    "#                           'min_samples_leaf':[3,5,8]\n",
    "#                           # 'bootstrap':bootstrap_range\n",
    "#                           }\n",
    "random_forest_model_test_2_base=RandomForestRegressor()\n",
    "random_forest_model_test_2_random=GridSearchCV(estimator=random_forest_model_test_2_base,\n",
    "                                               param_grid=random_forest_hp_range_2,\n",
    "                                               cv=3,\n",
    "                                               verbose=1,\n",
    "                                               n_jobs=-1)\n",
    "random_forest_model_test_2_random.fit(xtrain,ytrain)\n",
    "\n",
    "best_hp_now_2=random_forest_model_test_2_random.best_params_\n",
    "print(best_hp_now_2)"
   ]
  },
  {
   "cell_type": "markdown",
   "id": "41bb2d02",
   "metadata": {},
   "source": [
    "#### Build model"
   ]
  },
  {
   "cell_type": "code",
   "execution_count": 1019,
   "id": "cffa8747",
   "metadata": {
    "collapsed": true
   },
   "outputs": [
    {
     "data": {
      "text/html": [
       "<div>\n",
       "<style scoped>\n",
       "    .dataframe tbody tr th:only-of-type {\n",
       "        vertical-align: middle;\n",
       "    }\n",
       "\n",
       "    .dataframe tbody tr th {\n",
       "        vertical-align: top;\n",
       "    }\n",
       "\n",
       "    .dataframe thead th {\n",
       "        text-align: right;\n",
       "    }\n",
       "</style>\n",
       "<table border=\"1\" class=\"dataframe\">\n",
       "  <thead>\n",
       "    <tr style=\"text-align: right;\">\n",
       "      <th></th>\n",
       "      <th>perimeter</th>\n",
       "      <th>area</th>\n",
       "      <th>vertices</th>\n",
       "      <th>compactness</th>\n",
       "      <th>complexity</th>\n",
       "      <th>length</th>\n",
       "      <th>width</th>\n",
       "      <th>slimness</th>\n",
       "      <th>neighbour</th>\n",
       "      <th>construction_year</th>\n",
       "    </tr>\n",
       "  </thead>\n",
       "  <tbody>\n",
       "    <tr>\n",
       "      <th>0</th>\n",
       "      <td>416.428779</td>\n",
       "      <td>6592.779885</td>\n",
       "      <td>23</td>\n",
       "      <td>0.691192</td>\n",
       "      <td>46.214003</td>\n",
       "      <td>102.603770</td>\n",
       "      <td>100.232475</td>\n",
       "      <td>1.023658</td>\n",
       "      <td>1</td>\n",
       "      <td>1980</td>\n",
       "    </tr>\n",
       "    <tr>\n",
       "      <th>1</th>\n",
       "      <td>25.102037</td>\n",
       "      <td>35.465523</td>\n",
       "      <td>4</td>\n",
       "      <td>0.841006</td>\n",
       "      <td>10.286257</td>\n",
       "      <td>8.253281</td>\n",
       "      <td>4.300733</td>\n",
       "      <td>1.919040</td>\n",
       "      <td>7</td>\n",
       "      <td>1965</td>\n",
       "    </tr>\n",
       "    <tr>\n",
       "      <th>2</th>\n",
       "      <td>24.924155</td>\n",
       "      <td>34.741311</td>\n",
       "      <td>4</td>\n",
       "      <td>0.838316</td>\n",
       "      <td>10.266181</td>\n",
       "      <td>8.253314</td>\n",
       "      <td>4.249036</td>\n",
       "      <td>1.942397</td>\n",
       "      <td>8</td>\n",
       "      <td>1965</td>\n",
       "    </tr>\n",
       "    <tr>\n",
       "      <th>3</th>\n",
       "      <td>25.276817</td>\n",
       "      <td>36.157559</td>\n",
       "      <td>4</td>\n",
       "      <td>0.843300</td>\n",
       "      <td>10.307957</td>\n",
       "      <td>8.253614</td>\n",
       "      <td>4.417923</td>\n",
       "      <td>1.868211</td>\n",
       "      <td>8</td>\n",
       "      <td>1965</td>\n",
       "    </tr>\n",
       "    <tr>\n",
       "      <th>4</th>\n",
       "      <td>25.108081</td>\n",
       "      <td>35.491882</td>\n",
       "      <td>4</td>\n",
       "      <td>0.841116</td>\n",
       "      <td>10.286823</td>\n",
       "      <td>8.255285</td>\n",
       "      <td>4.300042</td>\n",
       "      <td>1.919815</td>\n",
       "      <td>9</td>\n",
       "      <td>1965</td>\n",
       "    </tr>\n",
       "    <tr>\n",
       "      <th>...</th>\n",
       "      <td>...</td>\n",
       "      <td>...</td>\n",
       "      <td>...</td>\n",
       "      <td>...</td>\n",
       "      <td>...</td>\n",
       "      <td>...</td>\n",
       "      <td>...</td>\n",
       "      <td>...</td>\n",
       "      <td>...</td>\n",
       "      <td>...</td>\n",
       "    </tr>\n",
       "    <tr>\n",
       "      <th>68</th>\n",
       "      <td>120.406290</td>\n",
       "      <td>842.878881</td>\n",
       "      <td>9</td>\n",
       "      <td>0.854748</td>\n",
       "      <td>22.346416</td>\n",
       "      <td>30.118188</td>\n",
       "      <td>30.043193</td>\n",
       "      <td>1.002496</td>\n",
       "      <td>5</td>\n",
       "      <td>2007</td>\n",
       "    </tr>\n",
       "    <tr>\n",
       "      <th>69</th>\n",
       "      <td>17.957165</td>\n",
       "      <td>18.082515</td>\n",
       "      <td>4</td>\n",
       "      <td>0.839453</td>\n",
       "      <td>8.708093</td>\n",
       "      <td>5.931086</td>\n",
       "      <td>3.049197</td>\n",
       "      <td>1.945130</td>\n",
       "      <td>14</td>\n",
       "      <td>1967</td>\n",
       "    </tr>\n",
       "    <tr>\n",
       "      <th>70</th>\n",
       "      <td>18.191210</td>\n",
       "      <td>18.795591</td>\n",
       "      <td>5</td>\n",
       "      <td>0.844834</td>\n",
       "      <td>8.736703</td>\n",
       "      <td>5.921485</td>\n",
       "      <td>3.174825</td>\n",
       "      <td>1.865137</td>\n",
       "      <td>7</td>\n",
       "      <td>1968</td>\n",
       "    </tr>\n",
       "    <tr>\n",
       "      <th>71</th>\n",
       "      <td>191.606203</td>\n",
       "      <td>1364.665578</td>\n",
       "      <td>5</td>\n",
       "      <td>0.683453</td>\n",
       "      <td>31.524848</td>\n",
       "      <td>78.884657</td>\n",
       "      <td>18.031082</td>\n",
       "      <td>4.374926</td>\n",
       "      <td>2</td>\n",
       "      <td>1980</td>\n",
       "    </tr>\n",
       "    <tr>\n",
       "      <th>72</th>\n",
       "      <td>149.756631</td>\n",
       "      <td>1357.504121</td>\n",
       "      <td>4</td>\n",
       "      <td>0.872147</td>\n",
       "      <td>24.671796</td>\n",
       "      <td>44.086741</td>\n",
       "      <td>30.791992</td>\n",
       "      <td>1.431760</td>\n",
       "      <td>1</td>\n",
       "      <td>2011</td>\n",
       "    </tr>\n",
       "  </tbody>\n",
       "</table>\n",
       "<p>2236 rows × 10 columns</p>\n",
       "</div>"
      ],
      "text/plain": [
       "     perimeter         area  vertices  compactness  complexity      length  \\\n",
       "0   416.428779  6592.779885        23     0.691192   46.214003  102.603770   \n",
       "1    25.102037    35.465523         4     0.841006   10.286257    8.253281   \n",
       "2    24.924155    34.741311         4     0.838316   10.266181    8.253314   \n",
       "3    25.276817    36.157559         4     0.843300   10.307957    8.253614   \n",
       "4    25.108081    35.491882         4     0.841116   10.286823    8.255285   \n",
       "..         ...          ...       ...          ...         ...         ...   \n",
       "68  120.406290   842.878881         9     0.854748   22.346416   30.118188   \n",
       "69   17.957165    18.082515         4     0.839453    8.708093    5.931086   \n",
       "70   18.191210    18.795591         5     0.844834    8.736703    5.921485   \n",
       "71  191.606203  1364.665578         5     0.683453   31.524848   78.884657   \n",
       "72  149.756631  1357.504121         4     0.872147   24.671796   44.086741   \n",
       "\n",
       "         width  slimness  neighbour  construction_year  \n",
       "0   100.232475  1.023658          1               1980  \n",
       "1     4.300733  1.919040          7               1965  \n",
       "2     4.249036  1.942397          8               1965  \n",
       "3     4.417923  1.868211          8               1965  \n",
       "4     4.300042  1.919815          9               1965  \n",
       "..         ...       ...        ...                ...  \n",
       "68   30.043193  1.002496          5               2007  \n",
       "69    3.049197  1.945130         14               1967  \n",
       "70    3.174825  1.865137          7               1968  \n",
       "71   18.031082  4.374926          2               1980  \n",
       "72   30.791992  1.431760          1               2011  \n",
       "\n",
       "[2236 rows x 10 columns]"
      ]
     },
     "execution_count": 1019,
     "metadata": {},
     "output_type": "execute_result"
    }
   ],
   "source": [
    "features_filter"
   ]
  },
  {
   "cell_type": "code",
   "execution_count": 1068,
   "id": "745bd29e",
   "metadata": {},
   "outputs": [],
   "source": [
    "seed=3\n",
    "xtrain, xtest, ytrain, ytest = train_test_split(features_filter.values, Y, test_size=0.2, random_state=seed)"
   ]
  },
  {
   "cell_type": "code",
   "execution_count": 1069,
   "id": "a66c7b63",
   "metadata": {},
   "outputs": [
    {
     "data": {
      "text/plain": [
       "0.16491274140647916"
      ]
     },
     "execution_count": 1069,
     "metadata": {},
     "output_type": "execute_result"
    }
   ],
   "source": [
    "rfc_filter = RandomForestRegressor(n_estimators=140, max_depth=100, random_state=3,n_jobs=-1, \n",
    "                                min_samples_split=2, min_samples_leaf=20, max_features=3,bootstrap=True)\n",
    "rfc_filter = rfc_filter.fit(xtrain,ytrain)       #用训练集数据训练模型 \n",
    "\n",
    "result = rfc_filter.score(xtest,ytest)    #导入测试集，rfc的接口score计算的是模型准确率accuracy\n",
    "result"
   ]
  },
  {
   "cell_type": "code",
   "execution_count": 1070,
   "id": "76e6e8ed",
   "metadata": {},
   "outputs": [
    {
     "name": "stdout",
     "output_type": "stream",
     "text": [
      "Mean Absolute Error(MAE): 2.15613207842645\n",
      "Median_Absolute_Error(MedAE): 1.619804966239088\n",
      "Mean Squared Error(MSE): 11.537713309693958\n",
      "Root Mean Squared Error(RMSE): 3.3967209643557648\n",
      "r2_score Error(R2): 0.16491274140647916\n",
      "mean_absolute_percentage_error(MAPE): 0.36901972520958065\n",
      "max_error: 26.96346184149875\n",
      "mape%: 36.90197252095807\n",
      "smape%: 30.695501569204225\n"
     ]
    }
   ],
   "source": [
    "y_pred = rfc_filter.predict(xtest)\n",
    "\n",
    "# 评估回归性能\n",
    "print('Mean Absolute Error(MAE):', metrics.mean_absolute_error(ytest, y_pred))\n",
    "print(\"Median_Absolute_Error(MedAE):\", metrics.median_absolute_error(y_pred, ytest))\n",
    "print('Mean Squared Error(MSE):', metrics.mean_squared_error(ytest, y_pred))\n",
    "print('Root Mean Squared Error(RMSE):',np.sqrt(metrics.mean_squared_error(ytest, y_pred)))\n",
    "print('r2_score Error(R2):', metrics.r2_score(ytest,y_pred)) # 0-1\n",
    "print(\"mean_absolute_percentage_error(MAPE):\", mean_absolute_percentage_error(ytest,y_pred))\n",
    "print(\"max_error:\", metrics.max_error(ytest, y_pred))\n",
    "print(\"mape%:\", mape(ytest, y_pred))\n",
    "print(\"smape%:\", smape(ytest, y_pred))"
   ]
  },
  {
   "cell_type": "code",
   "execution_count": 1055,
   "id": "52b36de7",
   "metadata": {},
   "outputs": [
    {
     "data": {
      "image/png": "[encoded data removed]",
      "text/plain": [
       "<Figure size 288x288 with 1 Axes>"
      ]
     },
     "metadata": {
      "needs_background": "light"
     },
     "output_type": "display_data"
    }
   ],
   "source": [
    "plt.figure(figsize=(4,4))\n",
    "sns.kdeplot(ytest, label='true value')\n",
    "sns.kdeplot(y_pred, label='predict value')\n",
    "plt.xlabel('Elevation (m)')\n",
    "\n",
    "plt.xlim([-10,70])\n",
    "plt.ylim([-0.01,0.4])\n",
    "plt.xticks([0,3,5,10,15,20,30,40,50,60,70])\n",
    "\n",
    "plt.title('Filter model R^2: %.4f'%metrics.r2_score(ytest,y_pred))\n",
    "plt.legend() \n",
    "plt.savefig('for_report/'+ 'f_tp2', dpi=500,bbox_inches='tight') # ,dpi=600"
   ]
  },
  {
   "cell_type": "code",
   "execution_count": 975,
   "id": "acf16ba6",
   "metadata": {},
   "outputs": [
    {
     "name": "stdout",
     "output_type": "stream",
     "text": [
      "各feature的重要性：[0.1027 0.1241 0.0592 0.0899 0.1037 0.1444 0.0640 0.0706 0.0655 0.1759]\n"
     ]
    },
    {
     "data": {
      "image/png": "[encoded data removed]",
      "text/plain": [
       "<Figure size 288x288 with 1 Axes>"
      ]
     },
     "metadata": {
      "needs_background": "light"
     },
     "output_type": "display_data"
    }
   ],
   "source": [
    "print ('各feature的重要性：%s' % rfc_filter.feature_importances_)\n",
    "# 得到特征重要度分数\n",
    "importances_values = rfc_filter.feature_importances_\n",
    "importances = pd.DataFrame(importances_values, columns=[\"importance\"])\n",
    "feature_data = pd.DataFrame(features_filter.columns, columns=[\"feature\"])\n",
    "importance = pd.concat([feature_data, importances], axis=1)\n",
    "# 倒叙排序\n",
    "importance = importance.sort_values([\"importance\"], ascending=True)\n",
    "# importance[\"importance\"] = (importance[\"importance\"] * 1000).astype(int)\n",
    "importance = importance.sort_values([\"importance\"])\n",
    "importance.set_index('feature', inplace=True)\n",
    "importance.plot.barh(color='b', alpha=0.7, rot=0,figsize=(4, 4)) #figsize=(8, 8)\n",
    "plt.xlim([0, 0.3])\n",
    "plt.xlabel('Importance')\n",
    "plt.title('Filter model R^2: %.4f'%metrics.r2_score(ytest,y_pred))\n",
    "\n",
    "# plt.ylabel('Variable');\n",
    "plt.savefig('for_report/'+ 'filter2_import', dpi=500, bbox_inches='tight')\n",
    "plt.show()"
   ]
  },
  {
   "cell_type": "code",
   "execution_count": null,
   "id": "f4ca9112",
   "metadata": {},
   "outputs": [],
   "source": []
  },
  {
   "cell_type": "code",
   "execution_count": null,
   "id": "e63dbf51",
   "metadata": {},
   "outputs": [],
   "source": []
  },
  {
   "cell_type": "code",
   "execution_count": null,
   "id": "150ef97f",
   "metadata": {},
   "outputs": [],
   "source": []
  },
  {
   "cell_type": "code",
   "execution_count": null,
   "id": "09885176",
   "metadata": {},
   "outputs": [],
   "source": []
  },
  {
   "cell_type": "code",
   "execution_count": null,
   "id": "87d552f8",
   "metadata": {},
   "outputs": [],
   "source": []
  },
  {
   "cell_type": "code",
   "execution_count": null,
   "id": "2d364011",
   "metadata": {},
   "outputs": [],
   "source": []
  },
  {
   "cell_type": "markdown",
   "id": "05ebf07a",
   "metadata": {},
   "source": [
    "*embed and wrapper have less features, thus 'max_features' choose 'sqrt' 'auto'*"
   ]
  },
  {
   "cell_type": "code",
   "execution_count": 780,
   "id": "5b7c2eea",
   "metadata": {},
   "outputs": [
    {
     "name": "stdout",
     "output_type": "stream",
     "text": [
      "{'n_estimators': [1, 20, 40, 60, 80, 100, 120, 140, 160, 180, 200], 'max_features': [1, 2, 3, 4], 'max_depth': [1, 20, 40, 60, 80, 100, 120, 140, 160, 180, 200, None], 'min_samples_split': [2, 21, 41, 61, 81, 101, 120, 140, 160, 180, 200], 'min_samples_leaf': [1, 20, 40, 60, 80, 100, 120, 140, 160, 180, 200], 'bootstrap': [True, False]}\n"
     ]
    }
   ],
   "source": [
    "# Search optimal hyperparameter\n",
    "n_estimators_range=[int(x) for x in np.linspace(start=1,stop=200,num=11)]\n",
    "# max_features_range=['auto','sqrt']\n",
    "max_features_range=[int(x) for x in np.linspace(start=1,stop=4,num=4)]\n",
    "max_depth_range=[int(x) for x in np.linspace(start=1,stop=200,num=11)]\n",
    "max_depth_range.append(None)\n",
    "min_samples_split_range=[int(x) for x in np.linspace(start=2,stop=200,num=11)]\n",
    "min_samples_leaf_range=[int(x) for x in np.linspace(start=1,stop=200,num=11)]\n",
    "bootstrap_range=[True,False]\n",
    "\n",
    "random_forest_hp_range={'n_estimators':n_estimators_range,\n",
    "                        'max_features':max_features_range,\n",
    "                        'max_depth':max_depth_range,\n",
    "                        'min_samples_split':min_samples_split_range,\n",
    "                        'min_samples_leaf':min_samples_leaf_range,\n",
    "                        'bootstrap':bootstrap_range\n",
    "                        }\n",
    "print(random_forest_hp_range)"
   ]
  },
  {
   "cell_type": "code",
   "execution_count": null,
   "id": "fdefe5b9",
   "metadata": {},
   "outputs": [],
   "source": []
  },
  {
   "cell_type": "markdown",
   "id": "3ac6dee9",
   "metadata": {},
   "source": [
    "# Embed"
   ]
  },
  {
   "cell_type": "code",
   "execution_count": 902,
   "id": "9f0ff4ba",
   "metadata": {},
   "outputs": [
    {
     "data": {
      "text/html": [
       "<div>\n",
       "<style scoped>\n",
       "    .dataframe tbody tr th:only-of-type {\n",
       "        vertical-align: middle;\n",
       "    }\n",
       "\n",
       "    .dataframe tbody tr th {\n",
       "        vertical-align: top;\n",
       "    }\n",
       "\n",
       "    .dataframe thead th {\n",
       "        text-align: right;\n",
       "    }\n",
       "</style>\n",
       "<table border=\"1\" class=\"dataframe\">\n",
       "  <thead>\n",
       "    <tr style=\"text-align: right;\">\n",
       "      <th></th>\n",
       "      <th>compactness</th>\n",
       "      <th>length</th>\n",
       "      <th>slimness</th>\n",
       "      <th>construction_year</th>\n",
       "    </tr>\n",
       "  </thead>\n",
       "  <tbody>\n",
       "    <tr>\n",
       "      <th>0</th>\n",
       "      <td>0.691192</td>\n",
       "      <td>102.603770</td>\n",
       "      <td>1.023658</td>\n",
       "      <td>1980</td>\n",
       "    </tr>\n",
       "    <tr>\n",
       "      <th>1</th>\n",
       "      <td>0.841006</td>\n",
       "      <td>8.253281</td>\n",
       "      <td>1.919040</td>\n",
       "      <td>1965</td>\n",
       "    </tr>\n",
       "    <tr>\n",
       "      <th>2</th>\n",
       "      <td>0.838316</td>\n",
       "      <td>8.253314</td>\n",
       "      <td>1.942397</td>\n",
       "      <td>1965</td>\n",
       "    </tr>\n",
       "    <tr>\n",
       "      <th>3</th>\n",
       "      <td>0.843300</td>\n",
       "      <td>8.253614</td>\n",
       "      <td>1.868211</td>\n",
       "      <td>1965</td>\n",
       "    </tr>\n",
       "    <tr>\n",
       "      <th>4</th>\n",
       "      <td>0.841116</td>\n",
       "      <td>8.255285</td>\n",
       "      <td>1.919815</td>\n",
       "      <td>1965</td>\n",
       "    </tr>\n",
       "    <tr>\n",
       "      <th>...</th>\n",
       "      <td>...</td>\n",
       "      <td>...</td>\n",
       "      <td>...</td>\n",
       "      <td>...</td>\n",
       "    </tr>\n",
       "    <tr>\n",
       "      <th>68</th>\n",
       "      <td>0.854748</td>\n",
       "      <td>30.118188</td>\n",
       "      <td>1.002496</td>\n",
       "      <td>2007</td>\n",
       "    </tr>\n",
       "    <tr>\n",
       "      <th>69</th>\n",
       "      <td>0.839453</td>\n",
       "      <td>5.931086</td>\n",
       "      <td>1.945130</td>\n",
       "      <td>1967</td>\n",
       "    </tr>\n",
       "    <tr>\n",
       "      <th>70</th>\n",
       "      <td>0.844834</td>\n",
       "      <td>5.921485</td>\n",
       "      <td>1.865137</td>\n",
       "      <td>1968</td>\n",
       "    </tr>\n",
       "    <tr>\n",
       "      <th>71</th>\n",
       "      <td>0.683453</td>\n",
       "      <td>78.884657</td>\n",
       "      <td>4.374926</td>\n",
       "      <td>1980</td>\n",
       "    </tr>\n",
       "    <tr>\n",
       "      <th>72</th>\n",
       "      <td>0.872147</td>\n",
       "      <td>44.086741</td>\n",
       "      <td>1.431760</td>\n",
       "      <td>2011</td>\n",
       "    </tr>\n",
       "  </tbody>\n",
       "</table>\n",
       "<p>2236 rows × 4 columns</p>\n",
       "</div>"
      ],
      "text/plain": [
       "    compactness      length  slimness  construction_year\n",
       "0      0.691192  102.603770  1.023658               1980\n",
       "1      0.841006    8.253281  1.919040               1965\n",
       "2      0.838316    8.253314  1.942397               1965\n",
       "3      0.843300    8.253614  1.868211               1965\n",
       "4      0.841116    8.255285  1.919815               1965\n",
       "..          ...         ...       ...                ...\n",
       "68     0.854748   30.118188  1.002496               2007\n",
       "69     0.839453    5.931086  1.945130               1967\n",
       "70     0.844834    5.921485  1.865137               1968\n",
       "71     0.683453   78.884657  4.374926               1980\n",
       "72     0.872147   44.086741  1.431760               2011\n",
       "\n",
       "[2236 rows x 4 columns]"
      ]
     },
     "execution_count": 902,
     "metadata": {},
     "output_type": "execute_result"
    }
   ],
   "source": [
    "features_embed"
   ]
  },
  {
   "cell_type": "code",
   "execution_count": 1056,
   "id": "4b53c020",
   "metadata": {},
   "outputs": [],
   "source": [
    "seed=3\n",
    "xtrain, xtest, ytrain, ytest = train_test_split(features_embed.values, Y, test_size=0.2, random_state=seed)"
   ]
  },
  {
   "cell_type": "code",
   "execution_count": 781,
   "id": "0dd01f2a",
   "metadata": {
    "scrolled": true
   },
   "outputs": [
    {
     "name": "stdout",
     "output_type": "stream",
     "text": [
      "Fitting 5 folds for each of 200 candidates, totalling 1000 fits\n",
      "{'n_estimators': 160, 'min_samples_split': 21, 'min_samples_leaf': 20, 'max_features': 2, 'max_depth': 40, 'bootstrap': True}\n"
     ]
    }
   ],
   "source": [
    "random_forest_model_test_base=RandomForestRegressor()\n",
    "random_forest_model_test_random=RandomizedSearchCV(estimator=random_forest_model_test_base,\n",
    "                                                   param_distributions=random_forest_hp_range,\n",
    "                                                   n_iter=200,\n",
    "                                                   n_jobs=-1,\n",
    "                                                   cv=5,\n",
    "                                                   verbose=1,\n",
    "                                                   random_state=random_forest_seed\n",
    "                                                   )\n",
    "random_forest_model_test_random.fit(xtrain,ytrain)\n",
    "\n",
    "best_hp_now=random_forest_model_test_random.best_params_\n",
    "print(best_hp_now)\n"
   ]
  },
  {
   "cell_type": "code",
   "execution_count": 635,
   "id": "3d278ae5",
   "metadata": {},
   "outputs": [
    {
     "name": "stdout",
     "output_type": "stream",
     "text": [
      "{'n_estimators': [198], 'max_features': [2, 3, 4], 'max_depth': [170, 172, 174, 176, 178, 180, 182, 184, 186, 188, 190], 'min_samples_split': [2], 'min_samples_leaf': [1], 'bootstrap': [True]}\n"
     ]
    }
   ],
   "source": [
    "# Search optimal hyperparameter\n",
    "n_estimators_range=[198]\n",
    "max_features_range=[2,3,4]\n",
    "max_depth_range=[int(x) for x in np.linspace(start=170,stop=190,num=11)]\n",
    "# max_depth_range.append(None)\n",
    "min_samples_split_range=[2]\n",
    "min_samples_leaf_range=[1]\n",
    "bootstrap_range=[True]\n",
    "\n",
    "random_forest_hp_range_2={'n_estimators':n_estimators_range,\n",
    "                        'max_features':max_features_range,\n",
    "                        'max_depth':max_depth_range,\n",
    "                        'min_samples_split':min_samples_split_range,\n",
    "                        'min_samples_leaf':min_samples_leaf_range,\n",
    "                        'bootstrap':bootstrap_range\n",
    "                        }\n",
    "print(random_forest_hp_range_2)"
   ]
  },
  {
   "cell_type": "code",
   "execution_count": 636,
   "id": "d391b6d7",
   "metadata": {},
   "outputs": [
    {
     "name": "stdout",
     "output_type": "stream",
     "text": [
      "Fitting 3 folds for each of 33 candidates, totalling 99 fits\n",
      "{'bootstrap': True, 'max_depth': 188, 'max_features': 4, 'min_samples_leaf': 1, 'min_samples_split': 2, 'n_estimators': 198}\n"
     ]
    }
   ],
   "source": [
    "# Grid Search\n",
    "# random_forest_hp_range_2={'n_estimators':[10,20,30],\n",
    "#                           'max_features':['auto'],\n",
    "#                           'max_depth':[3,5,8],\n",
    "#                           'min_samples_split':[3,5,8], # Greater than 1\n",
    "#                           'min_samples_leaf':[3,5,8]\n",
    "#                           # 'bootstrap':bootstrap_range\n",
    "#                           }\n",
    "random_forest_model_test_2_base=RandomForestRegressor()\n",
    "random_forest_model_test_2_random=GridSearchCV(estimator=random_forest_model_test_2_base,\n",
    "                                               param_grid=random_forest_hp_range_2,\n",
    "                                               cv=3,\n",
    "                                               verbose=1,\n",
    "                                               n_jobs=-1)\n",
    "random_forest_model_test_2_random.fit(xtrain,ytrain)\n",
    "\n",
    "best_hp_now_2=random_forest_model_test_2_random.best_params_\n",
    "print(best_hp_now_2)"
   ]
  },
  {
   "cell_type": "markdown",
   "id": "3fee965d",
   "metadata": {},
   "source": [
    "### build model"
   ]
  },
  {
   "cell_type": "code",
   "execution_count": 1057,
   "id": "da5e982a",
   "metadata": {},
   "outputs": [],
   "source": [
    "seed=3\n",
    "xtrain, xtest, ytrain, ytest = train_test_split(features_embed.values, Y, test_size=0.2, random_state=seed)"
   ]
  },
  {
   "cell_type": "code",
   "execution_count": 1058,
   "id": "2d1aafb3",
   "metadata": {},
   "outputs": [
    {
     "data": {
      "text/plain": [
       "0.13633322482986876"
      ]
     },
     "execution_count": 1058,
     "metadata": {},
     "output_type": "execute_result"
    }
   ],
   "source": [
    "rfc_embed = RandomForestRegressor(n_estimators=160, max_depth=40, random_state=3, n_jobs=-1, \n",
    "                                min_samples_split=21, min_samples_leaf=20, max_features=2)     #实例化 \n",
    "rfc_embed = rfc_embed.fit(xtrain,ytrain)       #用训练集数据训练模型 \n",
    "\n",
    "result = rfc_embed.score(xtest,ytest)    #导入测试集，rfc的接口score计算的是模型准确率accuracy\n",
    "result"
   ]
  },
  {
   "cell_type": "code",
   "execution_count": 1059,
   "id": "d541421c",
   "metadata": {},
   "outputs": [
    {
     "name": "stdout",
     "output_type": "stream",
     "text": [
      "Mean Absolute Error(MAE): 2.2042194925904393\n",
      "Median_Absolute_Error(MedAE): 1.6900032587119085\n",
      "Mean Squared Error(MSE): 11.93257296704993\n",
      "Root Mean Squared Error(RMSE): 3.4543556514999914\n",
      "r2_score Error(R2): 0.13633322482986887\n",
      "mean_absolute_percentage_error(MAPE): 0.37512663633011595\n",
      "max_error: 26.94553907035025\n",
      "mape%: 37.51266363301159\n",
      "smape%: 31.22096248842659\n"
     ]
    }
   ],
   "source": [
    "y_pred = rfc_embed.predict(xtest)\n",
    "\n",
    "# 评估回归性能\n",
    "print('Mean Absolute Error(MAE):', metrics.mean_absolute_error(ytest, y_pred))\n",
    "print(\"Median_Absolute_Error(MedAE):\", metrics.median_absolute_error(y_pred, ytest))\n",
    "print('Mean Squared Error(MSE):', metrics.mean_squared_error(ytest, y_pred))\n",
    "print('Root Mean Squared Error(RMSE):',np.sqrt(metrics.mean_squared_error(ytest, y_pred)))\n",
    "print('r2_score Error(R2):', metrics.r2_score(ytest,y_pred)) # 0-1\n",
    "print(\"mean_absolute_percentage_error(MAPE):\", mean_absolute_percentage_error(ytest,y_pred))\n",
    "print(\"max_error:\", metrics.max_error(ytest, y_pred))\n",
    "print(\"mape%:\", mape(ytest, y_pred))\n",
    "print(\"smape%:\", smape(ytest, y_pred))"
   ]
  },
  {
   "cell_type": "code",
   "execution_count": 1060,
   "id": "ed808b14",
   "metadata": {},
   "outputs": [
    {
     "data": {
      "image/png": "[encoded data removed]",
      "text/plain": [
       "<Figure size 288x288 with 1 Axes>"
      ]
     },
     "metadata": {
      "needs_background": "light"
     },
     "output_type": "display_data"
    }
   ],
   "source": [
    "plt.figure(figsize=(4,4))\n",
    "sns.kdeplot(ytest, label='true value')\n",
    "sns.kdeplot(y_pred, label='predict value')\n",
    "plt.xlim([-10,70])\n",
    "plt.ylim([-0.01,0.4])\n",
    "plt.xticks([0,3,5,10,15,20,30,40,50,60,70])\n",
    "\n",
    "plt.xlabel('Elevation (m)')\n",
    "\n",
    "plt.title('Embedded model R^2: %.4f'%metrics.r2_score(ytest,y_pred))\n",
    "plt.legend() \n",
    "plt.savefig('for_report/'+ 'e_tp2', dpi=500,bbox_inches='tight') # ,dpi=600"
   ]
  },
  {
   "cell_type": "code",
   "execution_count": 988,
   "id": "f62ba1a3",
   "metadata": {},
   "outputs": [
    {
     "name": "stdout",
     "output_type": "stream",
     "text": [
      "各feature的重要性：[0.2221 0.3717 0.1394 0.2668]\n"
     ]
    },
    {
     "data": {
      "image/png": "[encoded data removed]",
      "text/plain": [
       "<Figure size 288x288 with 1 Axes>"
      ]
     },
     "metadata": {
      "needs_background": "light"
     },
     "output_type": "display_data"
    }
   ],
   "source": [
    "print ('各feature的重要性：%s' % rfc_embed.feature_importances_)\n",
    "# 得到特征重要度分数\n",
    "importances_values = rfc_embed.feature_importances_\n",
    "importances = pd.DataFrame(importances_values, columns=[\"importance\"])\n",
    "\n",
    "feature_data = pd.DataFrame(features_embed.columns, columns=[\"feature\"])\n",
    "importance = pd.concat([feature_data, importances], axis=1)\n",
    "# 倒叙排序\n",
    "importance = importance.sort_values([\"importance\"], ascending=True)\n",
    "# importance[\"importance\"] = (importance[\"importance\"] * 1000).astype(int)\n",
    "importance = importance.sort_values([\"importance\"])\n",
    "importance.set_index('feature', inplace=True)\n",
    "importance.plot.barh(color='b', alpha=0.7, rot=0,figsize=(4, 4)) #figsize=(8, 8)\n",
    "\n",
    "plt.xlabel('Importance')\n",
    "plt.xlim([0, 0.4])\n",
    "plt.title('Embedded model R^2: %.4f'%metrics.r2_score(ytest,y_pred))\n",
    "\n",
    "plt.savefig('for_report/'+ 'embed2_import', dpi=500, bbox_inches='tight')\n",
    "\n",
    "plt.show()"
   ]
  },
  {
   "cell_type": "code",
   "execution_count": 705,
   "id": "1bb167be",
   "metadata": {},
   "outputs": [
    {
     "name": "stdout",
     "output_type": "stream",
     "text": [
      "各feature的重要性：[0.1609 0.1876 0.2152 0.2964 0.1399]\n"
     ]
    },
    {
     "data": {
      "image/png": "[encoded data removed]",
      "text/plain": [
       "<Figure size 360x360 with 1 Axes>"
      ]
     },
     "metadata": {
      "needs_background": "light"
     },
     "output_type": "display_data"
    }
   ],
   "source": [
    "# print ('各feature的重要性：%s' % rfc_embed.feature_importances_)\n",
    "# # 得到特征重要度分数\n",
    "# importances_values = rfc_embed.feature_importances_\n",
    "# importances = pd.DataFrame(importances_values, columns=[\"importance\"])\n",
    "\n",
    "# feature_data = pd.DataFrame(features_embed.columns, columns=[\"feature\"])\n",
    "# importance = pd.concat([feature_data, importances], axis=1)\n",
    "# # 倒叙排序\n",
    "# importance = importance.sort_values([\"importance\"], ascending=True)\n",
    "# # importance[\"importance\"] = (importance[\"importance\"] * 1000).astype(int)\n",
    "# importance = importance.sort_values([\"importance\"])\n",
    "# importance.set_index('feature', inplace=True)\n",
    "# importance.plot.barh(color='b', alpha=0.7, rot=0,figsize=(5, 5)) #figsize=(8, 8)\n",
    "# plt.xlabel('Importance')\n",
    "# # plt.ylabel('Variable');\n",
    "# # plt.bar_label(importance, label_type='edge')\n",
    "# # plt.savefig('for_report/'+ 'embed_import', dpi=500, bbox_inches='tight')\n",
    "\n",
    "# plt.show()"
   ]
  },
  {
   "cell_type": "markdown",
   "id": "032af1cd",
   "metadata": {},
   "source": [
    "## wrapper"
   ]
  },
  {
   "cell_type": "code",
   "execution_count": 644,
   "id": "800acf87",
   "metadata": {},
   "outputs": [
    {
     "name": "stdout",
     "output_type": "stream",
     "text": [
      "{'n_estimators': [1, 20, 40, 60, 80, 100, 120, 140, 160, 180, 200], 'max_features': [1, 2, 3, 4], 'max_depth': [1, 20, 40, 60, 80, 100, 120, 140, 160, 180, 200, None], 'min_samples_split': [2, 21, 41, 61, 81, 101, 120, 140, 160, 180, 200], 'min_samples_leaf': [1, 20, 40, 60, 80, 100, 120, 140, 160, 180, 200], 'bootstrap': [True, False]}\n"
     ]
    }
   ],
   "source": [
    "# # Search optimal hyperparameter\n",
    "# n_estimators_range=[int(x) for x in np.linspace(start=1,stop=200,num=11)]\n",
    "# # max_features_range=['auto','sqrt']\n",
    "# max_features_range=[int(x) for x in np.linspace(start=1,stop=4,num=4)]\n",
    "# max_depth_range=[int(x) for x in np.linspace(start=1,stop=200,num=11)]\n",
    "# max_depth_range.append(None)\n",
    "# min_samples_split_range=[int(x) for x in np.linspace(start=2,stop=200,num=11)]\n",
    "# min_samples_leaf_range=[int(x) for x in np.linspace(start=1,stop=200,num=11)]\n",
    "# bootstrap_range=[True,False]\n",
    "\n",
    "# random_forest_hp_range={'n_estimators':n_estimators_range,\n",
    "#                         'max_features':max_features_range,\n",
    "#                         'max_depth':max_depth_range,\n",
    "#                         'min_samples_split':min_samples_split_range,\n",
    "#                         'min_samples_leaf':min_samples_leaf_range,\n",
    "#                         'bootstrap':bootstrap_range\n",
    "#                         }\n",
    "# print(random_forest_hp_range)"
   ]
  },
  {
   "cell_type": "code",
   "execution_count": 785,
   "id": "372ceadc",
   "metadata": {
    "collapsed": true
   },
   "outputs": [
    {
     "data": {
      "text/html": [
       "<div>\n",
       "<style scoped>\n",
       "    .dataframe tbody tr th:only-of-type {\n",
       "        vertical-align: middle;\n",
       "    }\n",
       "\n",
       "    .dataframe tbody tr th {\n",
       "        vertical-align: top;\n",
       "    }\n",
       "\n",
       "    .dataframe thead th {\n",
       "        text-align: right;\n",
       "    }\n",
       "</style>\n",
       "<table border=\"1\" class=\"dataframe\">\n",
       "  <thead>\n",
       "    <tr style=\"text-align: right;\">\n",
       "      <th></th>\n",
       "      <th>area</th>\n",
       "      <th>complexity</th>\n",
       "      <th>length</th>\n",
       "      <th>slimness</th>\n",
       "    </tr>\n",
       "  </thead>\n",
       "  <tbody>\n",
       "    <tr>\n",
       "      <th>0</th>\n",
       "      <td>6592.779885</td>\n",
       "      <td>46.214003</td>\n",
       "      <td>102.603770</td>\n",
       "      <td>1.023658</td>\n",
       "    </tr>\n",
       "    <tr>\n",
       "      <th>1</th>\n",
       "      <td>35.465523</td>\n",
       "      <td>10.286257</td>\n",
       "      <td>8.253281</td>\n",
       "      <td>1.919040</td>\n",
       "    </tr>\n",
       "    <tr>\n",
       "      <th>2</th>\n",
       "      <td>34.741311</td>\n",
       "      <td>10.266181</td>\n",
       "      <td>8.253314</td>\n",
       "      <td>1.942397</td>\n",
       "    </tr>\n",
       "    <tr>\n",
       "      <th>3</th>\n",
       "      <td>36.157559</td>\n",
       "      <td>10.307957</td>\n",
       "      <td>8.253614</td>\n",
       "      <td>1.868211</td>\n",
       "    </tr>\n",
       "    <tr>\n",
       "      <th>4</th>\n",
       "      <td>35.491882</td>\n",
       "      <td>10.286823</td>\n",
       "      <td>8.255285</td>\n",
       "      <td>1.919815</td>\n",
       "    </tr>\n",
       "    <tr>\n",
       "      <th>...</th>\n",
       "      <td>...</td>\n",
       "      <td>...</td>\n",
       "      <td>...</td>\n",
       "      <td>...</td>\n",
       "    </tr>\n",
       "    <tr>\n",
       "      <th>68</th>\n",
       "      <td>842.878881</td>\n",
       "      <td>22.346416</td>\n",
       "      <td>30.118188</td>\n",
       "      <td>1.002496</td>\n",
       "    </tr>\n",
       "    <tr>\n",
       "      <th>69</th>\n",
       "      <td>18.082515</td>\n",
       "      <td>8.708093</td>\n",
       "      <td>5.931086</td>\n",
       "      <td>1.945130</td>\n",
       "    </tr>\n",
       "    <tr>\n",
       "      <th>70</th>\n",
       "      <td>18.795591</td>\n",
       "      <td>8.736703</td>\n",
       "      <td>5.921485</td>\n",
       "      <td>1.865137</td>\n",
       "    </tr>\n",
       "    <tr>\n",
       "      <th>71</th>\n",
       "      <td>1364.665578</td>\n",
       "      <td>31.524848</td>\n",
       "      <td>78.884657</td>\n",
       "      <td>4.374926</td>\n",
       "    </tr>\n",
       "    <tr>\n",
       "      <th>72</th>\n",
       "      <td>1357.504121</td>\n",
       "      <td>24.671796</td>\n",
       "      <td>44.086741</td>\n",
       "      <td>1.431760</td>\n",
       "    </tr>\n",
       "  </tbody>\n",
       "</table>\n",
       "<p>2236 rows × 4 columns</p>\n",
       "</div>"
      ],
      "text/plain": [
       "           area  complexity      length  slimness\n",
       "0   6592.779885   46.214003  102.603770  1.023658\n",
       "1     35.465523   10.286257    8.253281  1.919040\n",
       "2     34.741311   10.266181    8.253314  1.942397\n",
       "3     36.157559   10.307957    8.253614  1.868211\n",
       "4     35.491882   10.286823    8.255285  1.919815\n",
       "..          ...         ...         ...       ...\n",
       "68   842.878881   22.346416   30.118188  1.002496\n",
       "69    18.082515    8.708093    5.931086  1.945130\n",
       "70    18.795591    8.736703    5.921485  1.865137\n",
       "71  1364.665578   31.524848   78.884657  4.374926\n",
       "72  1357.504121   24.671796   44.086741  1.431760\n",
       "\n",
       "[2236 rows x 4 columns]"
      ]
     },
     "execution_count": 785,
     "metadata": {},
     "output_type": "execute_result"
    }
   ],
   "source": [
    "features_wrap"
   ]
  },
  {
   "cell_type": "code",
   "execution_count": 942,
   "id": "fc0c154b",
   "metadata": {},
   "outputs": [],
   "source": [
    "seed=3\n",
    "xtrain, xtest, ytrain, ytest = train_test_split(features_wrap.values, Y, test_size=0.2, random_state=seed)"
   ]
  },
  {
   "cell_type": "code",
   "execution_count": 787,
   "id": "e663c26d",
   "metadata": {},
   "outputs": [
    {
     "name": "stdout",
     "output_type": "stream",
     "text": [
      "Fitting 5 folds for each of 200 candidates, totalling 1000 fits\n",
      "{'n_estimators': 160, 'min_samples_split': 21, 'min_samples_leaf': 20, 'max_features': 2, 'max_depth': 40, 'bootstrap': True}\n"
     ]
    }
   ],
   "source": [
    "random_forest_model_test_base=RandomForestRegressor()\n",
    "random_forest_model_test_random=RandomizedSearchCV(estimator=random_forest_model_test_base,\n",
    "                                                   param_distributions=random_forest_hp_range,\n",
    "                                                   n_iter=200,\n",
    "                                                   n_jobs=-1,\n",
    "                                                   cv=5,\n",
    "                                                   verbose=1,\n",
    "                                                   random_state=random_forest_seed\n",
    "                                                   )\n",
    "random_forest_model_test_random.fit(xtrain,ytrain)\n",
    "\n",
    "best_hp_now=random_forest_model_test_random.best_params_\n",
    "print(best_hp_now)"
   ]
  },
  {
   "cell_type": "code",
   "execution_count": 657,
   "id": "00bdb607",
   "metadata": {},
   "outputs": [
    {
     "name": "stdout",
     "output_type": "stream",
     "text": [
      "{'n_estimators': [195, 198, 202, 206, 210, 214, 218, 222, 226, 230], 'max_features': [3, 4], 'max_depth': [None], 'min_samples_split': [2, 3, 4], 'min_samples_leaf': [1, 2, 3], 'bootstrap': [True]}\n"
     ]
    }
   ],
   "source": [
    "# Search optimal hyperparameter\n",
    "n_estimators_range=[int(x) for x in np.linspace(start=195,stop=230,num=10)]\n",
    "max_features_range=[3,4]\n",
    "max_depth_range=[]\n",
    "max_depth_range.append(None)\n",
    "min_samples_split_range=[int(x) for x in np.linspace(start=2,stop=4,num=3)]\n",
    "min_samples_leaf_range=[int(x) for x in np.linspace(start=1,stop=3,num=3)]\n",
    "bootstrap_range=[True]\n",
    "\n",
    "random_forest_hp_range_2={'n_estimators':n_estimators_range,\n",
    "                        'max_features':max_features_range,\n",
    "                        'max_depth':max_depth_range,\n",
    "                        'min_samples_split':min_samples_split_range,\n",
    "                        'min_samples_leaf':min_samples_leaf_range,\n",
    "                        'bootstrap':bootstrap_range\n",
    "                        }\n",
    "print(random_forest_hp_range_2)"
   ]
  },
  {
   "cell_type": "code",
   "execution_count": 658,
   "id": "cfb27881",
   "metadata": {},
   "outputs": [
    {
     "name": "stdout",
     "output_type": "stream",
     "text": [
      "Fitting 3 folds for each of 180 candidates, totalling 540 fits\n",
      "{'bootstrap': True, 'max_depth': None, 'max_features': 4, 'min_samples_leaf': 1, 'min_samples_split': 2, 'n_estimators': 202}\n"
     ]
    }
   ],
   "source": [
    "# Grid Search\n",
    "# random_forest_hp_range_2={'n_estimators':[80,100,120],\n",
    "#                           'max_features':['auto'],\n",
    "#                           'max_depth':[8,10,12],\n",
    "#                           'min_samples_split':[25,30,35], # Greater than 1\n",
    "#                           'min_samples_leaf':[3,5,8]\n",
    "#                           # 'bootstrap':bootstrap_range\n",
    "#                           }\n",
    "random_forest_model_test_2_base=RandomForestRegressor()\n",
    "random_forest_model_test_2_random=GridSearchCV(estimator=random_forest_model_test_2_base,\n",
    "                                               param_grid=random_forest_hp_range_2,\n",
    "                                               cv=3,\n",
    "                                               verbose=1,\n",
    "                                               n_jobs=-1)\n",
    "random_forest_model_test_2_random.fit(xtrain,ytrain)\n",
    "\n",
    "best_hp_now_2=random_forest_model_test_2_random.best_params_\n",
    "print(best_hp_now_2)"
   ]
  },
  {
   "cell_type": "markdown",
   "id": "a4d6a9e8",
   "metadata": {},
   "source": [
    "### Build "
   ]
  },
  {
   "cell_type": "code",
   "execution_count": 694,
   "id": "97eeb584",
   "metadata": {
    "collapsed": true
   },
   "outputs": [
    {
     "data": {
      "text/html": [
       "<div>\n",
       "<style scoped>\n",
       "    .dataframe tbody tr th:only-of-type {\n",
       "        vertical-align: middle;\n",
       "    }\n",
       "\n",
       "    .dataframe tbody tr th {\n",
       "        vertical-align: top;\n",
       "    }\n",
       "\n",
       "    .dataframe thead th {\n",
       "        text-align: right;\n",
       "    }\n",
       "</style>\n",
       "<table border=\"1\" class=\"dataframe\">\n",
       "  <thead>\n",
       "    <tr style=\"text-align: right;\">\n",
       "      <th></th>\n",
       "      <th>area</th>\n",
       "      <th>compactness</th>\n",
       "      <th>length</th>\n",
       "      <th>slimness</th>\n",
       "    </tr>\n",
       "  </thead>\n",
       "  <tbody>\n",
       "    <tr>\n",
       "      <th>0</th>\n",
       "      <td>6592.779885</td>\n",
       "      <td>0.691192</td>\n",
       "      <td>102.603770</td>\n",
       "      <td>1.023658</td>\n",
       "    </tr>\n",
       "    <tr>\n",
       "      <th>1</th>\n",
       "      <td>35.465523</td>\n",
       "      <td>0.841006</td>\n",
       "      <td>8.253281</td>\n",
       "      <td>1.919040</td>\n",
       "    </tr>\n",
       "    <tr>\n",
       "      <th>2</th>\n",
       "      <td>34.741311</td>\n",
       "      <td>0.838316</td>\n",
       "      <td>8.253314</td>\n",
       "      <td>1.942397</td>\n",
       "    </tr>\n",
       "    <tr>\n",
       "      <th>3</th>\n",
       "      <td>36.157559</td>\n",
       "      <td>0.843300</td>\n",
       "      <td>8.253614</td>\n",
       "      <td>1.868211</td>\n",
       "    </tr>\n",
       "    <tr>\n",
       "      <th>4</th>\n",
       "      <td>35.491882</td>\n",
       "      <td>0.841116</td>\n",
       "      <td>8.255285</td>\n",
       "      <td>1.919815</td>\n",
       "    </tr>\n",
       "    <tr>\n",
       "      <th>...</th>\n",
       "      <td>...</td>\n",
       "      <td>...</td>\n",
       "      <td>...</td>\n",
       "      <td>...</td>\n",
       "    </tr>\n",
       "    <tr>\n",
       "      <th>68</th>\n",
       "      <td>842.878881</td>\n",
       "      <td>0.854748</td>\n",
       "      <td>30.118188</td>\n",
       "      <td>1.002496</td>\n",
       "    </tr>\n",
       "    <tr>\n",
       "      <th>69</th>\n",
       "      <td>18.082515</td>\n",
       "      <td>0.839453</td>\n",
       "      <td>5.931086</td>\n",
       "      <td>1.945130</td>\n",
       "    </tr>\n",
       "    <tr>\n",
       "      <th>70</th>\n",
       "      <td>18.795591</td>\n",
       "      <td>0.844834</td>\n",
       "      <td>5.921485</td>\n",
       "      <td>1.865137</td>\n",
       "    </tr>\n",
       "    <tr>\n",
       "      <th>71</th>\n",
       "      <td>1364.665578</td>\n",
       "      <td>0.683453</td>\n",
       "      <td>78.884657</td>\n",
       "      <td>4.374926</td>\n",
       "    </tr>\n",
       "    <tr>\n",
       "      <th>72</th>\n",
       "      <td>1357.504121</td>\n",
       "      <td>0.872147</td>\n",
       "      <td>44.086741</td>\n",
       "      <td>1.431760</td>\n",
       "    </tr>\n",
       "  </tbody>\n",
       "</table>\n",
       "<p>2238 rows × 4 columns</p>\n",
       "</div>"
      ],
      "text/plain": [
       "           area  compactness      length  slimness\n",
       "0   6592.779885     0.691192  102.603770  1.023658\n",
       "1     35.465523     0.841006    8.253281  1.919040\n",
       "2     34.741311     0.838316    8.253314  1.942397\n",
       "3     36.157559     0.843300    8.253614  1.868211\n",
       "4     35.491882     0.841116    8.255285  1.919815\n",
       "..          ...          ...         ...       ...\n",
       "68   842.878881     0.854748   30.118188  1.002496\n",
       "69    18.082515     0.839453    5.931086  1.945130\n",
       "70    18.795591     0.844834    5.921485  1.865137\n",
       "71  1364.665578     0.683453   78.884657  4.374926\n",
       "72  1357.504121     0.872147   44.086741  1.431760\n",
       "\n",
       "[2238 rows x 4 columns]"
      ]
     },
     "execution_count": 694,
     "metadata": {},
     "output_type": "execute_result"
    }
   ],
   "source": [
    "# features_wrap"
   ]
  },
  {
   "cell_type": "code",
   "execution_count": 21,
   "id": "a777e908",
   "metadata": {},
   "outputs": [],
   "source": [
    "seed=3\n",
    "xtrain, xtest, ytrain, ytest = train_test_split(features_wrap.values, Y, test_size=0.2, random_state=seed)"
   ]
  },
  {
   "cell_type": "code",
   "execution_count": 22,
   "id": "ff20023c",
   "metadata": {},
   "outputs": [
    {
     "data": {
      "text/plain": [
       "0.13580393689420633"
      ]
     },
     "execution_count": 22,
     "metadata": {},
     "output_type": "execute_result"
    }
   ],
   "source": [
    "rfc_wrapper = RandomForestRegressor(n_estimators=160, max_depth=40, random_state=3,n_jobs=-1, \n",
    "                                   min_samples_split=21, min_samples_leaf=20, max_features=2)     #实例化 \n",
    "rfc_wrapper = rfc_wrapper.fit(xtrain,ytrain)       #用训练集数据训练模型 \n",
    "\n",
    "result = rfc_wrapper.score(xtest,ytest)    #导入测试集，rfc的接口score计算的是模型准确率accuracy\n",
    "result"
   ]
  },
  {
   "cell_type": "code",
   "execution_count": 23,
   "id": "bcaa37f9",
   "metadata": {},
   "outputs": [
    {
     "name": "stdout",
     "output_type": "stream",
     "text": [
      "Mean Absolute Error(MAE): 2.224031981801073\n",
      "Median_Absolute_Error(MedAE): 1.6825575840543494\n",
      "Mean Squared Error(MSE): 11.939885702811507\n",
      "Root Mean Squared Error(RMSE): 3.4554139698177275\n",
      "r2_score Error(R2): 0.13580393689420633\n",
      "mean_absolute_percentage_error(MAPE): 0.38384363567765184\n",
      "max_error: 26.93334727357864\n",
      "mape%: 38.384363567765185\n",
      "smape%: 31.617917171142967\n"
     ]
    }
   ],
   "source": [
    "y_pred = rfc_wrapper.predict(xtest)\n",
    "\n",
    "# 评估回归性能\n",
    "print('Mean Absolute Error(MAE):', metrics.mean_absolute_error(ytest, y_pred))\n",
    "print(\"Median_Absolute_Error(MedAE):\", metrics.median_absolute_error(y_pred, ytest))\n",
    "print('Mean Squared Error(MSE):', metrics.mean_squared_error(ytest, y_pred))\n",
    "print('Root Mean Squared Error(RMSE):',np.sqrt(metrics.mean_squared_error(ytest, y_pred)))\n",
    "print('r2_score Error(R2):', metrics.r2_score(ytest,y_pred)) # 0-1\n",
    "print(\"mean_absolute_percentage_error(MAPE):\", mean_absolute_percentage_error(ytest,y_pred))\n",
    "print(\"max_error:\", metrics.max_error(ytest, y_pred))\n",
    "print(\"mape%:\", mape(ytest, y_pred))\n",
    "print(\"smape%:\", smape(ytest, y_pred))"
   ]
  },
  {
   "cell_type": "code",
   "execution_count": 28,
   "id": "1038bef5",
   "metadata": {},
   "outputs": [
    {
     "data": {
      "image/png": "[encoded data removed]",
      "text/plain": [
       "<Figure size 288x288 with 1 Axes>"
      ]
     },
     "metadata": {
      "needs_background": "light"
     },
     "output_type": "display_data"
    }
   ],
   "source": [
    "plt.figure(figsize=(4,4))\n",
    "sns.kdeplot(ytest, label='true value')\n",
    "sns.kdeplot(y_pred, label='predict value')\n",
    "plt.xlim([-10,70])\n",
    "plt.ylim([-0.01,0.41])\n",
    "plt.xticks([0,3,5,10,15,20,30,40,50,60,70])\n",
    "\n",
    "plt.xlabel('Elevation (m)')\n",
    "plt.title('Wrapper model R^2: %.4f'%metrics.r2_score(ytest,y_pred))\n",
    "plt.legend() \n",
    "plt.savefig('for_report/'+ 'w_tp2', dpi=500,bbox_inches='tight') # ,dpi=600"
   ]
  },
  {
   "cell_type": "code",
   "execution_count": 1044,
   "id": "fd610bc6",
   "metadata": {
    "scrolled": false
   },
   "outputs": [
    {
     "data": {
      "image/png": "[encoded data removed]",
      "text/plain": [
       "<Figure size 288x288 with 1 Axes>"
      ]
     },
     "metadata": {
      "needs_background": "light"
     },
     "output_type": "display_data"
    }
   ],
   "source": [
    "plt.figure(figsize=(4,4))\n",
    "bb= 50\n",
    "aa = 0.5\n",
    "plt.hist(ytest, label='true value',bins = bb, alpha = aa) #, ,'go-'\n",
    "plt.hist(y_pred, label='predict value', bins = bb, alpha =aa) # ,,'ro-'\n",
    "# sns.kdeplot(ytest, label='true value',ax)\n",
    "# sns.kdeplot(y_pred, label='predict value')\n",
    "plt.title('RandomForestRegression R^2: %f'%score)\n",
    "plt.legend()        # 将样例显示出来\n",
    "plt.show()"
   ]
  },
  {
   "cell_type": "code",
   "execution_count": 1041,
   "id": "2dac4fd5",
   "metadata": {},
   "outputs": [
    {
     "data": {
      "image/png": "[encoded data removed]",
      "text/plain": [
       "<Figure size 360x288 with 1 Axes>"
      ]
     },
     "metadata": {
      "needs_background": "light"
     },
     "output_type": "display_data"
    }
   ],
   "source": [
    "plt.figure(figsize=(5,4))\n",
    "ss = 4\n",
    "plt.scatter(ytest, np.arange(len(y_pred)),  label='true value',s=ss) #, ,'go-'\n",
    "plt.scatter(y_pred, np.arange(len(y_pred)), label='predict value',s=ss) # ,,'ro-'\n",
    "plt.title('RandomForestRegression R^2: %f'%score)\n",
    "plt.legend()        # 将样例显示出来\n",
    "plt.show()"
   ]
  },
  {
   "cell_type": "code",
   "execution_count": 1047,
   "id": "04fbcf06",
   "metadata": {},
   "outputs": [
    {
     "data": {
      "image/png": "[encoded data removed]",
      "text/plain": [
       "<Figure size 360x288 with 1 Axes>"
      ]
     },
     "metadata": {
      "needs_background": "light"
     },
     "output_type": "display_data"
    }
   ],
   "source": [
    "plt.figure(figsize=(5,4))\n",
    "ss = 4\n",
    "plt.plot(ytest, label='true value') #, ,'go-'\n",
    "plt.plot(y_pred, label='predict value') # ,,'ro-'\n",
    "plt.title('RandomForestRegression R^2: %f'%score)\n",
    "plt.legend()        # 将样例显示出来\n",
    "plt.show()"
   ]
  },
  {
   "cell_type": "markdown",
   "id": "59feb2d7",
   "metadata": {},
   "source": [
    "### importance"
   ]
  },
  {
   "cell_type": "code",
   "execution_count": 995,
   "id": "01b14d64",
   "metadata": {},
   "outputs": [
    {
     "name": "stdout",
     "output_type": "stream",
     "text": [
      "各feature的重要性：[0.2550 0.2830 0.2942 0.1678]\n"
     ]
    },
    {
     "data": {
      "image/png": "[encoded data removed]",
      "text/plain": [
       "<Figure size 288x216 with 1 Axes>"
      ]
     },
     "metadata": {
      "needs_background": "light"
     },
     "output_type": "display_data"
    }
   ],
   "source": [
    "print ('各feature的重要性：%s' % rfc_wrapper.feature_importances_)\n",
    "# 得到特征重要度分数\n",
    "importances_values = rfc_wrapper.feature_importances_\n",
    "importances = pd.DataFrame(importances_values, columns=[\"importance\"])\n",
    "\n",
    "feature_data = pd.DataFrame(features_wrap.columns, columns=[\"feature\"])\n",
    "importance = pd.concat([feature_data, importances], axis=1)\n",
    "# 倒叙排序\n",
    "importance = importance.sort_values([\"importance\"], ascending=True)\n",
    "# importance[\"importance\"] = (importance[\"importance\"] * 1000).astype(int)\n",
    "importance = importance.sort_values([\"importance\"])\n",
    "importance.set_index('feature', inplace=True)\n",
    "importance.plot.barh(color='b', alpha=0.7, rot=0,figsize=(4,3)) #figsize=(8, 8)\n",
    "\n",
    "plt.xlim([0, 0.6])\n",
    "plt.xlabel('Importance')\n",
    "plt.title('Wrapper model R^2: %.4f'%metrics.r2_score(ytest,y_pred))\n",
    "\n",
    "plt.savefig('for_report/'+ 'wrapper2_import', dpi=500, bbox_inches='tight')\n",
    "\n",
    "plt.show()"
   ]
  },
  {
   "cell_type": "code",
   "execution_count": 806,
   "id": "afef48aa",
   "metadata": {},
   "outputs": [
    {
     "name": "stdout",
     "output_type": "stream",
     "text": [
      "各feature的重要性：[0.2486 0.3524 0.2618 0.1372]\n"
     ]
    },
    {
     "data": {
      "image/png": "[encoded data removed]",
      "text/plain": [
       "<Figure size 360x216 with 1 Axes>"
      ]
     },
     "metadata": {
      "needs_background": "light"
     },
     "output_type": "display_data"
    }
   ],
   "source": [
    "# print ('各feature的重要性：%s' % rfc_wrapper.feature_importances_)\n",
    "# # 得到特征重要度分数\n",
    "# importances_values = rfc_wrapper.feature_importances_\n",
    "# importances = pd.DataFrame(importances_values, columns=[\"importance\"])\n",
    "\n",
    "# feature_data = pd.DataFrame(features_wrap.columns, columns=[\"feature\"])\n",
    "# importance = pd.concat([feature_data, importances], axis=1)\n",
    "# # 倒叙排序\n",
    "# importance = importance.sort_values([\"importance\"], ascending=True)\n",
    "# # importance[\"importance\"] = (importance[\"importance\"] * 1000).astype(int)\n",
    "# importance = importance.sort_values([\"importance\"])\n",
    "# importance.set_index('feature', inplace=True)\n",
    "# importance.plot.barh(color='b', alpha=0.7, rot=0,figsize=(4, 3)) #figsize=(8, 8)\n",
    "# plt.xlabel('Importance')\n",
    "# # plt.savefig('for_report/'+ 'wrapper_import', dpi=500, bbox_inches='tight')\n",
    "\n",
    "# # plt.ylabel('Variable');\n",
    "# plt.show()"
   ]
  },
  {
   "cell_type": "code",
   "execution_count": null,
   "id": "f6fca4a1",
   "metadata": {},
   "outputs": [],
   "source": []
  },
  {
   "cell_type": "code",
   "execution_count": null,
   "id": "468bfcb1",
   "metadata": {},
   "outputs": [],
   "source": []
  },
  {
   "cell_type": "markdown",
   "id": "91508f2a",
   "metadata": {},
   "source": [
    "## 建立模型"
   ]
  },
  {
   "cell_type": "code",
   "execution_count": null,
   "id": "27b8ec1f",
   "metadata": {},
   "outputs": [],
   "source": [
    "rfc = RandomForestRegressor(n_estimators=22, max_depth=160, random_state=3,n_jobs=-1, \n",
    "                                min_samples_split=4, min_samples_leaf=2, max_features='sqrt')     #实例化 \n",
    "rfc = rfc.fit(xtrain,ytrain)       #用训练集数据训练模型 \n",
    "\n",
    "result = rfc.score(xtest,ytest)    #导入测试集，rfc的接口score计算的是模型准确率accuracy\n",
    "result"
   ]
  },
  {
   "cell_type": "code",
   "execution_count": 668,
   "id": "3363e4b4",
   "metadata": {},
   "outputs": [
    {
     "name": "stdout",
     "output_type": "stream",
     "text": [
      "Model score: -0.013372872258586854\n",
      "Mean Absolute Error(MAE): 2.692684312013306\n",
      "Median_Absolute_Error(MedAE): 1.8550993677634173\n",
      "Mean Squared Error(MSE): 53.21840691671764\n",
      "Root Mean Squared Error(RMSE): 7.295094716089547\n",
      "r2_score Error(R2): -0.013372872258586854\n",
      "mean_absolute_percentage_error(MAPE): 0.42136768747331477\n",
      "max_error: 137.66426386648294\n"
     ]
    }
   ],
   "source": [
    "# build model\n",
    "regressor = RandomForestRegressor(n_estimators=60, random_state=0, \n",
    "                                  min_samples_split=60, min_samples_leaf=15, max_features='sqrt')\n",
    "regressor.fit(xtrain, ytrain)\n",
    "\n",
    "y_pred = regressor.predict(xtest)\n",
    "\n",
    "\n",
    "score = regressor.score(xtest,ytest)\n",
    "print(\"Model score:\", score)\n",
    "\n",
    "# 评估回归性能\n",
    "print('Mean Absolute Error(MAE):', metrics.mean_absolute_error(ytest, y_pred))\n",
    "print(\"Median_Absolute_Error(MedAE):\", metrics.median_absolute_error(y_pred, ytest))\n",
    "print('Mean Squared Error(MSE):', metrics.mean_squared_error(ytest, y_pred))\n",
    "print('Root Mean Squared Error(RMSE):',\n",
    "      np.sqrt(metrics.mean_squared_error(ytest, y_pred)))\n",
    "print('r2_score Error(R2):', metrics.r2_score(ytest,y_pred)) # 0-1\n",
    "print(\"mean_absolute_percentage_error(MAPE):\", mean_absolute_percentage_error(ytest,y_pred))\n",
    "print(\"max_error:\", metrics.max_error(ytest, y_pred))"
   ]
  },
  {
   "cell_type": "markdown",
   "id": "f2f3db09",
   "metadata": {},
   "source": [
    "## 可视化"
   ]
  },
  {
   "cell_type": "code",
   "execution_count": 797,
   "id": "599d5b2c",
   "metadata": {},
   "outputs": [
    {
     "data": {
      "image/png": "[encoded data removed]",
      "text/plain": [
       "<Figure size 432x288 with 1 Axes>"
      ]
     },
     "metadata": {
      "needs_background": "light"
     },
     "output_type": "display_data"
    }
   ],
   "source": [
    "# visualiz prediction\n",
    "plt.figure()\n",
    "s = 50\n",
    "a = 0.4\n",
    "plt.scatter(xtest[:,0], ytest, edgecolor='k',\n",
    "            c=\"navy\", s=s, marker=\"s\", alpha=a, label=\"Data\")\n",
    "\n",
    "plt.scatter(xtest[:,0], y_pred, edgecolor='k',\n",
    "            c=\"c\", s=s, marker=\"^\", alpha=a,\n",
    "            label=\"RF score=%.2f\" % regressor.score(xtest, ytest))\n",
    "plt.ylim([0, 20])\n",
    "\n",
    "plt.xlabel(\"X_test\")\n",
    "plt.ylabel(\"target\")\n",
    "plt.title(\"Comparing random forests and the test\")\n",
    "plt.legend()\n",
    "plt.show()"
   ]
  },
  {
   "cell_type": "code",
   "execution_count": 800,
   "id": "cfde8747",
   "metadata": {},
   "outputs": [
    {
     "data": {
      "image/png": "[encoded data removed]",
      "text/plain": [
       "<Figure size 792x288 with 1 Axes>"
      ]
     },
     "metadata": {
      "needs_background": "light"
     },
     "output_type": "display_data"
    }
   ],
   "source": [
    "plt.figure(figsize=(11,4))\n",
    "plt.scatter(np.arange(len(y_pred)), ytest, label='true value') #, ,'go-'\n",
    "plt.scatter(np.arange(len(y_pred)), y_pred, label='predict value') # ,,'ro-'\n",
    "plt.title('RandomForestRegression R^2: %f'%score)\n",
    "plt.legend()        # 将样例显示出来\n",
    "plt.show()"
   ]
  },
  {
   "cell_type": "code",
   "execution_count": 805,
   "id": "62e158d0",
   "metadata": {},
   "outputs": [
    {
     "data": {
      "text/plain": [
       "<matplotlib.legend.Legend at 0x15efcb490>"
      ]
     },
     "execution_count": 805,
     "metadata": {},
     "output_type": "execute_result"
    },
    {
     "data": {
      "image/png": "[encoded data removed]",
      "text/plain": [
       "<Figure size 432x288 with 1 Axes>"
      ]
     },
     "metadata": {
      "needs_background": "light"
     },
     "output_type": "display_data"
    }
   ],
   "source": [
    "def showt_p(ytest, y_pred, score,):\n",
    "    sns.kdeplot(ytest, label='true value')\n",
    "    sns.kdeplot(y_pred, label='predict value')\n",
    "\n",
    "    plt.title('RandomForestRegression R^2: %f'%score)\n",
    "    plt.legend() "
   ]
  },
  {
   "cell_type": "markdown",
   "id": "fa1e9eee",
   "metadata": {},
   "source": [
    "## 特征重要性"
   ]
  },
  {
   "cell_type": "code",
   "execution_count": null,
   "id": "c76499f9",
   "metadata": {
    "scrolled": true
   },
   "outputs": [],
   "source": [
    "print ('各feature的重要性：%s' % regressor.feature_importances_)"
   ]
  },
  {
   "cell_type": "code",
   "execution_count": null,
   "id": "0078ca0a",
   "metadata": {},
   "outputs": [],
   "source": [
    "# Get numerical feature importances\n",
    "importances = list(regressor.feature_importances_)\n",
    "# List of tuples with variable and importance\n",
    "# print(importances)\n",
    "\n",
    "# Saving feature names for later use\n",
    "feature_list = features.columns\n",
    "# feature_list = [\"area\",\"compactness\",'complexity','length','width',\"slimness\",\n",
    "#                \"adjacent_buildings\",'construction_year']\n",
    "\n",
    "feature_importances = [(feature, round(importance, 2)) for feature, importance in zip(feature_list, importances)]\n",
    "# Sort the feature importances by most important first\n",
    "feature_importances = sorted(feature_importances, key = lambda x: x[1], reverse = True)\n",
    "# Print out the feature and importances \n",
    "# [print('Variable: {:20} Importance: {}'.format(*pair)) for pair in feature_importances];\n",
    "\n",
    "\n",
    "# Set the style\n",
    "# plt.style.use('fivethirtyeight')\n",
    "# list of x locations for plotting\n",
    "x_values = list(range(len(importances)))\n",
    "# print(x_values)\n",
    "# Make a bar chart\n",
    "# plt.bar(x_values, importances, orientation = 'vertical')\n",
    "plt.barh(x_values, importances)\n",
    "\n",
    "# Tick labels for x axis\n",
    "plt.yticks(x_values, feature_list,rotation=6)\n",
    "# Axis labels and title\n",
    "plt.xlabel('Importance'); plt.ylabel('Variable'); plt.title('Variable Importances');\n",
    "plt.show()"
   ]
  },
  {
   "cell_type": "code",
   "execution_count": null,
   "id": "76693b69",
   "metadata": {},
   "outputs": [],
   "source": []
  },
  {
   "cell_type": "code",
   "execution_count": null,
   "id": "e6e08dfb",
   "metadata": {},
   "outputs": [],
   "source": []
  },
  {
   "cell_type": "code",
   "execution_count": null,
   "id": "845032da",
   "metadata": {},
   "outputs": [],
   "source": []
  },
  {
   "cell_type": "code",
   "execution_count": null,
   "id": "2531b657",
   "metadata": {},
   "outputs": [],
   "source": [
    "from statsmodels.stats.outliers_influence import variance_inflation_factor"
   ]
  }
 ],
 "metadata": {
  "kernelspec": {
   "display_name": "Python 3 (ipykernel)",
   "language": "python",
   "name": "python3"
  },
  "language_info": {
   "codemirror_mode": {
    "name": "ipython",
    "version": 3
   },
   "file_extension": ".py",
   "mimetype": "text/x-python",
   "name": "python",
   "nbconvert_exporter": "python",
   "pygments_lexer": "ipython3",
   "version": "3.8.12"
  }
 },
 "nbformat": 4,
 "nbformat_minor": 5
}
